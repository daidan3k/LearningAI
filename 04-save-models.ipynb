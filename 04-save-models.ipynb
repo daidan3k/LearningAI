{
 "cells": [
  {
   "cell_type": "code",
   "execution_count": 15,
   "metadata": {},
   "outputs": [
    {
     "name": "stdout",
     "output_type": "stream",
     "text": [
      "[134.07534247]\n",
      "176232.87671232875\n"
     ]
    }
   ],
   "source": [
    "import os\n",
    "import pandas as pd\n",
    "from sklearn import linear_model\n",
    "import joblib\n",
    "import pickle\n",
    "\n",
    "df = pd.read_csv('../python/csv_files/homeprices.csv')\n",
    "\n",
    "reg = linear_model.LinearRegression()\n",
    "reg.fit(df[['area']], df.price)\n",
    "\n",
    "\n",
    "print(reg.coef_)\n",
    "print(reg.intercept_)"
   ]
  },
  {
   "cell_type": "code",
   "execution_count": 16,
   "metadata": {},
   "outputs": [],
   "source": [
    "os.makedirs('./models', exist_ok=True)\n",
    "\n",
    "with open('./models/linear_regression_model_pickle', 'wb') as f:\n",
    "    pickle.dump(reg, f)"
   ]
  },
  {
   "cell_type": "code",
   "execution_count": 17,
   "metadata": {},
   "outputs": [
    {
     "name": "stdout",
     "output_type": "stream",
     "text": [
      "[134.07534247]\n",
      "176232.87671232875\n"
     ]
    }
   ],
   "source": [
    "with open('./models/linear_regression_model_pickle', 'rb') as f:\n",
    "    model = pickle.load(f)\n",
    "\n",
    "print(model.coef_)\n",
    "print(model.intercept_)"
   ]
  },
  {
   "cell_type": "markdown",
   "metadata": {},
   "source": [
    "### Joblib is better with models with lots of numpy arrays"
   ]
  },
  {
   "cell_type": "code",
   "execution_count": 18,
   "metadata": {},
   "outputs": [
    {
     "data": {
      "text/plain": [
       "['./models/linear_regression_model_joblib']"
      ]
     },
     "execution_count": 18,
     "metadata": {},
     "output_type": "execute_result"
    }
   ],
   "source": [
    "joblib.dump(reg, './models/linear_regression_model_joblib')"
   ]
  },
  {
   "cell_type": "code",
   "execution_count": 19,
   "metadata": {},
   "outputs": [
    {
     "name": "stdout",
     "output_type": "stream",
     "text": [
      "[134.07534247]\n",
      "176232.87671232875\n"
     ]
    }
   ],
   "source": [
    "model = joblib.load('models/linear_regression_model_joblib')\n",
    "print(model.coef_)\n",
    "print(model.intercept_)"
   ]
  }
 ],
 "metadata": {
  "kernelspec": {
   "display_name": "Python 3",
   "language": "python",
   "name": "python3"
  },
  "language_info": {
   "codemirror_mode": {
    "name": "ipython",
    "version": 3
   },
   "file_extension": ".py",
   "mimetype": "text/x-python",
   "name": "python",
   "nbconvert_exporter": "python",
   "pygments_lexer": "ipython3",
   "version": "3.11.2"
  }
 },
 "nbformat": 4,
 "nbformat_minor": 2
}
