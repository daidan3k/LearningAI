{
  "cells": [
    {
      "cell_type": "markdown",
      "id": "68be6d01",
      "metadata": {
        "id": "68be6d01"
      },
      "source": [
        "# 00. PyTorch Fundamentals"
      ]
    },
    {
      "cell_type": "code",
      "execution_count": 1,
      "id": "6b35bcc5",
      "metadata": {
        "id": "6b35bcc5",
        "outputId": "9636fe0e-1946-4e21-cd35-e9694f2e4690",
        "colab": {
          "base_uri": "https://localhost:8080/"
        }
      },
      "outputs": [
        {
          "output_type": "stream",
          "name": "stdout",
          "text": [
            "2.6.0+cu124\n"
          ]
        }
      ],
      "source": [
        "import torch\n",
        "import pandas as pd\n",
        "import numpy as np\n",
        "import matplotlib.pyplot as plt\n",
        "print(torch.__version__)"
      ]
    },
    {
      "cell_type": "markdown",
      "source": [
        "## Introduction to tensors"
      ],
      "metadata": {
        "id": "C6j9SuL5tKHH"
      },
      "id": "C6j9SuL5tKHH"
    },
    {
      "cell_type": "markdown",
      "source": [
        "### Creating tensors"
      ],
      "metadata": {
        "id": "3SV0xFbM3JCl"
      },
      "id": "3SV0xFbM3JCl"
    },
    {
      "cell_type": "code",
      "source": [
        "# SCALAR\n",
        "scalar = torch.tensor(7)\n",
        "scalar"
      ],
      "metadata": {
        "colab": {
          "base_uri": "https://localhost:8080/"
        },
        "id": "K-z2lJ-FtM6x",
        "outputId": "d784e621-c759-4b8d-d632-ab82f9ac04a9"
      },
      "id": "K-z2lJ-FtM6x",
      "execution_count": 2,
      "outputs": [
        {
          "output_type": "execute_result",
          "data": {
            "text/plain": [
              "tensor(7)"
            ]
          },
          "metadata": {},
          "execution_count": 2
        }
      ]
    },
    {
      "cell_type": "code",
      "source": [
        "scalar.ndim"
      ],
      "metadata": {
        "colab": {
          "base_uri": "https://localhost:8080/"
        },
        "id": "ztljUWbTxNgb",
        "outputId": "949aca67-9dba-4cd3-a8b6-bf7669d070ee"
      },
      "id": "ztljUWbTxNgb",
      "execution_count": 3,
      "outputs": [
        {
          "output_type": "execute_result",
          "data": {
            "text/plain": [
              "0"
            ]
          },
          "metadata": {},
          "execution_count": 3
        }
      ]
    },
    {
      "cell_type": "code",
      "source": [
        "# Get tensor back as Python int\n",
        "scalar.item()"
      ],
      "metadata": {
        "colab": {
          "base_uri": "https://localhost:8080/"
        },
        "id": "3T1tszoayBB3",
        "outputId": "62d282fd-8c38-4678-c239-d8bd3fbf96c4"
      },
      "id": "3T1tszoayBB3",
      "execution_count": 4,
      "outputs": [
        {
          "output_type": "execute_result",
          "data": {
            "text/plain": [
              "7"
            ]
          },
          "metadata": {},
          "execution_count": 4
        }
      ]
    },
    {
      "cell_type": "code",
      "source": [
        "# VECTOR\n",
        "vector = torch.tensor([7, 7])\n",
        "vector"
      ],
      "metadata": {
        "colab": {
          "base_uri": "https://localhost:8080/"
        },
        "id": "stOr6ChSyDno",
        "outputId": "66fddd1e-a3b6-4dbb-983e-d46cb4114716"
      },
      "id": "stOr6ChSyDno",
      "execution_count": 5,
      "outputs": [
        {
          "output_type": "execute_result",
          "data": {
            "text/plain": [
              "tensor([7, 7])"
            ]
          },
          "metadata": {},
          "execution_count": 5
        }
      ]
    },
    {
      "cell_type": "code",
      "source": [
        "vector.ndim"
      ],
      "metadata": {
        "colab": {
          "base_uri": "https://localhost:8080/"
        },
        "id": "pVH0S-65yU89",
        "outputId": "b8fb8bb2-9ca3-4a4b-aa90-b719699b48ef"
      },
      "id": "pVH0S-65yU89",
      "execution_count": 6,
      "outputs": [
        {
          "output_type": "execute_result",
          "data": {
            "text/plain": [
              "1"
            ]
          },
          "metadata": {},
          "execution_count": 6
        }
      ]
    },
    {
      "cell_type": "code",
      "source": [
        "vector.shape"
      ],
      "metadata": {
        "colab": {
          "base_uri": "https://localhost:8080/"
        },
        "id": "9RYQifDJytzW",
        "outputId": "51eb36e6-91d8-428f-96cb-876c666caca5"
      },
      "id": "9RYQifDJytzW",
      "execution_count": 7,
      "outputs": [
        {
          "output_type": "execute_result",
          "data": {
            "text/plain": [
              "torch.Size([2])"
            ]
          },
          "metadata": {},
          "execution_count": 7
        }
      ]
    },
    {
      "cell_type": "code",
      "source": [
        "# MATRIX\n",
        "matrix = torch.tensor([[7, 8], [9, 10]])\n",
        "matrix"
      ],
      "metadata": {
        "colab": {
          "base_uri": "https://localhost:8080/"
        },
        "id": "NsVOHzeBzLZA",
        "outputId": "57ec3325-68c7-42be-e735-f763291b72f7"
      },
      "id": "NsVOHzeBzLZA",
      "execution_count": 8,
      "outputs": [
        {
          "output_type": "execute_result",
          "data": {
            "text/plain": [
              "tensor([[ 7,  8],\n",
              "        [ 9, 10]])"
            ]
          },
          "metadata": {},
          "execution_count": 8
        }
      ]
    },
    {
      "cell_type": "code",
      "source": [
        "matrix.ndim"
      ],
      "metadata": {
        "colab": {
          "base_uri": "https://localhost:8080/"
        },
        "id": "Yrxy8X-rzhOf",
        "outputId": "fda43488-8461-4f22-ac59-2c96ea7f1803"
      },
      "id": "Yrxy8X-rzhOf",
      "execution_count": 9,
      "outputs": [
        {
          "output_type": "execute_result",
          "data": {
            "text/plain": [
              "2"
            ]
          },
          "metadata": {},
          "execution_count": 9
        }
      ]
    },
    {
      "cell_type": "code",
      "source": [
        "matrix[1]"
      ],
      "metadata": {
        "colab": {
          "base_uri": "https://localhost:8080/"
        },
        "id": "mxwpV8O8zkqv",
        "outputId": "c07af8a7-3c4e-4ed7-f3cd-bb7265ac416f"
      },
      "id": "mxwpV8O8zkqv",
      "execution_count": 10,
      "outputs": [
        {
          "output_type": "execute_result",
          "data": {
            "text/plain": [
              "tensor([ 9, 10])"
            ]
          },
          "metadata": {},
          "execution_count": 10
        }
      ]
    },
    {
      "cell_type": "code",
      "source": [
        "matrix.shape"
      ],
      "metadata": {
        "colab": {
          "base_uri": "https://localhost:8080/"
        },
        "id": "avPa4pVozxkq",
        "outputId": "35fa4455-198a-4def-8b9d-242e563c48d7"
      },
      "id": "avPa4pVozxkq",
      "execution_count": 11,
      "outputs": [
        {
          "output_type": "execute_result",
          "data": {
            "text/plain": [
              "torch.Size([2, 2])"
            ]
          },
          "metadata": {},
          "execution_count": 11
        }
      ]
    },
    {
      "cell_type": "code",
      "source": [
        "# TENSOR\n",
        "tensor = torch.tensor([[[1], [2]], [[3], [4]], [[5], [6]]])\n",
        "tensor"
      ],
      "metadata": {
        "colab": {
          "base_uri": "https://localhost:8080/"
        },
        "id": "yWuBbyURz7Xb",
        "outputId": "6ef5b136-3141-4841-dd45-2661ca23e3c3"
      },
      "id": "yWuBbyURz7Xb",
      "execution_count": 12,
      "outputs": [
        {
          "output_type": "execute_result",
          "data": {
            "text/plain": [
              "tensor([[[1],\n",
              "         [2]],\n",
              "\n",
              "        [[3],\n",
              "         [4]],\n",
              "\n",
              "        [[5],\n",
              "         [6]]])"
            ]
          },
          "metadata": {},
          "execution_count": 12
        }
      ]
    },
    {
      "cell_type": "code",
      "source": [
        "tensor.ndim"
      ],
      "metadata": {
        "colab": {
          "base_uri": "https://localhost:8080/"
        },
        "id": "mGkBnkkC0UmY",
        "outputId": "904b9237-a309-4723-87f1-f24556caf4d3"
      },
      "id": "mGkBnkkC0UmY",
      "execution_count": 13,
      "outputs": [
        {
          "output_type": "execute_result",
          "data": {
            "text/plain": [
              "3"
            ]
          },
          "metadata": {},
          "execution_count": 13
        }
      ]
    },
    {
      "cell_type": "code",
      "source": [
        "tensor.shape"
      ],
      "metadata": {
        "colab": {
          "base_uri": "https://localhost:8080/"
        },
        "id": "gwh_VvxM0ctk",
        "outputId": "1819647f-b898-4ed0-9c9e-370f5772821e"
      },
      "id": "gwh_VvxM0ctk",
      "execution_count": 14,
      "outputs": [
        {
          "output_type": "execute_result",
          "data": {
            "text/plain": [
              "torch.Size([3, 2, 1])"
            ]
          },
          "metadata": {},
          "execution_count": 14
        }
      ]
    },
    {
      "cell_type": "code",
      "source": [
        "tensor[0]"
      ],
      "metadata": {
        "colab": {
          "base_uri": "https://localhost:8080/"
        },
        "id": "mePF8yf00o_T",
        "outputId": "70d85ac4-a5d9-45dd-97a8-30d22733d4c3"
      },
      "id": "mePF8yf00o_T",
      "execution_count": 15,
      "outputs": [
        {
          "output_type": "execute_result",
          "data": {
            "text/plain": [
              "tensor([[1],\n",
              "        [2]])"
            ]
          },
          "metadata": {},
          "execution_count": 15
        }
      ]
    },
    {
      "cell_type": "markdown",
      "source": [
        "### Random tensors"
      ],
      "metadata": {
        "id": "CxAFBWBT24WF"
      },
      "id": "CxAFBWBT24WF"
    },
    {
      "cell_type": "code",
      "source": [
        "# Create a random tensor of shape (3, 4)\n",
        "random_tensor = torch.rand(3, 4)\n",
        "random_tensor"
      ],
      "metadata": {
        "colab": {
          "base_uri": "https://localhost:8080/"
        },
        "id": "rB0VdjRM25si",
        "outputId": "7144ef8b-e9b5-4263-f888-bb1bf1bac27e"
      },
      "id": "rB0VdjRM25si",
      "execution_count": 16,
      "outputs": [
        {
          "output_type": "execute_result",
          "data": {
            "text/plain": [
              "tensor([[0.8562, 0.8160, 0.5128, 0.7710],\n",
              "        [0.3763, 0.2536, 0.0364, 0.3772],\n",
              "        [0.7138, 0.1103, 0.5575, 0.7948]])"
            ]
          },
          "metadata": {},
          "execution_count": 16
        }
      ]
    },
    {
      "cell_type": "code",
      "source": [
        "random_tensor.ndim"
      ],
      "metadata": {
        "colab": {
          "base_uri": "https://localhost:8080/"
        },
        "id": "rnydUn4N4arT",
        "outputId": "71a676e3-ccb0-4fe6-f197-7cd3c436c171"
      },
      "id": "rnydUn4N4arT",
      "execution_count": 17,
      "outputs": [
        {
          "output_type": "execute_result",
          "data": {
            "text/plain": [
              "2"
            ]
          },
          "metadata": {},
          "execution_count": 17
        }
      ]
    },
    {
      "cell_type": "code",
      "source": [
        "# Create a random tensor with a similar shape to an image tensor\n",
        "random_image_size_tensor = torch.rand(3, 244, 244) # height, width, color channel\n",
        "random_image_size_tensor.shape, random_image_size_tensor.ndim"
      ],
      "metadata": {
        "colab": {
          "base_uri": "https://localhost:8080/"
        },
        "id": "fI2poGmO4dch",
        "outputId": "022f2a5d-1b50-4cd0-b2d9-6e83271ea078"
      },
      "id": "fI2poGmO4dch",
      "execution_count": 18,
      "outputs": [
        {
          "output_type": "execute_result",
          "data": {
            "text/plain": [
              "(torch.Size([3, 244, 244]), 3)"
            ]
          },
          "metadata": {},
          "execution_count": 18
        }
      ]
    },
    {
      "cell_type": "markdown",
      "source": [
        "### Zeros and ones"
      ],
      "metadata": {
        "id": "XZw_8JgeUMx6"
      },
      "id": "XZw_8JgeUMx6"
    },
    {
      "cell_type": "code",
      "source": [
        "# Create a tensor of all zeros\n",
        "zeros = torch.zeros(3, 4)\n",
        "zeros"
      ],
      "metadata": {
        "colab": {
          "base_uri": "https://localhost:8080/"
        },
        "id": "ge4RVIk5UO0V",
        "outputId": "6d337b24-b2a9-4966-f06a-14cdf1468b8b"
      },
      "id": "ge4RVIk5UO0V",
      "execution_count": 19,
      "outputs": [
        {
          "output_type": "execute_result",
          "data": {
            "text/plain": [
              "tensor([[0., 0., 0., 0.],\n",
              "        [0., 0., 0., 0.],\n",
              "        [0., 0., 0., 0.]])"
            ]
          },
          "metadata": {},
          "execution_count": 19
        }
      ]
    },
    {
      "cell_type": "code",
      "source": [
        "# Create a tensor of all ones\n",
        "ones = torch.ones(3, 4)\n",
        "ones"
      ],
      "metadata": {
        "colab": {
          "base_uri": "https://localhost:8080/"
        },
        "id": "t8QKC0Q9Ufzf",
        "outputId": "17c1913c-e2aa-4026-c699-88ee3ff9832c"
      },
      "id": "t8QKC0Q9Ufzf",
      "execution_count": 20,
      "outputs": [
        {
          "output_type": "execute_result",
          "data": {
            "text/plain": [
              "tensor([[1., 1., 1., 1.],\n",
              "        [1., 1., 1., 1.],\n",
              "        [1., 1., 1., 1.]])"
            ]
          },
          "metadata": {},
          "execution_count": 20
        }
      ]
    },
    {
      "cell_type": "code",
      "source": [
        "ones.dtype, random_tensor.dtype # Default data type is torch.float32"
      ],
      "metadata": {
        "colab": {
          "base_uri": "https://localhost:8080/"
        },
        "id": "2EmeEWr4U0lj",
        "outputId": "33fe10da-03a5-459b-d4f7-59c4ce153309"
      },
      "id": "2EmeEWr4U0lj",
      "execution_count": 21,
      "outputs": [
        {
          "output_type": "execute_result",
          "data": {
            "text/plain": [
              "(torch.float32, torch.float32)"
            ]
          },
          "metadata": {},
          "execution_count": 21
        }
      ]
    },
    {
      "cell_type": "markdown",
      "source": [
        "### Creating a range of tensors and tensors-like"
      ],
      "metadata": {
        "id": "YfQ9LPf8VHyJ"
      },
      "id": "YfQ9LPf8VHyJ"
    },
    {
      "cell_type": "code",
      "source": [
        "# Use torch.arange()\n",
        "one_to_ten = torch.arange(1, 11, step=1)\n",
        "one_to_ten"
      ],
      "metadata": {
        "colab": {
          "base_uri": "https://localhost:8080/"
        },
        "id": "YLCcoee1VKsH",
        "outputId": "73b5ab02-3299-489c-bb2c-462b6e1e67cb"
      },
      "id": "YLCcoee1VKsH",
      "execution_count": 22,
      "outputs": [
        {
          "output_type": "execute_result",
          "data": {
            "text/plain": [
              "tensor([ 1,  2,  3,  4,  5,  6,  7,  8,  9, 10])"
            ]
          },
          "metadata": {},
          "execution_count": 22
        }
      ]
    },
    {
      "cell_type": "code",
      "source": [
        "# Creating tensors like\n",
        "ten_zeros = torch.zeros_like(one_to_ten)\n",
        "ten_zeros"
      ],
      "metadata": {
        "colab": {
          "base_uri": "https://localhost:8080/"
        },
        "id": "MRwXeeSLVzvI",
        "outputId": "ad416331-f8d0-4f33-af40-32e068d163c1"
      },
      "id": "MRwXeeSLVzvI",
      "execution_count": 23,
      "outputs": [
        {
          "output_type": "execute_result",
          "data": {
            "text/plain": [
              "tensor([0, 0, 0, 0, 0, 0, 0, 0, 0, 0])"
            ]
          },
          "metadata": {},
          "execution_count": 23
        }
      ]
    },
    {
      "cell_type": "markdown",
      "source": [
        "### Tensor datatypes"
      ],
      "metadata": {
        "id": "s8_4rn0LWnTS"
      },
      "id": "s8_4rn0LWnTS"
    },
    {
      "cell_type": "code",
      "source": [
        "# Float32 tensor\n",
        "float_32_tensor = torch.tensor([3.0, 6.0, 9.0],\n",
        "                               dtype=None, # What datatype is the tensor (e.g. float32)\n",
        "                               device=None, # CPU/GPU/TPU\n",
        "                               requires_grad=False) # Record the operations performed on the tensor\n",
        "float_32_tensor.dtype"
      ],
      "metadata": {
        "colab": {
          "base_uri": "https://localhost:8080/"
        },
        "id": "aH15TTY8WpBW",
        "outputId": "48b7bed2-50fd-4beb-a2da-9620c8c52218"
      },
      "id": "aH15TTY8WpBW",
      "execution_count": 24,
      "outputs": [
        {
          "output_type": "execute_result",
          "data": {
            "text/plain": [
              "torch.float32"
            ]
          },
          "metadata": {},
          "execution_count": 24
        }
      ]
    },
    {
      "cell_type": "code",
      "source": [
        "float_16_tensor = float_32_tensor.type(torch.float16)\n",
        "float_16_tensor.dtype"
      ],
      "metadata": {
        "colab": {
          "base_uri": "https://localhost:8080/"
        },
        "id": "0tmDzOl7YsDp",
        "outputId": "4c3a1984-7f0a-4765-bba6-63411d137209"
      },
      "id": "0tmDzOl7YsDp",
      "execution_count": 25,
      "outputs": [
        {
          "output_type": "execute_result",
          "data": {
            "text/plain": [
              "torch.float16"
            ]
          },
          "metadata": {},
          "execution_count": 25
        }
      ]
    },
    {
      "cell_type": "code",
      "source": [
        "float_16_tensor * float_32_tensor"
      ],
      "metadata": {
        "colab": {
          "base_uri": "https://localhost:8080/"
        },
        "id": "zKkHLK3IZNj0",
        "outputId": "20f49f37-d95d-4057-a967-db581a2c28fa"
      },
      "id": "zKkHLK3IZNj0",
      "execution_count": 26,
      "outputs": [
        {
          "output_type": "execute_result",
          "data": {
            "text/plain": [
              "tensor([ 9., 36., 81.])"
            ]
          },
          "metadata": {},
          "execution_count": 26
        }
      ]
    },
    {
      "cell_type": "code",
      "source": [
        "long_tensor = float_32_tensor.type(torch.LongTensor)\n",
        "long_tensor.dtype"
      ],
      "metadata": {
        "colab": {
          "base_uri": "https://localhost:8080/"
        },
        "id": "B-r9kRp0ZoWJ",
        "outputId": "ccb02289-a047-4142-baad-2d76e84552cc"
      },
      "id": "B-r9kRp0ZoWJ",
      "execution_count": 27,
      "outputs": [
        {
          "output_type": "execute_result",
          "data": {
            "text/plain": [
              "torch.int64"
            ]
          },
          "metadata": {},
          "execution_count": 27
        }
      ]
    },
    {
      "cell_type": "code",
      "source": [
        "float_32_tensor * long_tensor"
      ],
      "metadata": {
        "colab": {
          "base_uri": "https://localhost:8080/"
        },
        "id": "HBiSw8X0ZtPF",
        "outputId": "cf2e93aa-f35b-44b7-e76f-f29294e6dae5"
      },
      "id": "HBiSw8X0ZtPF",
      "execution_count": 28,
      "outputs": [
        {
          "output_type": "execute_result",
          "data": {
            "text/plain": [
              "tensor([ 9., 36., 81.])"
            ]
          },
          "metadata": {},
          "execution_count": 28
        }
      ]
    },
    {
      "cell_type": "markdown",
      "source": [
        "## Getting information about tensors\n",
        "\n",
        "1. Tensors are not the right datatype - `tensor.dtype`\n",
        "2. Tensors are not the right shapre - `tensor.shape`\n",
        "3. Tensors are not on the same device - `tensor.device`"
      ],
      "metadata": {
        "id": "bszuHqCyaThq"
      },
      "id": "bszuHqCyaThq"
    },
    {
      "cell_type": "code",
      "source": [
        "# Create a tensor\n",
        "some_tensor = torch.rand([3, 4], device='cpu')\n",
        "some_tensor"
      ],
      "metadata": {
        "colab": {
          "base_uri": "https://localhost:8080/"
        },
        "id": "-Sl1ss_qaqWX",
        "outputId": "03d0f6f0-292d-4ed8-f03e-64e308d47c63"
      },
      "id": "-Sl1ss_qaqWX",
      "execution_count": 29,
      "outputs": [
        {
          "output_type": "execute_result",
          "data": {
            "text/plain": [
              "tensor([[0.7837, 0.2643, 0.9698, 0.8413],\n",
              "        [0.3042, 0.4713, 0.8538, 0.5346],\n",
              "        [0.4163, 0.8988, 0.8843, 0.8012]])"
            ]
          },
          "metadata": {},
          "execution_count": 29
        }
      ]
    },
    {
      "cell_type": "code",
      "source": [
        "print(f\"DataType: {some_tensor.dtype}\")\n",
        "print(f\"Shape: {some_tensor.shape}\")\n",
        "print(f\"Device: {some_tensor.device}\")"
      ],
      "metadata": {
        "colab": {
          "base_uri": "https://localhost:8080/"
        },
        "id": "mcQPcKJeayaa",
        "outputId": "14f386ae-20e7-4450-8668-2eaed9cb30b4"
      },
      "id": "mcQPcKJeayaa",
      "execution_count": 30,
      "outputs": [
        {
          "output_type": "stream",
          "name": "stdout",
          "text": [
            "DataType: torch.float32\n",
            "Shape: torch.Size([3, 4])\n",
            "Device: cpu\n"
          ]
        }
      ]
    },
    {
      "cell_type": "markdown",
      "source": [
        "## Manipulating tensors"
      ],
      "metadata": {
        "id": "SL-T4fi2cbSD"
      },
      "id": "SL-T4fi2cbSD"
    },
    {
      "cell_type": "markdown",
      "source": [
        "### Basic operations\n",
        "Tensor operations include:\n",
        "* Multiplication (element-wise)\n",
        "* Matrix multiplication\n",
        "* Division\n",
        "* Addition\n",
        "* Substraction\n"
      ],
      "metadata": {
        "id": "-V7k-xVkcpJN"
      },
      "id": "-V7k-xVkcpJN"
    },
    {
      "cell_type": "code",
      "source": [
        "# Create a tensor and add 10 to it\n",
        "tensor = torch.tensor([1, 2, 3])\n",
        "tensor + 10"
      ],
      "metadata": {
        "colab": {
          "base_uri": "https://localhost:8080/"
        },
        "id": "3ysWeKeCa3dp",
        "outputId": "6e83c101-13a0-492c-f678-257105900ac4"
      },
      "id": "3ysWeKeCa3dp",
      "execution_count": 31,
      "outputs": [
        {
          "output_type": "execute_result",
          "data": {
            "text/plain": [
              "tensor([11, 12, 13])"
            ]
          },
          "metadata": {},
          "execution_count": 31
        }
      ]
    },
    {
      "cell_type": "code",
      "source": [
        "# Multiply tensor by 10\n",
        "tensor * 10"
      ],
      "metadata": {
        "colab": {
          "base_uri": "https://localhost:8080/"
        },
        "id": "z9We2ajAdWJw",
        "outputId": "c51b74d3-50ee-4752-c387-75382a1825ab"
      },
      "id": "z9We2ajAdWJw",
      "execution_count": 32,
      "outputs": [
        {
          "output_type": "execute_result",
          "data": {
            "text/plain": [
              "tensor([10, 20, 30])"
            ]
          },
          "metadata": {},
          "execution_count": 32
        }
      ]
    },
    {
      "cell_type": "code",
      "source": [
        "# Subtract 10\n",
        "tensor - 10"
      ],
      "metadata": {
        "colab": {
          "base_uri": "https://localhost:8080/"
        },
        "id": "JmnhEAnydkjq",
        "outputId": "3c601b9f-4806-498e-a6bb-0823cd52a399"
      },
      "id": "JmnhEAnydkjq",
      "execution_count": 33,
      "outputs": [
        {
          "output_type": "execute_result",
          "data": {
            "text/plain": [
              "tensor([-9, -8, -7])"
            ]
          },
          "metadata": {},
          "execution_count": 33
        }
      ]
    },
    {
      "cell_type": "code",
      "source": [
        "# Try out pytorch in-built functions\n",
        "display(torch.mul(tensor, 10))\n",
        "display(torch.add(tensor, 10))\n",
        "display(torch.div(tensor, 10))"
      ],
      "metadata": {
        "colab": {
          "base_uri": "https://localhost:8080/",
          "height": 72
        },
        "id": "n0XcIVYXdohW",
        "outputId": "ee7bf11d-a232-4dae-b22c-7228369d107c"
      },
      "id": "n0XcIVYXdohW",
      "execution_count": 34,
      "outputs": [
        {
          "output_type": "display_data",
          "data": {
            "text/plain": [
              "tensor([10, 20, 30])"
            ]
          },
          "metadata": {}
        },
        {
          "output_type": "display_data",
          "data": {
            "text/plain": [
              "tensor([11, 12, 13])"
            ]
          },
          "metadata": {}
        },
        {
          "output_type": "display_data",
          "data": {
            "text/plain": [
              "tensor([0.1000, 0.2000, 0.3000])"
            ]
          },
          "metadata": {}
        }
      ]
    },
    {
      "cell_type": "markdown",
      "source": [
        "### Matrix multiplication\n",
        "\n",
        "Two main ways to perfrom multiplications in neural networks and deep learning:\n",
        "1. Element-wise multiplication\n",
        "2. Matrix multiplication (dot product)"
      ],
      "metadata": {
        "id": "Am4bbUbyfLSM"
      },
      "id": "Am4bbUbyfLSM"
    },
    {
      "cell_type": "code",
      "source": [
        "#################\n",
        "### Challenge ###\n",
        "#################\n",
        "\n",
        "# Perform a dot product of theese tensors (step by step)\n",
        "t1 = torch.tensor([[1, 2, 3], [4, 5, 6]])\n",
        "display(t1)\n",
        "t2 = torch.tensor([[7, 8], [9, 10], [11, 12]])\n",
        "display(t2)\n",
        "\n",
        "# Code\n",
        "step1 = sum(t1[0] * torch.transpose(t2, 0, 1)[0]) # First row by first column\n",
        "step2 = sum(t1[0] * torch.transpose(t2, 0, 1)[1]) # First row by second column\n",
        "step3 = sum(t1[1] * torch.transpose(t2, 0, 1)[0]) # Second row by first column\n",
        "step4 = sum(t1[1] * torch.transpose(t2, 0, 1)[1]) # Second row by second column\n",
        "\n",
        "result = torch.tensor([[step1, step2], [step3, step4]])\n",
        "result"
      ],
      "metadata": {
        "colab": {
          "base_uri": "https://localhost:8080/",
          "height": 146
        },
        "id": "Os_XPFQnd0wv",
        "outputId": "42a6e48f-44bf-4b56-9b89-4e14e2d88077"
      },
      "id": "Os_XPFQnd0wv",
      "execution_count": 35,
      "outputs": [
        {
          "output_type": "display_data",
          "data": {
            "text/plain": [
              "tensor([[1, 2, 3],\n",
              "        [4, 5, 6]])"
            ]
          },
          "metadata": {}
        },
        {
          "output_type": "display_data",
          "data": {
            "text/plain": [
              "tensor([[ 7,  8],\n",
              "        [ 9, 10],\n",
              "        [11, 12]])"
            ]
          },
          "metadata": {}
        },
        {
          "output_type": "execute_result",
          "data": {
            "text/plain": [
              "tensor([[ 58,  64],\n",
              "        [139, 154]])"
            ]
          },
          "metadata": {},
          "execution_count": 35
        }
      ]
    },
    {
      "cell_type": "code",
      "source": [
        "# Element-wise multiplication\n",
        "print(tensor, \"*\", tensor)\n",
        "print(f\"Equals:  {tensor * tensor}\")"
      ],
      "metadata": {
        "colab": {
          "base_uri": "https://localhost:8080/"
        },
        "id": "aj8qFHd9iGPA",
        "outputId": "20fb4859-3999-401e-d84f-4504a1581fc5"
      },
      "id": "aj8qFHd9iGPA",
      "execution_count": 36,
      "outputs": [
        {
          "output_type": "stream",
          "name": "stdout",
          "text": [
            "tensor([1, 2, 3]) * tensor([1, 2, 3])\n",
            "Equals:  tensor([1, 4, 9])\n"
          ]
        }
      ]
    },
    {
      "cell_type": "code",
      "source": [
        "# Matrix multiplication\n",
        "torch.matmul(tensor, tensor)"
      ],
      "metadata": {
        "colab": {
          "base_uri": "https://localhost:8080/"
        },
        "id": "4f7ZCq8XilNn",
        "outputId": "e3238bea-1faa-42de-80f3-9c99175cd44f"
      },
      "id": "4f7ZCq8XilNn",
      "execution_count": 37,
      "outputs": [
        {
          "output_type": "execute_result",
          "data": {
            "text/plain": [
              "tensor(14)"
            ]
          },
          "metadata": {},
          "execution_count": 37
        }
      ]
    },
    {
      "cell_type": "code",
      "source": [
        "# Matrix multiplcation by hand\n",
        "1 * 1 + 2 * 2 + 3 * 3"
      ],
      "metadata": {
        "colab": {
          "base_uri": "https://localhost:8080/"
        },
        "id": "IN8tgTgzi0vj",
        "outputId": "d6bf0893-691d-4b2a-d0c7-fd0704d59172"
      },
      "id": "IN8tgTgzi0vj",
      "execution_count": 38,
      "outputs": [
        {
          "output_type": "execute_result",
          "data": {
            "text/plain": [
              "14"
            ]
          },
          "metadata": {},
          "execution_count": 38
        }
      ]
    },
    {
      "cell_type": "code",
      "source": [
        "%%time\n",
        "value = 0\n",
        "for i in range(len(tensor)):\n",
        "  value += tensor[i] * tensor[i]\n",
        "value"
      ],
      "metadata": {
        "colab": {
          "base_uri": "https://localhost:8080/"
        },
        "id": "YWeZikVukGV7",
        "outputId": "f2c8b7bd-6418-4bb2-bf6b-4016aad75460"
      },
      "id": "YWeZikVukGV7",
      "execution_count": 39,
      "outputs": [
        {
          "output_type": "stream",
          "name": "stdout",
          "text": [
            "CPU times: user 411 µs, sys: 0 ns, total: 411 µs\n",
            "Wall time: 419 µs\n"
          ]
        },
        {
          "output_type": "execute_result",
          "data": {
            "text/plain": [
              "tensor(14)"
            ]
          },
          "metadata": {},
          "execution_count": 39
        }
      ]
    },
    {
      "cell_type": "code",
      "source": [
        "%%time\n",
        "torch.matmul(tensor, tensor)"
      ],
      "metadata": {
        "colab": {
          "base_uri": "https://localhost:8080/"
        },
        "id": "6cWeqiSnkaSe",
        "outputId": "a56a2fb0-491e-4bdf-d9aa-08064afa1458"
      },
      "id": "6cWeqiSnkaSe",
      "execution_count": 40,
      "outputs": [
        {
          "output_type": "stream",
          "name": "stdout",
          "text": [
            "CPU times: user 91 µs, sys: 13 µs, total: 104 µs\n",
            "Wall time: 108 µs\n"
          ]
        },
        {
          "output_type": "execute_result",
          "data": {
            "text/plain": [
              "tensor(14)"
            ]
          },
          "metadata": {},
          "execution_count": 40
        }
      ]
    },
    {
      "cell_type": "markdown",
      "source": [
        "## One of the most common errors in DL: Shape errors\n",
        "\n",
        "There are two rules that matrix multiplications needs to satisfy:\n",
        "1. The **inner dimensions** must match:\n",
        "  * `(3, 2) @ (3, 2)` won't work\n",
        "  * `(2, 3) @ (3, 2)` will work\n",
        "  * `(3, 2) @ (2, 3)` will work\n",
        "2. The resulting matrix shape will be the **outer dimensions**\n",
        "  * `(2, 3) @ (3, 2)`  -> `(2, 2)`\n",
        "  * `(3, 2) @ (2, 3)`  -> `(3, 3)`"
      ],
      "metadata": {
        "id": "NKMKN4vRlY-T"
      },
      "id": "NKMKN4vRlY-T"
    },
    {
      "cell_type": "code",
      "source": [
        "#                          Outter dimensions\n",
        "#                       v                    v\n",
        "torch.matmul(torch.rand(2, 3), torch.rand(3, 2))\n",
        "#                          ^              ^\n",
        "#                          Inner dimensions"
      ],
      "metadata": {
        "colab": {
          "base_uri": "https://localhost:8080/"
        },
        "id": "3bG6DbdElTob",
        "outputId": "bcf74ba8-39ed-4453-a964-c70e9452891e"
      },
      "id": "3bG6DbdElTob",
      "execution_count": 41,
      "outputs": [
        {
          "output_type": "execute_result",
          "data": {
            "text/plain": [
              "tensor([[0.3980, 0.8590],\n",
              "        [0.0753, 0.1745]])"
            ]
          },
          "metadata": {},
          "execution_count": 41
        }
      ]
    },
    {
      "cell_type": "markdown",
      "source": [
        "To fix our tensor shape issues, we can manipulate the shape of one of the tensors using transpose.\n",
        "\n",
        "A **transpose** switches the axis or dimensions of a given tensor"
      ],
      "metadata": {
        "id": "WFf2hwrrcm3F"
      },
      "id": "WFf2hwrrcm3F"
    },
    {
      "cell_type": "code",
      "source": [
        "# Shapes for matrix multiplication\n",
        "tensor_A = torch.tensor([[1, 2],\n",
        "                         [3, 4],\n",
        "                         [5, 6]])\n",
        "\n",
        "tensor_B = torch.tensor([[7, 10],\n",
        "                         [8, 11],\n",
        "                         [9, 12]])\n",
        "\n",
        "try:\n",
        "  torch.mm(tensor_A, tensor_B)\n",
        "except Exception as e:\n",
        "  print(e)"
      ],
      "metadata": {
        "id": "zY0--mzFbuiN",
        "outputId": "78daf477-99af-47d1-9b63-58500a5c6526",
        "colab": {
          "base_uri": "https://localhost:8080/"
        }
      },
      "id": "zY0--mzFbuiN",
      "execution_count": 42,
      "outputs": [
        {
          "output_type": "stream",
          "name": "stdout",
          "text": [
            "mat1 and mat2 shapes cannot be multiplied (3x2 and 3x2)\n"
          ]
        }
      ]
    },
    {
      "cell_type": "code",
      "source": [
        "tensor_B.T"
      ],
      "metadata": {
        "id": "FntY_ZVddC07",
        "outputId": "4a2a3aa3-4d15-46a4-8157-40af01296db5",
        "colab": {
          "base_uri": "https://localhost:8080/"
        }
      },
      "id": "FntY_ZVddC07",
      "execution_count": 43,
      "outputs": [
        {
          "output_type": "execute_result",
          "data": {
            "text/plain": [
              "tensor([[ 7,  8,  9],\n",
              "        [10, 11, 12]])"
            ]
          },
          "metadata": {},
          "execution_count": 43
        }
      ]
    },
    {
      "cell_type": "code",
      "source": [
        "# The matrix multiplication operation works when tensor_B is transposed\n",
        "print(f\"Original shapes: tensor_A = {tensor_A.shape}, tensor_B = {tensor_B.shape}\")\n",
        "print(f\"New shapes: tensor_A = {tensor_A.shape}, tensor_B = {tensor_B.T.shape}\\n\")\n",
        "print(f\"Multiplying: {tensor_A.shape} @ {tensor_B.T.shape} <- Inner dimensions must match\")\n",
        "torch.mm(tensor_A, tensor_B.T)"
      ],
      "metadata": {
        "id": "cEx_NMJhdRoo",
        "outputId": "e35599a9-9b7b-45cb-d1bf-e0face2ff843",
        "colab": {
          "base_uri": "https://localhost:8080/"
        }
      },
      "id": "cEx_NMJhdRoo",
      "execution_count": 44,
      "outputs": [
        {
          "output_type": "stream",
          "name": "stdout",
          "text": [
            "Original shapes: tensor_A = torch.Size([3, 2]), tensor_B = torch.Size([3, 2])\n",
            "New shapes: tensor_A = torch.Size([3, 2]), tensor_B = torch.Size([2, 3])\n",
            "\n",
            "Multiplying: torch.Size([3, 2]) @ torch.Size([2, 3]) <- Inner dimensions must match\n"
          ]
        },
        {
          "output_type": "execute_result",
          "data": {
            "text/plain": [
              "tensor([[ 27,  30,  33],\n",
              "        [ 61,  68,  75],\n",
              "        [ 95, 106, 117]])"
            ]
          },
          "metadata": {},
          "execution_count": 44
        }
      ]
    },
    {
      "cell_type": "markdown",
      "source": [
        "## Finding the min, max, mean, sum, etc..."
      ],
      "metadata": {
        "id": "sb_SF-dffv01"
      },
      "id": "sb_SF-dffv01"
    },
    {
      "cell_type": "code",
      "source": [
        "# Create a tensor\n",
        "x = torch.arange(1, 100, 10)\n",
        "x, x.dtype"
      ],
      "metadata": {
        "id": "lROG1q-afd-V",
        "outputId": "bf801128-1a66-4222-f274-104cad1b9ffe",
        "colab": {
          "base_uri": "https://localhost:8080/"
        }
      },
      "id": "lROG1q-afd-V",
      "execution_count": 45,
      "outputs": [
        {
          "output_type": "execute_result",
          "data": {
            "text/plain": [
              "(tensor([ 1, 11, 21, 31, 41, 51, 61, 71, 81, 91]), torch.int64)"
            ]
          },
          "metadata": {},
          "execution_count": 45
        }
      ]
    },
    {
      "cell_type": "code",
      "source": [
        "# Find the minimum value\n",
        "x.min(), torch.min(x)"
      ],
      "metadata": {
        "id": "aWaxQCpWgW2K",
        "outputId": "2ccce888-9023-497e-a019-38bc4ad8aa6d",
        "colab": {
          "base_uri": "https://localhost:8080/"
        }
      },
      "id": "aWaxQCpWgW2K",
      "execution_count": 46,
      "outputs": [
        {
          "output_type": "execute_result",
          "data": {
            "text/plain": [
              "(tensor(1), tensor(1))"
            ]
          },
          "metadata": {},
          "execution_count": 46
        }
      ]
    },
    {
      "cell_type": "code",
      "source": [
        "# Find the max\n",
        "x.max(), torch.max(x)"
      ],
      "metadata": {
        "id": "gpJvJg9-gbGO",
        "outputId": "ec056193-c145-46cc-aadb-ba2e570b20fe",
        "colab": {
          "base_uri": "https://localhost:8080/"
        }
      },
      "id": "gpJvJg9-gbGO",
      "execution_count": 47,
      "outputs": [
        {
          "output_type": "execute_result",
          "data": {
            "text/plain": [
              "(tensor(91), tensor(91))"
            ]
          },
          "metadata": {},
          "execution_count": 47
        }
      ]
    },
    {
      "cell_type": "code",
      "source": [
        "# Find the average - note: the torch.mean() function  requires a tensor of float32 or complex datatype\n",
        "x.type(torch.float32).mean(), torch.mean(x.type(torch.float32))"
      ],
      "metadata": {
        "id": "o3AlgXndgj8t",
        "outputId": "235eb78a-c614-4b61-f11f-c81dae10339e",
        "colab": {
          "base_uri": "https://localhost:8080/"
        }
      },
      "id": "o3AlgXndgj8t",
      "execution_count": 48,
      "outputs": [
        {
          "output_type": "execute_result",
          "data": {
            "text/plain": [
              "(tensor(46.), tensor(46.))"
            ]
          },
          "metadata": {},
          "execution_count": 48
        }
      ]
    },
    {
      "cell_type": "code",
      "source": [
        "# Find the sum\n",
        "x.sum(), torch.sum(x)"
      ],
      "metadata": {
        "id": "TWeFsfkThoB9",
        "outputId": "67c193d2-4375-46d3-ee15-9e4325308cf6",
        "colab": {
          "base_uri": "https://localhost:8080/"
        }
      },
      "id": "TWeFsfkThoB9",
      "execution_count": 49,
      "outputs": [
        {
          "output_type": "execute_result",
          "data": {
            "text/plain": [
              "(tensor(460), tensor(460))"
            ]
          },
          "metadata": {},
          "execution_count": 49
        }
      ]
    },
    {
      "cell_type": "code",
      "source": [],
      "metadata": {
        "id": "myWVHIOohq6V"
      },
      "id": "myWVHIOohq6V",
      "execution_count": 49,
      "outputs": []
    },
    {
      "cell_type": "markdown",
      "source": [
        "## Positional min/max"
      ],
      "metadata": {
        "id": "6k1YtbmriPDw"
      },
      "id": "6k1YtbmriPDw"
    },
    {
      "cell_type": "code",
      "source": [
        "x"
      ],
      "metadata": {
        "id": "uZMNRhcmi0Lp",
        "outputId": "80e34579-a9f7-46da-90cf-bbb18ee98f82",
        "colab": {
          "base_uri": "https://localhost:8080/"
        }
      },
      "id": "uZMNRhcmi0Lp",
      "execution_count": 50,
      "outputs": [
        {
          "output_type": "execute_result",
          "data": {
            "text/plain": [
              "tensor([ 1, 11, 21, 31, 41, 51, 61, 71, 81, 91])"
            ]
          },
          "metadata": {},
          "execution_count": 50
        }
      ]
    },
    {
      "cell_type": "code",
      "source": [
        "# Find the index position of the highest value\n",
        "x.argmax(), torch.argmax(x)"
      ],
      "metadata": {
        "id": "rTd4kcesiTI3",
        "outputId": "d3b23267-44f6-4541-a8b0-f692eb43147f",
        "colab": {
          "base_uri": "https://localhost:8080/"
        }
      },
      "id": "rTd4kcesiTI3",
      "execution_count": 51,
      "outputs": [
        {
          "output_type": "execute_result",
          "data": {
            "text/plain": [
              "(tensor(9), tensor(9))"
            ]
          },
          "metadata": {},
          "execution_count": 51
        }
      ]
    },
    {
      "cell_type": "code",
      "source": [
        "# Find the index position of the lowest value"
      ],
      "metadata": {
        "id": "xSOv_fn_iYY4"
      },
      "id": "xSOv_fn_iYY4",
      "execution_count": 52,
      "outputs": []
    },
    {
      "cell_type": "code",
      "source": [
        "x.argmin(), torch.argmin(x)"
      ],
      "metadata": {
        "id": "j0G-3QcGV3AM",
        "outputId": "c6445283-6e64-4657-b686-a28e5d724dcb",
        "colab": {
          "base_uri": "https://localhost:8080/"
        }
      },
      "id": "j0G-3QcGV3AM",
      "execution_count": 53,
      "outputs": [
        {
          "output_type": "execute_result",
          "data": {
            "text/plain": [
              "(tensor(0), tensor(0))"
            ]
          },
          "metadata": {},
          "execution_count": 53
        }
      ]
    },
    {
      "cell_type": "markdown",
      "source": [
        "## Reshaping, stacking, squeezing and unsqueezing tensors\n",
        "\n",
        "* Reshaping - Reshapes an input tensor to a defined shape\n",
        "* Viewing - Return a view of an input of a certain shape\n",
        "* Stacking - Combine multiple tensors on top of each other (vstack) or side by side (hstack)\n",
        "* Squeezing - Removes all `1` dimensions from a tensor\n",
        "* Unsqueezing - Add a `1` dimension to a tensor\n",
        "* Permuting - Return a view of the input dimensions permuted (swapped) in a certain way"
      ],
      "metadata": {
        "id": "X6IBZCG5WHgd"
      },
      "id": "X6IBZCG5WHgd"
    },
    {
      "cell_type": "code",
      "source": [
        "# Create a tensor\n",
        "x = torch.arange(1., 10.)\n",
        "x, x.shape"
      ],
      "metadata": {
        "id": "p5V9jWFuV65m",
        "outputId": "26e95b28-2da2-4f6c-edd2-6e14a52c4967",
        "colab": {
          "base_uri": "https://localhost:8080/"
        }
      },
      "id": "p5V9jWFuV65m",
      "execution_count": 54,
      "outputs": [
        {
          "output_type": "execute_result",
          "data": {
            "text/plain": [
              "(tensor([1., 2., 3., 4., 5., 6., 7., 8., 9.]), torch.Size([9]))"
            ]
          },
          "metadata": {},
          "execution_count": 54
        }
      ]
    },
    {
      "cell_type": "code",
      "source": [
        "# Add an extra dimension\n",
        "x_reshaped = x.reshape(3, 3)\n",
        "x_reshaped, x_reshaped.shape"
      ],
      "metadata": {
        "id": "CGAYLLgYYJzc",
        "outputId": "4afcf5c3-9a68-433c-fe31-56ef26604622",
        "colab": {
          "base_uri": "https://localhost:8080/"
        }
      },
      "id": "CGAYLLgYYJzc",
      "execution_count": 55,
      "outputs": [
        {
          "output_type": "execute_result",
          "data": {
            "text/plain": [
              "(tensor([[1., 2., 3.],\n",
              "         [4., 5., 6.],\n",
              "         [7., 8., 9.]]),\n",
              " torch.Size([3, 3]))"
            ]
          },
          "metadata": {},
          "execution_count": 55
        }
      ]
    },
    {
      "cell_type": "code",
      "source": [
        "# Change the view\n",
        "z = x.view(3, 3)\n",
        "z, z.shape"
      ],
      "metadata": {
        "id": "1nn8JoPOZmgb",
        "outputId": "4db4d429-36d5-4fc8-ed19-10d60c1d1dda",
        "colab": {
          "base_uri": "https://localhost:8080/"
        }
      },
      "id": "1nn8JoPOZmgb",
      "execution_count": 56,
      "outputs": [
        {
          "output_type": "execute_result",
          "data": {
            "text/plain": [
              "(tensor([[1., 2., 3.],\n",
              "         [4., 5., 6.],\n",
              "         [7., 8., 9.]]),\n",
              " torch.Size([3, 3]))"
            ]
          },
          "metadata": {},
          "execution_count": 56
        }
      ]
    },
    {
      "cell_type": "code",
      "source": [
        "# Note: Chaning z changes x (a view of a tensor shares the same memory as the original tensor)\n",
        "z[:, 0][0] = 10\n",
        "x, z"
      ],
      "metadata": {
        "id": "tIypsn6MadkS",
        "outputId": "4258eaef-fb99-4efc-a86f-ff714a344e42",
        "colab": {
          "base_uri": "https://localhost:8080/"
        }
      },
      "id": "tIypsn6MadkS",
      "execution_count": 57,
      "outputs": [
        {
          "output_type": "execute_result",
          "data": {
            "text/plain": [
              "(tensor([10.,  2.,  3.,  4.,  5.,  6.,  7.,  8.,  9.]),\n",
              " tensor([[10.,  2.,  3.],\n",
              "         [ 4.,  5.,  6.],\n",
              "         [ 7.,  8.,  9.]]))"
            ]
          },
          "metadata": {},
          "execution_count": 57
        }
      ]
    },
    {
      "cell_type": "code",
      "source": [
        "# Revert changes\n",
        "z[:, 0][0] = 1"
      ],
      "metadata": {
        "id": "jWaTooeOr3wg"
      },
      "id": "jWaTooeOr3wg",
      "execution_count": 58,
      "outputs": []
    },
    {
      "cell_type": "code",
      "source": [
        "# Stack tensors on top of each other\n",
        "x_stacked_dim0 = torch.stack([x, x, x], dim=0)\n",
        "x_stacked_dim1 = torch.stack([x, x, x], dim=1)\n",
        "x_stacked_dim0, x_stacked_dim1"
      ],
      "metadata": {
        "id": "SHXxKFZ3a2l4",
        "outputId": "1500bbac-0f0a-4a67-a6cc-3028001e211b",
        "colab": {
          "base_uri": "https://localhost:8080/"
        }
      },
      "id": "SHXxKFZ3a2l4",
      "execution_count": 59,
      "outputs": [
        {
          "output_type": "execute_result",
          "data": {
            "text/plain": [
              "(tensor([[1., 2., 3., 4., 5., 6., 7., 8., 9.],\n",
              "         [1., 2., 3., 4., 5., 6., 7., 8., 9.],\n",
              "         [1., 2., 3., 4., 5., 6., 7., 8., 9.]]),\n",
              " tensor([[1., 1., 1.],\n",
              "         [2., 2., 2.],\n",
              "         [3., 3., 3.],\n",
              "         [4., 4., 4.],\n",
              "         [5., 5., 5.],\n",
              "         [6., 6., 6.],\n",
              "         [7., 7., 7.],\n",
              "         [8., 8., 8.],\n",
              "         [9., 9., 9.]]))"
            ]
          },
          "metadata": {},
          "execution_count": 59
        }
      ]
    },
    {
      "cell_type": "code",
      "source": [
        "# torch.squeeze() - removes all single dimensions from a target tensor\n",
        "x_reshaped = x.reshape(1, 9)\n",
        "x_reshaped, x_reshaped.shape # Previous tensor"
      ],
      "metadata": {
        "id": "lrPGZiNCrs6r",
        "outputId": "be72dbb1-c012-45e8-8bb2-9955f03293a7",
        "colab": {
          "base_uri": "https://localhost:8080/"
        }
      },
      "id": "lrPGZiNCrs6r",
      "execution_count": 60,
      "outputs": [
        {
          "output_type": "execute_result",
          "data": {
            "text/plain": [
              "(tensor([[1., 2., 3., 4., 5., 6., 7., 8., 9.]]), torch.Size([1, 9]))"
            ]
          },
          "metadata": {},
          "execution_count": 60
        }
      ]
    },
    {
      "cell_type": "code",
      "source": [
        "x_squeezed = x.squeeze()\n",
        "x_squeezed, x_squeezed.shape # Squeezed tensor"
      ],
      "metadata": {
        "id": "Nfbe9LtWsNqt",
        "outputId": "0377dadf-c176-4274-863b-0c268c9bcd5d",
        "colab": {
          "base_uri": "https://localhost:8080/"
        }
      },
      "id": "Nfbe9LtWsNqt",
      "execution_count": 61,
      "outputs": [
        {
          "output_type": "execute_result",
          "data": {
            "text/plain": [
              "(tensor([1., 2., 3., 4., 5., 6., 7., 8., 9.]), torch.Size([9]))"
            ]
          },
          "metadata": {},
          "execution_count": 61
        }
      ]
    },
    {
      "cell_type": "code",
      "source": [
        "# torch.unsqueeze() - adds a single dimension at a specific dimension\n",
        "x_unsqueezed = x.unsqueeze(0)\n",
        "x_unsqueezed, x_unsqueezed.shape # Tensor with an extra dimension at dimension 0"
      ],
      "metadata": {
        "id": "3VbrNjKZsqPl",
        "outputId": "153cbc8b-b62f-4386-c7ca-966a8144c8e1",
        "colab": {
          "base_uri": "https://localhost:8080/"
        }
      },
      "id": "3VbrNjKZsqPl",
      "execution_count": 62,
      "outputs": [
        {
          "output_type": "execute_result",
          "data": {
            "text/plain": [
              "(tensor([[1., 2., 3., 4., 5., 6., 7., 8., 9.]]), torch.Size([1, 9]))"
            ]
          },
          "metadata": {},
          "execution_count": 62
        }
      ]
    },
    {
      "cell_type": "code",
      "source": [
        "# torch.permute() - rearranges the dimensions of a tensor in a specific order\n",
        "x_original = torch.rand(size=(224, 224, 3)) # [height, widht, color_channels]\n",
        "x_original.shape"
      ],
      "metadata": {
        "id": "zVlPpHXKtxvN",
        "outputId": "0b78e450-be2d-4777-858e-329a1161f434",
        "colab": {
          "base_uri": "https://localhost:8080/"
        }
      },
      "id": "zVlPpHXKtxvN",
      "execution_count": 63,
      "outputs": [
        {
          "output_type": "execute_result",
          "data": {
            "text/plain": [
              "torch.Size([224, 224, 3])"
            ]
          },
          "metadata": {},
          "execution_count": 63
        }
      ]
    },
    {
      "cell_type": "code",
      "source": [
        "# Permute the order so that the color dimension is the first one\n",
        "x_permuted = x_original.permute(2, 0, 1)\n",
        "x_permuted.shape # Note: torch.permute() returns a view!"
      ],
      "metadata": {
        "id": "iNIYucsOvEi3",
        "outputId": "4bbfdeaf-7ff9-48cb-a064-f873a052597b",
        "colab": {
          "base_uri": "https://localhost:8080/"
        }
      },
      "id": "iNIYucsOvEi3",
      "execution_count": 64,
      "outputs": [
        {
          "output_type": "execute_result",
          "data": {
            "text/plain": [
              "torch.Size([3, 224, 224])"
            ]
          },
          "metadata": {},
          "execution_count": 64
        }
      ]
    },
    {
      "cell_type": "markdown",
      "source": [
        "## Indexing (selecting data from tensors)"
      ],
      "metadata": {
        "id": "DQl6OXhSwtBp"
      },
      "id": "DQl6OXhSwtBp"
    },
    {
      "cell_type": "code",
      "source": [
        "# Create a tensor\n",
        "x = torch.arange(1, 10).reshape(1, 3, 3)\n",
        "x, x.shape"
      ],
      "metadata": {
        "id": "wD97CdUQwyAv",
        "outputId": "6dade038-12e7-40f0-dbd6-fccf4fdfda53",
        "colab": {
          "base_uri": "https://localhost:8080/"
        }
      },
      "id": "wD97CdUQwyAv",
      "execution_count": 65,
      "outputs": [
        {
          "output_type": "execute_result",
          "data": {
            "text/plain": [
              "(tensor([[[1, 2, 3],\n",
              "          [4, 5, 6],\n",
              "          [7, 8, 9]]]),\n",
              " torch.Size([1, 3, 3]))"
            ]
          },
          "metadata": {},
          "execution_count": 65
        }
      ]
    },
    {
      "cell_type": "code",
      "source": [
        "# Index on the first bracket\n",
        "x[0]"
      ],
      "metadata": {
        "id": "IWiBsLYAxMuL",
        "outputId": "d6704cd5-5edd-4594-e4de-da43f42a4db0",
        "colab": {
          "base_uri": "https://localhost:8080/"
        }
      },
      "id": "IWiBsLYAxMuL",
      "execution_count": 66,
      "outputs": [
        {
          "output_type": "execute_result",
          "data": {
            "text/plain": [
              "tensor([[1, 2, 3],\n",
              "        [4, 5, 6],\n",
              "        [7, 8, 9]])"
            ]
          },
          "metadata": {},
          "execution_count": 66
        }
      ]
    },
    {
      "cell_type": "code",
      "source": [
        "# Index on the middle bracket (dim=1)\n",
        "x[0][0]"
      ],
      "metadata": {
        "id": "kSZxCcKQxZU6",
        "outputId": "ffddd538-1f65-4bce-d6e7-943b5734461a",
        "colab": {
          "base_uri": "https://localhost:8080/"
        }
      },
      "id": "kSZxCcKQxZU6",
      "execution_count": 67,
      "outputs": [
        {
          "output_type": "execute_result",
          "data": {
            "text/plain": [
              "tensor([1, 2, 3])"
            ]
          },
          "metadata": {},
          "execution_count": 67
        }
      ]
    },
    {
      "cell_type": "code",
      "source": [
        "# Index in the most inner bracket (last dimension, dim=2)\n",
        "x[0][0][0]"
      ],
      "metadata": {
        "id": "Ojp-9Z_KxlTr",
        "outputId": "4e9606c7-c66b-444c-8d43-de3e8c3cd4ff",
        "colab": {
          "base_uri": "https://localhost:8080/"
        }
      },
      "id": "Ojp-9Z_KxlTr",
      "execution_count": 68,
      "outputs": [
        {
          "output_type": "execute_result",
          "data": {
            "text/plain": [
              "tensor(1)"
            ]
          },
          "metadata": {},
          "execution_count": 68
        }
      ]
    },
    {
      "cell_type": "code",
      "source": [
        "# Getting number 9\n",
        "x[0][2][2]"
      ],
      "metadata": {
        "id": "-2iQ0PIjx8i_",
        "outputId": "991e1d02-1fa8-45ca-e6be-bc5c8181e824",
        "colab": {
          "base_uri": "https://localhost:8080/"
        }
      },
      "id": "-2iQ0PIjx8i_",
      "execution_count": 69,
      "outputs": [
        {
          "output_type": "execute_result",
          "data": {
            "text/plain": [
              "tensor(9)"
            ]
          },
          "metadata": {},
          "execution_count": 69
        }
      ]
    },
    {
      "cell_type": "code",
      "source": [
        "# You can also use \":\" to select \"all\" from a target dimension\n",
        "x[:, 0]"
      ],
      "metadata": {
        "id": "LFdUJ1nAyfnF",
        "outputId": "d526e097-b633-46e9-bb84-40f86960e4ed",
        "colab": {
          "base_uri": "https://localhost:8080/"
        }
      },
      "id": "LFdUJ1nAyfnF",
      "execution_count": 70,
      "outputs": [
        {
          "output_type": "execute_result",
          "data": {
            "text/plain": [
              "tensor([[1, 2, 3]])"
            ]
          },
          "metadata": {},
          "execution_count": 70
        }
      ]
    },
    {
      "cell_type": "code",
      "source": [
        "# Get all values from 0th and 1st dimension but only index 1 of 2nd dimension\n",
        "x[:, :, 1]"
      ],
      "metadata": {
        "id": "tg-IjP4JynV2",
        "outputId": "27b62ad4-1636-438e-8666-7e7114b72ae2",
        "colab": {
          "base_uri": "https://localhost:8080/"
        }
      },
      "id": "tg-IjP4JynV2",
      "execution_count": 71,
      "outputs": [
        {
          "output_type": "execute_result",
          "data": {
            "text/plain": [
              "tensor([[2, 5, 8]])"
            ]
          },
          "metadata": {},
          "execution_count": 71
        }
      ]
    },
    {
      "cell_type": "code",
      "source": [
        "# Get all values of the 0th dimension but only the 1 index value of the 1st and 2nd dimension\n",
        "x[:, 1, 1]"
      ],
      "metadata": {
        "id": "Sqqfq4QPzBWx",
        "outputId": "4b4a17f3-aeb3-480c-f088-59f9afb61571",
        "colab": {
          "base_uri": "https://localhost:8080/"
        }
      },
      "id": "Sqqfq4QPzBWx",
      "execution_count": 72,
      "outputs": [
        {
          "output_type": "execute_result",
          "data": {
            "text/plain": [
              "tensor([5])"
            ]
          },
          "metadata": {},
          "execution_count": 72
        }
      ]
    },
    {
      "cell_type": "code",
      "source": [
        "# Get index 0 of 0th and 1st dimension and all values of 2nd dimension\n",
        "x[0, 0, :]"
      ],
      "metadata": {
        "id": "l0sbQGOGzrmW",
        "outputId": "f543cc38-4459-4518-9682-c24472b3ca88",
        "colab": {
          "base_uri": "https://localhost:8080/"
        }
      },
      "id": "l0sbQGOGzrmW",
      "execution_count": 73,
      "outputs": [
        {
          "output_type": "execute_result",
          "data": {
            "text/plain": [
              "tensor([1, 2, 3])"
            ]
          },
          "metadata": {},
          "execution_count": 73
        }
      ]
    },
    {
      "cell_type": "code",
      "source": [
        "# Challenge: Index on \"x\" to return 9\n",
        "display(x[0, 2, 2])\n",
        "\n",
        "# Challenge: Index on \"x\" to return 3, 6, 9\n",
        "display(x[:, :, 2])"
      ],
      "metadata": {
        "id": "KpCQXyRvz6TB",
        "outputId": "30287b4a-db95-473b-c5cb-6f77586afa8b",
        "colab": {
          "base_uri": "https://localhost:8080/",
          "height": 54
        }
      },
      "id": "KpCQXyRvz6TB",
      "execution_count": 74,
      "outputs": [
        {
          "output_type": "display_data",
          "data": {
            "text/plain": [
              "tensor(9)"
            ]
          },
          "metadata": {}
        },
        {
          "output_type": "display_data",
          "data": {
            "text/plain": [
              "tensor([[3, 6, 9]])"
            ]
          },
          "metadata": {}
        }
      ]
    },
    {
      "cell_type": "markdown",
      "source": [
        "## PyTorch tensors & NumPy\n",
        "\n",
        "* From data in NumPy to PyTorch tensor -> `torch.from_numpy(ndarray)`\n",
        "* From data in PyTorch tensor to NumPy -> `torch.Tensor.numpy()`"
      ],
      "metadata": {
        "id": "mZtViTXB1dPO"
      },
      "id": "mZtViTXB1dPO"
    },
    {
      "cell_type": "code",
      "source": [
        "# NumPy array to tensor\n",
        "\n",
        "array = np.arange(1.0, 8.0)\n",
        "tensor = torch.from_numpy(array)\n",
        "array, tensor"
      ],
      "metadata": {
        "id": "Vk2Cfi6N0LTe",
        "outputId": "a577a83d-0158-4c4d-bbf3-bbffd0007a20",
        "colab": {
          "base_uri": "https://localhost:8080/"
        }
      },
      "id": "Vk2Cfi6N0LTe",
      "execution_count": 75,
      "outputs": [
        {
          "output_type": "execute_result",
          "data": {
            "text/plain": [
              "(array([1., 2., 3., 4., 5., 6., 7.]),\n",
              " tensor([1., 2., 3., 4., 5., 6., 7.], dtype=torch.float64))"
            ]
          },
          "metadata": {},
          "execution_count": 75
        }
      ]
    },
    {
      "cell_type": "code",
      "source": [
        "array.dtype"
      ],
      "metadata": {
        "id": "k1MYorKw2Iaa",
        "outputId": "63b53ae0-e12f-4f1c-dc7d-b036691da962",
        "colab": {
          "base_uri": "https://localhost:8080/"
        }
      },
      "id": "k1MYorKw2Iaa",
      "execution_count": 76,
      "outputs": [
        {
          "output_type": "execute_result",
          "data": {
            "text/plain": [
              "dtype('float64')"
            ]
          },
          "metadata": {},
          "execution_count": 76
        }
      ]
    },
    {
      "cell_type": "code",
      "source": [],
      "metadata": {
        "id": "2Y6zR3-z2XXb"
      },
      "id": "2Y6zR3-z2XXb",
      "execution_count": 76,
      "outputs": []
    },
    {
      "cell_type": "markdown",
      "source": [
        "03:36:52"
      ],
      "metadata": {
        "id": "qlisxr2c2hkJ"
      },
      "id": "qlisxr2c2hkJ"
    }
  ],
  "metadata": {
    "kernelspec": {
      "display_name": "Python 3",
      "name": "python3"
    },
    "language_info": {
      "codemirror_mode": {
        "name": "ipython",
        "version": 3
      },
      "file_extension": ".py",
      "mimetype": "text/x-python",
      "name": "python",
      "nbconvert_exporter": "python",
      "pygments_lexer": "ipython3",
      "version": "3.11.2"
    },
    "colab": {
      "provenance": [],
      "toc_visible": true
    }
  },
  "nbformat": 4,
  "nbformat_minor": 5
}