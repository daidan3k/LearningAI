{
  "cells": [
    {
      "cell_type": "markdown",
      "metadata": {
        "id": "view-in-github",
        "colab_type": "text"
      },
      "source": [
        "<a href=\"https://colab.research.google.com/github/daidan3k/LearningAI/blob/main/courses/Deep%20Learning%20PyTorch/00-pytorch-fundamentals.ipynb\" target=\"_parent\"><img src=\"https://colab.research.google.com/assets/colab-badge.svg\" alt=\"Open In Colab\"/></a>"
      ]
    },
    {
      "cell_type": "markdown",
      "id": "68be6d01",
      "metadata": {
        "id": "68be6d01"
      },
      "source": [
        "# 00. PyTorch Fundamentals"
      ]
    },
    {
      "cell_type": "code",
      "execution_count": 1,
      "id": "6b35bcc5",
      "metadata": {
        "id": "6b35bcc5",
        "outputId": "56bed552-933c-4ee5-d6bd-e82e6a210732",
        "colab": {
          "base_uri": "https://localhost:8080/"
        }
      },
      "outputs": [
        {
          "output_type": "stream",
          "name": "stdout",
          "text": [
            "2.6.0+cu124\n"
          ]
        }
      ],
      "source": [
        "import torch\n",
        "import pandas as pd\n",
        "import numpy as np\n",
        "import matplotlib.pyplot as plt\n",
        "print(torch.__version__)"
      ]
    },
    {
      "cell_type": "markdown",
      "source": [
        "## Introduction to tensors"
      ],
      "metadata": {
        "id": "C6j9SuL5tKHH"
      },
      "id": "C6j9SuL5tKHH"
    },
    {
      "cell_type": "markdown",
      "source": [
        "### Creating tensors"
      ],
      "metadata": {
        "id": "3SV0xFbM3JCl"
      },
      "id": "3SV0xFbM3JCl"
    },
    {
      "cell_type": "code",
      "source": [
        "# SCALAR\n",
        "scalar = torch.tensor(7)\n",
        "scalar"
      ],
      "metadata": {
        "colab": {
          "base_uri": "https://localhost:8080/"
        },
        "id": "K-z2lJ-FtM6x",
        "outputId": "f98706bb-1b4b-494c-cd45-f73a5ac413d1"
      },
      "id": "K-z2lJ-FtM6x",
      "execution_count": 2,
      "outputs": [
        {
          "output_type": "execute_result",
          "data": {
            "text/plain": [
              "tensor(7)"
            ]
          },
          "metadata": {},
          "execution_count": 2
        }
      ]
    },
    {
      "cell_type": "code",
      "source": [
        "scalar.ndim"
      ],
      "metadata": {
        "colab": {
          "base_uri": "https://localhost:8080/"
        },
        "id": "ztljUWbTxNgb",
        "outputId": "86563675-9c25-4703-ad9c-af1f5f5a4e70"
      },
      "id": "ztljUWbTxNgb",
      "execution_count": 3,
      "outputs": [
        {
          "output_type": "execute_result",
          "data": {
            "text/plain": [
              "0"
            ]
          },
          "metadata": {},
          "execution_count": 3
        }
      ]
    },
    {
      "cell_type": "code",
      "source": [
        "# Get tensor back as Python int\n",
        "scalar.item()"
      ],
      "metadata": {
        "colab": {
          "base_uri": "https://localhost:8080/"
        },
        "id": "3T1tszoayBB3",
        "outputId": "f30edb30-3668-44d5-8ef8-a69f53046e72"
      },
      "id": "3T1tszoayBB3",
      "execution_count": 4,
      "outputs": [
        {
          "output_type": "execute_result",
          "data": {
            "text/plain": [
              "7"
            ]
          },
          "metadata": {},
          "execution_count": 4
        }
      ]
    },
    {
      "cell_type": "code",
      "source": [
        "# VECTOR\n",
        "vector = torch.tensor([7, 7])\n",
        "vector"
      ],
      "metadata": {
        "colab": {
          "base_uri": "https://localhost:8080/"
        },
        "id": "stOr6ChSyDno",
        "outputId": "ed89938d-56fa-4d87-bc83-cb4c86996332"
      },
      "id": "stOr6ChSyDno",
      "execution_count": 5,
      "outputs": [
        {
          "output_type": "execute_result",
          "data": {
            "text/plain": [
              "tensor([7, 7])"
            ]
          },
          "metadata": {},
          "execution_count": 5
        }
      ]
    },
    {
      "cell_type": "code",
      "source": [
        "vector.ndim"
      ],
      "metadata": {
        "colab": {
          "base_uri": "https://localhost:8080/"
        },
        "id": "pVH0S-65yU89",
        "outputId": "156df500-f1ad-4b84-924e-ef262ba6e82e"
      },
      "id": "pVH0S-65yU89",
      "execution_count": 6,
      "outputs": [
        {
          "output_type": "execute_result",
          "data": {
            "text/plain": [
              "1"
            ]
          },
          "metadata": {},
          "execution_count": 6
        }
      ]
    },
    {
      "cell_type": "code",
      "source": [
        "vector.shape"
      ],
      "metadata": {
        "colab": {
          "base_uri": "https://localhost:8080/"
        },
        "id": "9RYQifDJytzW",
        "outputId": "a4716c98-ce3e-41df-cbf2-ef663988a27c"
      },
      "id": "9RYQifDJytzW",
      "execution_count": 7,
      "outputs": [
        {
          "output_type": "execute_result",
          "data": {
            "text/plain": [
              "torch.Size([2])"
            ]
          },
          "metadata": {},
          "execution_count": 7
        }
      ]
    },
    {
      "cell_type": "code",
      "source": [
        "# MATRIX\n",
        "matrix = torch.tensor([[7, 8], [9, 10]])\n",
        "matrix"
      ],
      "metadata": {
        "colab": {
          "base_uri": "https://localhost:8080/"
        },
        "id": "NsVOHzeBzLZA",
        "outputId": "14255e51-1019-4bf1-d8a6-2b97e2560301"
      },
      "id": "NsVOHzeBzLZA",
      "execution_count": 8,
      "outputs": [
        {
          "output_type": "execute_result",
          "data": {
            "text/plain": [
              "tensor([[ 7,  8],\n",
              "        [ 9, 10]])"
            ]
          },
          "metadata": {},
          "execution_count": 8
        }
      ]
    },
    {
      "cell_type": "code",
      "source": [
        "matrix.ndim"
      ],
      "metadata": {
        "colab": {
          "base_uri": "https://localhost:8080/"
        },
        "id": "Yrxy8X-rzhOf",
        "outputId": "0d5ef4e9-3db8-4893-c0d9-d0038413b73c"
      },
      "id": "Yrxy8X-rzhOf",
      "execution_count": 9,
      "outputs": [
        {
          "output_type": "execute_result",
          "data": {
            "text/plain": [
              "2"
            ]
          },
          "metadata": {},
          "execution_count": 9
        }
      ]
    },
    {
      "cell_type": "code",
      "source": [
        "matrix[1]"
      ],
      "metadata": {
        "colab": {
          "base_uri": "https://localhost:8080/"
        },
        "id": "mxwpV8O8zkqv",
        "outputId": "da98eb84-9738-495d-8c43-1682dc4f7aee"
      },
      "id": "mxwpV8O8zkqv",
      "execution_count": 10,
      "outputs": [
        {
          "output_type": "execute_result",
          "data": {
            "text/plain": [
              "tensor([ 9, 10])"
            ]
          },
          "metadata": {},
          "execution_count": 10
        }
      ]
    },
    {
      "cell_type": "code",
      "source": [
        "matrix.shape"
      ],
      "metadata": {
        "colab": {
          "base_uri": "https://localhost:8080/"
        },
        "id": "avPa4pVozxkq",
        "outputId": "71506ba5-16fc-4d52-c906-9454df7e9c9e"
      },
      "id": "avPa4pVozxkq",
      "execution_count": 11,
      "outputs": [
        {
          "output_type": "execute_result",
          "data": {
            "text/plain": [
              "torch.Size([2, 2])"
            ]
          },
          "metadata": {},
          "execution_count": 11
        }
      ]
    },
    {
      "cell_type": "code",
      "source": [
        "# TENSOR\n",
        "tensor = torch.tensor([[[1], [2]], [[3], [4]], [[5], [6]]])\n",
        "tensor"
      ],
      "metadata": {
        "colab": {
          "base_uri": "https://localhost:8080/"
        },
        "id": "yWuBbyURz7Xb",
        "outputId": "52f75cf0-d8b6-4e22-e4c8-48926baac840"
      },
      "id": "yWuBbyURz7Xb",
      "execution_count": 12,
      "outputs": [
        {
          "output_type": "execute_result",
          "data": {
            "text/plain": [
              "tensor([[[1],\n",
              "         [2]],\n",
              "\n",
              "        [[3],\n",
              "         [4]],\n",
              "\n",
              "        [[5],\n",
              "         [6]]])"
            ]
          },
          "metadata": {},
          "execution_count": 12
        }
      ]
    },
    {
      "cell_type": "code",
      "source": [
        "tensor.ndim"
      ],
      "metadata": {
        "colab": {
          "base_uri": "https://localhost:8080/"
        },
        "id": "mGkBnkkC0UmY",
        "outputId": "a9c52d41-6b48-4c54-9176-e21384a2b145"
      },
      "id": "mGkBnkkC0UmY",
      "execution_count": 13,
      "outputs": [
        {
          "output_type": "execute_result",
          "data": {
            "text/plain": [
              "3"
            ]
          },
          "metadata": {},
          "execution_count": 13
        }
      ]
    },
    {
      "cell_type": "code",
      "source": [
        "tensor.shape"
      ],
      "metadata": {
        "colab": {
          "base_uri": "https://localhost:8080/"
        },
        "id": "gwh_VvxM0ctk",
        "outputId": "7a621b32-ff40-4461-c032-e579ba188489"
      },
      "id": "gwh_VvxM0ctk",
      "execution_count": 14,
      "outputs": [
        {
          "output_type": "execute_result",
          "data": {
            "text/plain": [
              "torch.Size([3, 2, 1])"
            ]
          },
          "metadata": {},
          "execution_count": 14
        }
      ]
    },
    {
      "cell_type": "code",
      "source": [
        "tensor[0]"
      ],
      "metadata": {
        "colab": {
          "base_uri": "https://localhost:8080/"
        },
        "id": "mePF8yf00o_T",
        "outputId": "c5649110-794a-4801-8fbe-56f5c52d57f3"
      },
      "id": "mePF8yf00o_T",
      "execution_count": 15,
      "outputs": [
        {
          "output_type": "execute_result",
          "data": {
            "text/plain": [
              "tensor([[1],\n",
              "        [2]])"
            ]
          },
          "metadata": {},
          "execution_count": 15
        }
      ]
    },
    {
      "cell_type": "markdown",
      "source": [
        "### Random tensors"
      ],
      "metadata": {
        "id": "CxAFBWBT24WF"
      },
      "id": "CxAFBWBT24WF"
    },
    {
      "cell_type": "code",
      "source": [
        "# Create a random tensor of shape (3, 4)\n",
        "random_tensor = torch.rand(3, 4)\n",
        "random_tensor"
      ],
      "metadata": {
        "colab": {
          "base_uri": "https://localhost:8080/"
        },
        "id": "rB0VdjRM25si",
        "outputId": "fe856b41-1113-4d31-b4e6-1c8ef78d71cb"
      },
      "id": "rB0VdjRM25si",
      "execution_count": 16,
      "outputs": [
        {
          "output_type": "execute_result",
          "data": {
            "text/plain": [
              "tensor([[0.8106, 0.0728, 0.8498, 0.0141],\n",
              "        [0.3974, 0.2349, 0.8410, 0.3881],\n",
              "        [0.9468, 0.5628, 0.1640, 0.0489]])"
            ]
          },
          "metadata": {},
          "execution_count": 16
        }
      ]
    },
    {
      "cell_type": "code",
      "source": [
        "random_tensor.ndim"
      ],
      "metadata": {
        "colab": {
          "base_uri": "https://localhost:8080/"
        },
        "id": "rnydUn4N4arT",
        "outputId": "14aed278-6841-4b19-d362-cc1cc72d679a"
      },
      "id": "rnydUn4N4arT",
      "execution_count": 17,
      "outputs": [
        {
          "output_type": "execute_result",
          "data": {
            "text/plain": [
              "2"
            ]
          },
          "metadata": {},
          "execution_count": 17
        }
      ]
    },
    {
      "cell_type": "code",
      "source": [
        "# Create a random tensor with a similar shape to an image tensor\n",
        "random_image_size_tensor = torch.rand(3, 244, 244) # height, width, color channel\n",
        "random_image_size_tensor.shape, random_image_size_tensor.ndim"
      ],
      "metadata": {
        "colab": {
          "base_uri": "https://localhost:8080/"
        },
        "id": "fI2poGmO4dch",
        "outputId": "6f90feb4-014d-4400-e5b5-1287afa46cba"
      },
      "id": "fI2poGmO4dch",
      "execution_count": 18,
      "outputs": [
        {
          "output_type": "execute_result",
          "data": {
            "text/plain": [
              "(torch.Size([3, 244, 244]), 3)"
            ]
          },
          "metadata": {},
          "execution_count": 18
        }
      ]
    },
    {
      "cell_type": "markdown",
      "source": [
        "### Zeros and ones"
      ],
      "metadata": {
        "id": "XZw_8JgeUMx6"
      },
      "id": "XZw_8JgeUMx6"
    },
    {
      "cell_type": "code",
      "source": [
        "# Create a tensor of all zeros\n",
        "zeros = torch.zeros(3, 4)\n",
        "zeros"
      ],
      "metadata": {
        "colab": {
          "base_uri": "https://localhost:8080/"
        },
        "id": "ge4RVIk5UO0V",
        "outputId": "ca62ad1c-50d2-4d64-a5da-d451dade2e47"
      },
      "id": "ge4RVIk5UO0V",
      "execution_count": 19,
      "outputs": [
        {
          "output_type": "execute_result",
          "data": {
            "text/plain": [
              "tensor([[0., 0., 0., 0.],\n",
              "        [0., 0., 0., 0.],\n",
              "        [0., 0., 0., 0.]])"
            ]
          },
          "metadata": {},
          "execution_count": 19
        }
      ]
    },
    {
      "cell_type": "code",
      "source": [
        "# Create a tensor of all ones\n",
        "ones = torch.ones(3, 4)\n",
        "ones"
      ],
      "metadata": {
        "colab": {
          "base_uri": "https://localhost:8080/"
        },
        "id": "t8QKC0Q9Ufzf",
        "outputId": "53321bd2-9efe-4c6b-9287-d3a4306b44d5"
      },
      "id": "t8QKC0Q9Ufzf",
      "execution_count": 20,
      "outputs": [
        {
          "output_type": "execute_result",
          "data": {
            "text/plain": [
              "tensor([[1., 1., 1., 1.],\n",
              "        [1., 1., 1., 1.],\n",
              "        [1., 1., 1., 1.]])"
            ]
          },
          "metadata": {},
          "execution_count": 20
        }
      ]
    },
    {
      "cell_type": "code",
      "source": [
        "ones.dtype, random_tensor.dtype # Default data type is torch.float32"
      ],
      "metadata": {
        "colab": {
          "base_uri": "https://localhost:8080/"
        },
        "id": "2EmeEWr4U0lj",
        "outputId": "564e38ab-84d8-4144-abb7-2fc665a663e6"
      },
      "id": "2EmeEWr4U0lj",
      "execution_count": 21,
      "outputs": [
        {
          "output_type": "execute_result",
          "data": {
            "text/plain": [
              "(torch.float32, torch.float32)"
            ]
          },
          "metadata": {},
          "execution_count": 21
        }
      ]
    },
    {
      "cell_type": "markdown",
      "source": [
        "### Creating a range of tensors and tensors-like"
      ],
      "metadata": {
        "id": "YfQ9LPf8VHyJ"
      },
      "id": "YfQ9LPf8VHyJ"
    },
    {
      "cell_type": "code",
      "source": [
        "# Use torch.arange()\n",
        "one_to_ten = torch.arange(1, 11, step=1)\n",
        "one_to_ten"
      ],
      "metadata": {
        "colab": {
          "base_uri": "https://localhost:8080/"
        },
        "id": "YLCcoee1VKsH",
        "outputId": "aaf51fd5-e36c-429b-900b-3145963ff36c"
      },
      "id": "YLCcoee1VKsH",
      "execution_count": 22,
      "outputs": [
        {
          "output_type": "execute_result",
          "data": {
            "text/plain": [
              "tensor([ 1,  2,  3,  4,  5,  6,  7,  8,  9, 10])"
            ]
          },
          "metadata": {},
          "execution_count": 22
        }
      ]
    },
    {
      "cell_type": "code",
      "source": [
        "# Creating tensors like\n",
        "ten_zeros = torch.zeros_like(one_to_ten)\n",
        "ten_zeros"
      ],
      "metadata": {
        "colab": {
          "base_uri": "https://localhost:8080/"
        },
        "id": "MRwXeeSLVzvI",
        "outputId": "b773b2cf-c637-4b51-ad31-b11baf2b947b"
      },
      "id": "MRwXeeSLVzvI",
      "execution_count": 23,
      "outputs": [
        {
          "output_type": "execute_result",
          "data": {
            "text/plain": [
              "tensor([0, 0, 0, 0, 0, 0, 0, 0, 0, 0])"
            ]
          },
          "metadata": {},
          "execution_count": 23
        }
      ]
    },
    {
      "cell_type": "markdown",
      "source": [
        "### Tensor datatypes"
      ],
      "metadata": {
        "id": "s8_4rn0LWnTS"
      },
      "id": "s8_4rn0LWnTS"
    },
    {
      "cell_type": "code",
      "source": [
        "# Float32 tensor\n",
        "float_32_tensor = torch.tensor([3.0, 6.0, 9.0],\n",
        "                               dtype=None, # What datatype is the tensor (e.g. float32)\n",
        "                               device=None, # CPU/GPU/TPU\n",
        "                               requires_grad=False) # Record the operations performed on the tensor\n",
        "float_32_tensor.dtype"
      ],
      "metadata": {
        "colab": {
          "base_uri": "https://localhost:8080/"
        },
        "id": "aH15TTY8WpBW",
        "outputId": "34742b2d-cf22-422c-f81f-282b0057b979"
      },
      "id": "aH15TTY8WpBW",
      "execution_count": 24,
      "outputs": [
        {
          "output_type": "execute_result",
          "data": {
            "text/plain": [
              "torch.float32"
            ]
          },
          "metadata": {},
          "execution_count": 24
        }
      ]
    },
    {
      "cell_type": "code",
      "source": [
        "float_16_tensor = float_32_tensor.type(torch.float16)\n",
        "float_16_tensor.dtype"
      ],
      "metadata": {
        "colab": {
          "base_uri": "https://localhost:8080/"
        },
        "id": "0tmDzOl7YsDp",
        "outputId": "84951d18-0031-4a01-d754-e4cc66945d56"
      },
      "id": "0tmDzOl7YsDp",
      "execution_count": 25,
      "outputs": [
        {
          "output_type": "execute_result",
          "data": {
            "text/plain": [
              "torch.float16"
            ]
          },
          "metadata": {},
          "execution_count": 25
        }
      ]
    },
    {
      "cell_type": "code",
      "source": [
        "float_16_tensor * float_32_tensor"
      ],
      "metadata": {
        "colab": {
          "base_uri": "https://localhost:8080/"
        },
        "id": "zKkHLK3IZNj0",
        "outputId": "959a317b-f282-43b4-df24-b5c6a0ad4bc2"
      },
      "id": "zKkHLK3IZNj0",
      "execution_count": 26,
      "outputs": [
        {
          "output_type": "execute_result",
          "data": {
            "text/plain": [
              "tensor([ 9., 36., 81.])"
            ]
          },
          "metadata": {},
          "execution_count": 26
        }
      ]
    },
    {
      "cell_type": "code",
      "source": [
        "long_tensor = float_32_tensor.type(torch.LongTensor)\n",
        "long_tensor.dtype"
      ],
      "metadata": {
        "colab": {
          "base_uri": "https://localhost:8080/"
        },
        "id": "B-r9kRp0ZoWJ",
        "outputId": "81144036-bff1-4912-f590-3d9199b9a255"
      },
      "id": "B-r9kRp0ZoWJ",
      "execution_count": 27,
      "outputs": [
        {
          "output_type": "execute_result",
          "data": {
            "text/plain": [
              "torch.int64"
            ]
          },
          "metadata": {},
          "execution_count": 27
        }
      ]
    },
    {
      "cell_type": "code",
      "source": [
        "float_32_tensor * long_tensor"
      ],
      "metadata": {
        "colab": {
          "base_uri": "https://localhost:8080/"
        },
        "id": "HBiSw8X0ZtPF",
        "outputId": "a2eb3bff-7b91-469d-fb47-27fdedf2f7ef"
      },
      "id": "HBiSw8X0ZtPF",
      "execution_count": 28,
      "outputs": [
        {
          "output_type": "execute_result",
          "data": {
            "text/plain": [
              "tensor([ 9., 36., 81.])"
            ]
          },
          "metadata": {},
          "execution_count": 28
        }
      ]
    },
    {
      "cell_type": "markdown",
      "source": [
        "## Getting information about tensors\n",
        "\n",
        "1. Tensors are not the right datatype - `tensor.dtype`\n",
        "2. Tensors are not the right shapre - `tensor.shape`\n",
        "3. Tensors are not on the same device - `tensor.device`"
      ],
      "metadata": {
        "id": "bszuHqCyaThq"
      },
      "id": "bszuHqCyaThq"
    },
    {
      "cell_type": "code",
      "source": [
        "# Create a tensor\n",
        "some_tensor = torch.rand([3, 4], device='cpu')\n",
        "some_tensor"
      ],
      "metadata": {
        "colab": {
          "base_uri": "https://localhost:8080/"
        },
        "id": "-Sl1ss_qaqWX",
        "outputId": "24b2b2b5-6dc9-4611-b9f3-b32838b4e62d"
      },
      "id": "-Sl1ss_qaqWX",
      "execution_count": 29,
      "outputs": [
        {
          "output_type": "execute_result",
          "data": {
            "text/plain": [
              "tensor([[0.1330, 0.2830, 0.3025, 0.6413],\n",
              "        [0.1149, 0.5835, 0.4417, 0.8124],\n",
              "        [0.9199, 0.8969, 0.1384, 0.2271]])"
            ]
          },
          "metadata": {},
          "execution_count": 29
        }
      ]
    },
    {
      "cell_type": "code",
      "source": [
        "print(f\"DataType: {some_tensor.dtype}\")\n",
        "print(f\"Shape: {some_tensor.shape}\")\n",
        "print(f\"Device: {some_tensor.device}\")"
      ],
      "metadata": {
        "colab": {
          "base_uri": "https://localhost:8080/"
        },
        "id": "mcQPcKJeayaa",
        "outputId": "6a992070-1592-4b61-c7c9-7c08d3a917e0"
      },
      "id": "mcQPcKJeayaa",
      "execution_count": 30,
      "outputs": [
        {
          "output_type": "stream",
          "name": "stdout",
          "text": [
            "DataType: torch.float32\n",
            "Shape: torch.Size([3, 4])\n",
            "Device: cpu\n"
          ]
        }
      ]
    },
    {
      "cell_type": "markdown",
      "source": [
        "## Manipulating tensors"
      ],
      "metadata": {
        "id": "SL-T4fi2cbSD"
      },
      "id": "SL-T4fi2cbSD"
    },
    {
      "cell_type": "markdown",
      "source": [
        "### Basic operations\n",
        "Tensor operations include:\n",
        "* Multiplication (element-wise)\n",
        "* Matrix multiplication\n",
        "* Division\n",
        "* Addition\n",
        "* Substraction\n"
      ],
      "metadata": {
        "id": "-V7k-xVkcpJN"
      },
      "id": "-V7k-xVkcpJN"
    },
    {
      "cell_type": "code",
      "source": [
        "# Create a tensor and add 10 to it\n",
        "tensor = torch.tensor([1, 2, 3])\n",
        "tensor + 10"
      ],
      "metadata": {
        "colab": {
          "base_uri": "https://localhost:8080/"
        },
        "id": "3ysWeKeCa3dp",
        "outputId": "033321a8-c1e1-4af1-ed3d-3785e1758f0f"
      },
      "id": "3ysWeKeCa3dp",
      "execution_count": 31,
      "outputs": [
        {
          "output_type": "execute_result",
          "data": {
            "text/plain": [
              "tensor([11, 12, 13])"
            ]
          },
          "metadata": {},
          "execution_count": 31
        }
      ]
    },
    {
      "cell_type": "code",
      "source": [
        "# Multiply tensor by 10\n",
        "tensor * 10"
      ],
      "metadata": {
        "colab": {
          "base_uri": "https://localhost:8080/"
        },
        "id": "z9We2ajAdWJw",
        "outputId": "686686ea-8cde-443a-f72c-357cd0cf2a54"
      },
      "id": "z9We2ajAdWJw",
      "execution_count": 32,
      "outputs": [
        {
          "output_type": "execute_result",
          "data": {
            "text/plain": [
              "tensor([10, 20, 30])"
            ]
          },
          "metadata": {},
          "execution_count": 32
        }
      ]
    },
    {
      "cell_type": "code",
      "source": [
        "# Subtract 10\n",
        "tensor - 10"
      ],
      "metadata": {
        "colab": {
          "base_uri": "https://localhost:8080/"
        },
        "id": "JmnhEAnydkjq",
        "outputId": "b96a6584-4024-4583-8190-b00bb7d5a18d"
      },
      "id": "JmnhEAnydkjq",
      "execution_count": 33,
      "outputs": [
        {
          "output_type": "execute_result",
          "data": {
            "text/plain": [
              "tensor([-9, -8, -7])"
            ]
          },
          "metadata": {},
          "execution_count": 33
        }
      ]
    },
    {
      "cell_type": "code",
      "source": [
        "# Try out pytorch in-built functions\n",
        "display(torch.mul(tensor, 10))\n",
        "display(torch.add(tensor, 10))\n",
        "display(torch.div(tensor, 10))"
      ],
      "metadata": {
        "colab": {
          "base_uri": "https://localhost:8080/",
          "height": 72
        },
        "id": "n0XcIVYXdohW",
        "outputId": "56082388-cec4-4740-cb1e-61ff3ebf35b7"
      },
      "id": "n0XcIVYXdohW",
      "execution_count": 34,
      "outputs": [
        {
          "output_type": "display_data",
          "data": {
            "text/plain": [
              "tensor([10, 20, 30])"
            ]
          },
          "metadata": {}
        },
        {
          "output_type": "display_data",
          "data": {
            "text/plain": [
              "tensor([11, 12, 13])"
            ]
          },
          "metadata": {}
        },
        {
          "output_type": "display_data",
          "data": {
            "text/plain": [
              "tensor([0.1000, 0.2000, 0.3000])"
            ]
          },
          "metadata": {}
        }
      ]
    },
    {
      "cell_type": "markdown",
      "source": [
        "### Matrix multiplication\n",
        "\n",
        "Two main ways to perfrom multiplications in neural networks and deep learning:\n",
        "1. Element-wise multiplication\n",
        "2. Matrix multiplication (dot product)"
      ],
      "metadata": {
        "id": "Am4bbUbyfLSM"
      },
      "id": "Am4bbUbyfLSM"
    },
    {
      "cell_type": "code",
      "source": [
        "#################\n",
        "### Challenge ###\n",
        "#################\n",
        "\n",
        "# Perform a dot product of theese tensors (step by step)\n",
        "t1 = torch.tensor([[1, 2, 3], [4, 5, 6]])\n",
        "display(t1)\n",
        "t2 = torch.tensor([[7, 8], [9, 10], [11, 12]])\n",
        "display(t2)\n",
        "\n",
        "# Code\n",
        "step1 = sum(t1[0] * torch.transpose(t2, 0, 1)[0]) # First row by first column\n",
        "step2 = sum(t1[0] * torch.transpose(t2, 0, 1)[1]) # First row by second column\n",
        "step3 = sum(t1[1] * torch.transpose(t2, 0, 1)[0]) # Second row by first column\n",
        "step4 = sum(t1[1] * torch.transpose(t2, 0, 1)[1]) # Second row by second column\n",
        "\n",
        "result = torch.tensor([[step1, step2], [step3, step4]])\n",
        "result"
      ],
      "metadata": {
        "colab": {
          "base_uri": "https://localhost:8080/",
          "height": 146
        },
        "id": "Os_XPFQnd0wv",
        "outputId": "cd19abfb-100a-46e7-cbc6-a4529a9f31ab"
      },
      "id": "Os_XPFQnd0wv",
      "execution_count": 35,
      "outputs": [
        {
          "output_type": "display_data",
          "data": {
            "text/plain": [
              "tensor([[1, 2, 3],\n",
              "        [4, 5, 6]])"
            ]
          },
          "metadata": {}
        },
        {
          "output_type": "display_data",
          "data": {
            "text/plain": [
              "tensor([[ 7,  8],\n",
              "        [ 9, 10],\n",
              "        [11, 12]])"
            ]
          },
          "metadata": {}
        },
        {
          "output_type": "execute_result",
          "data": {
            "text/plain": [
              "tensor([[ 58,  64],\n",
              "        [139, 154]])"
            ]
          },
          "metadata": {},
          "execution_count": 35
        }
      ]
    },
    {
      "cell_type": "code",
      "source": [
        "# Element-wise multiplication\n",
        "print(tensor, \"*\", tensor)\n",
        "print(f\"Equals:  {tensor * tensor}\")"
      ],
      "metadata": {
        "colab": {
          "base_uri": "https://localhost:8080/"
        },
        "id": "aj8qFHd9iGPA",
        "outputId": "d6bbc993-6011-4140-d7ef-31d41a7d919b"
      },
      "id": "aj8qFHd9iGPA",
      "execution_count": 36,
      "outputs": [
        {
          "output_type": "stream",
          "name": "stdout",
          "text": [
            "tensor([1, 2, 3]) * tensor([1, 2, 3])\n",
            "Equals:  tensor([1, 4, 9])\n"
          ]
        }
      ]
    },
    {
      "cell_type": "code",
      "source": [
        "# Matrix multiplication\n",
        "torch.matmul(tensor, tensor)"
      ],
      "metadata": {
        "colab": {
          "base_uri": "https://localhost:8080/"
        },
        "id": "4f7ZCq8XilNn",
        "outputId": "2f7fd2a1-3732-49ea-a8ae-d7230fbe0162"
      },
      "id": "4f7ZCq8XilNn",
      "execution_count": 37,
      "outputs": [
        {
          "output_type": "execute_result",
          "data": {
            "text/plain": [
              "tensor(14)"
            ]
          },
          "metadata": {},
          "execution_count": 37
        }
      ]
    },
    {
      "cell_type": "code",
      "source": [
        "# Matrix multiplcation by hand\n",
        "1 * 1 + 2 * 2 + 3 * 3"
      ],
      "metadata": {
        "colab": {
          "base_uri": "https://localhost:8080/"
        },
        "id": "IN8tgTgzi0vj",
        "outputId": "c625eef1-45da-4377-de91-354d4e8f843b"
      },
      "id": "IN8tgTgzi0vj",
      "execution_count": 38,
      "outputs": [
        {
          "output_type": "execute_result",
          "data": {
            "text/plain": [
              "14"
            ]
          },
          "metadata": {},
          "execution_count": 38
        }
      ]
    },
    {
      "cell_type": "code",
      "source": [
        "%%time\n",
        "value = 0\n",
        "for i in range(len(tensor)):\n",
        "  value += tensor[i] * tensor[i]\n",
        "value"
      ],
      "metadata": {
        "colab": {
          "base_uri": "https://localhost:8080/"
        },
        "id": "YWeZikVukGV7",
        "outputId": "196c125d-d966-429f-fc5e-34d77099ed65"
      },
      "id": "YWeZikVukGV7",
      "execution_count": 39,
      "outputs": [
        {
          "output_type": "stream",
          "name": "stdout",
          "text": [
            "CPU times: user 269 µs, sys: 35 µs, total: 304 µs\n",
            "Wall time: 309 µs\n"
          ]
        },
        {
          "output_type": "execute_result",
          "data": {
            "text/plain": [
              "tensor(14)"
            ]
          },
          "metadata": {},
          "execution_count": 39
        }
      ]
    },
    {
      "cell_type": "code",
      "source": [
        "%%time\n",
        "torch.matmul(tensor, tensor)"
      ],
      "metadata": {
        "colab": {
          "base_uri": "https://localhost:8080/"
        },
        "id": "6cWeqiSnkaSe",
        "outputId": "86c78bf8-4329-4615-fc4d-80d06c6f9bf2"
      },
      "id": "6cWeqiSnkaSe",
      "execution_count": 40,
      "outputs": [
        {
          "output_type": "stream",
          "name": "stdout",
          "text": [
            "CPU times: user 69 µs, sys: 9 µs, total: 78 µs\n",
            "Wall time: 82.3 µs\n"
          ]
        },
        {
          "output_type": "execute_result",
          "data": {
            "text/plain": [
              "tensor(14)"
            ]
          },
          "metadata": {},
          "execution_count": 40
        }
      ]
    },
    {
      "cell_type": "markdown",
      "source": [
        "## One of the most common errors in DL: Shape errors\n",
        "\n",
        "There are two rules that matrix multiplications needs to satisfy:\n",
        "1. The **inner dimensions** must match:\n",
        "  * `(3, 2) @ (3, 2)` won't work\n",
        "  * `(2, 3) @ (3, 2)` will work\n",
        "  * `(3, 2) @ (2, 3)` will work\n",
        "2. The resulting matrix shape will be the **outer dimensions**\n",
        "  * `(2, 3) @ (3, 2)`  -> `(2, 2)`\n",
        "  * `(3, 2) @ (2, 3)`  -> `(3, 3)`"
      ],
      "metadata": {
        "id": "NKMKN4vRlY-T"
      },
      "id": "NKMKN4vRlY-T"
    },
    {
      "cell_type": "code",
      "source": [
        "#                          Outter dimensions\n",
        "#                       v                    v\n",
        "torch.matmul(torch.rand(2, 3), torch.rand(3, 2))\n",
        "#                          ^              ^\n",
        "#                          Inner dimensions"
      ],
      "metadata": {
        "colab": {
          "base_uri": "https://localhost:8080/"
        },
        "id": "3bG6DbdElTob",
        "outputId": "f8b08365-f3f9-4d64-9dd6-dfff73b2639a"
      },
      "id": "3bG6DbdElTob",
      "execution_count": 41,
      "outputs": [
        {
          "output_type": "execute_result",
          "data": {
            "text/plain": [
              "tensor([[0.4476, 0.5972],\n",
              "        [0.4875, 0.5570]])"
            ]
          },
          "metadata": {},
          "execution_count": 41
        }
      ]
    },
    {
      "cell_type": "markdown",
      "source": [
        "02:34:47"
      ],
      "metadata": {
        "id": "EV0h86Gdqawg"
      },
      "id": "EV0h86Gdqawg"
    }
  ],
  "metadata": {
    "kernelspec": {
      "display_name": "Python 3",
      "name": "python3"
    },
    "language_info": {
      "codemirror_mode": {
        "name": "ipython",
        "version": 3
      },
      "file_extension": ".py",
      "mimetype": "text/x-python",
      "name": "python",
      "nbconvert_exporter": "python",
      "pygments_lexer": "ipython3",
      "version": "3.11.2"
    },
    "colab": {
      "provenance": [],
      "toc_visible": true,
      "include_colab_link": true
    }
  },
  "nbformat": 4,
  "nbformat_minor": 5
}