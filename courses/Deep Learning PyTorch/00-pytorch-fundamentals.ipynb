{
  "cells": [
    {
      "cell_type": "markdown",
      "id": "68be6d01",
      "metadata": {
        "id": "68be6d01"
      },
      "source": [
        "# 00. PyTorch Fundamentals"
      ]
    },
    {
      "cell_type": "code",
      "execution_count": 1,
      "id": "6b35bcc5",
      "metadata": {
        "id": "6b35bcc5",
        "outputId": "2042d923-ae86-4515-85be-ba6486e9ebe6",
        "colab": {
          "base_uri": "https://localhost:8080/"
        }
      },
      "outputs": [
        {
          "output_type": "stream",
          "name": "stdout",
          "text": [
            "2.6.0+cu124\n"
          ]
        }
      ],
      "source": [
        "import torch\n",
        "import pandas as pd\n",
        "import numpy as np\n",
        "import matplotlib.pyplot as plt\n",
        "print(torch.__version__)"
      ]
    },
    {
      "cell_type": "markdown",
      "source": [
        "## Introduction to tensors"
      ],
      "metadata": {
        "id": "C6j9SuL5tKHH"
      },
      "id": "C6j9SuL5tKHH"
    },
    {
      "cell_type": "markdown",
      "source": [
        "### Creating tensors"
      ],
      "metadata": {
        "id": "3SV0xFbM3JCl"
      },
      "id": "3SV0xFbM3JCl"
    },
    {
      "cell_type": "code",
      "source": [
        "# SCALAR\n",
        "scalar = torch.tensor(7)\n",
        "scalar"
      ],
      "metadata": {
        "colab": {
          "base_uri": "https://localhost:8080/"
        },
        "id": "K-z2lJ-FtM6x",
        "outputId": "5d0586b0-a2a8-4a34-a656-3c5a88c18af1"
      },
      "id": "K-z2lJ-FtM6x",
      "execution_count": 2,
      "outputs": [
        {
          "output_type": "execute_result",
          "data": {
            "text/plain": [
              "tensor(7)"
            ]
          },
          "metadata": {},
          "execution_count": 2
        }
      ]
    },
    {
      "cell_type": "code",
      "source": [
        "scalar.ndim"
      ],
      "metadata": {
        "colab": {
          "base_uri": "https://localhost:8080/"
        },
        "id": "ztljUWbTxNgb",
        "outputId": "a653187c-16c3-47cb-ea6e-aac9252ac173"
      },
      "id": "ztljUWbTxNgb",
      "execution_count": 3,
      "outputs": [
        {
          "output_type": "execute_result",
          "data": {
            "text/plain": [
              "0"
            ]
          },
          "metadata": {},
          "execution_count": 3
        }
      ]
    },
    {
      "cell_type": "code",
      "source": [
        "# Get tensor back as Python int\n",
        "scalar.item()"
      ],
      "metadata": {
        "colab": {
          "base_uri": "https://localhost:8080/"
        },
        "id": "3T1tszoayBB3",
        "outputId": "772d08d9-881f-4d1a-c2fe-5d5b427f28af"
      },
      "id": "3T1tszoayBB3",
      "execution_count": 4,
      "outputs": [
        {
          "output_type": "execute_result",
          "data": {
            "text/plain": [
              "7"
            ]
          },
          "metadata": {},
          "execution_count": 4
        }
      ]
    },
    {
      "cell_type": "code",
      "source": [
        "# VECTOR\n",
        "vector = torch.tensor([7, 7])\n",
        "vector"
      ],
      "metadata": {
        "colab": {
          "base_uri": "https://localhost:8080/"
        },
        "id": "stOr6ChSyDno",
        "outputId": "352bf326-a77f-4c98-ae9d-427655fff165"
      },
      "id": "stOr6ChSyDno",
      "execution_count": 5,
      "outputs": [
        {
          "output_type": "execute_result",
          "data": {
            "text/plain": [
              "tensor([7, 7])"
            ]
          },
          "metadata": {},
          "execution_count": 5
        }
      ]
    },
    {
      "cell_type": "code",
      "source": [
        "vector.ndim"
      ],
      "metadata": {
        "colab": {
          "base_uri": "https://localhost:8080/"
        },
        "id": "pVH0S-65yU89",
        "outputId": "3a1078ce-8aef-415c-b7b5-c79e003795e0"
      },
      "id": "pVH0S-65yU89",
      "execution_count": 6,
      "outputs": [
        {
          "output_type": "execute_result",
          "data": {
            "text/plain": [
              "1"
            ]
          },
          "metadata": {},
          "execution_count": 6
        }
      ]
    },
    {
      "cell_type": "code",
      "source": [
        "vector.shape"
      ],
      "metadata": {
        "colab": {
          "base_uri": "https://localhost:8080/"
        },
        "id": "9RYQifDJytzW",
        "outputId": "8b69d79c-9587-438e-cca8-1312f4cafdeb"
      },
      "id": "9RYQifDJytzW",
      "execution_count": 7,
      "outputs": [
        {
          "output_type": "execute_result",
          "data": {
            "text/plain": [
              "torch.Size([2])"
            ]
          },
          "metadata": {},
          "execution_count": 7
        }
      ]
    },
    {
      "cell_type": "code",
      "source": [
        "# MATRIX\n",
        "matrix = torch.tensor([[7, 8], [9, 10]])\n",
        "matrix"
      ],
      "metadata": {
        "colab": {
          "base_uri": "https://localhost:8080/"
        },
        "id": "NsVOHzeBzLZA",
        "outputId": "bebcce18-e035-484c-8be7-8a86f7dc4736"
      },
      "id": "NsVOHzeBzLZA",
      "execution_count": 8,
      "outputs": [
        {
          "output_type": "execute_result",
          "data": {
            "text/plain": [
              "tensor([[ 7,  8],\n",
              "        [ 9, 10]])"
            ]
          },
          "metadata": {},
          "execution_count": 8
        }
      ]
    },
    {
      "cell_type": "code",
      "source": [
        "matrix.ndim"
      ],
      "metadata": {
        "colab": {
          "base_uri": "https://localhost:8080/"
        },
        "id": "Yrxy8X-rzhOf",
        "outputId": "521620b4-e772-45d7-93cc-0fc37b468090"
      },
      "id": "Yrxy8X-rzhOf",
      "execution_count": 9,
      "outputs": [
        {
          "output_type": "execute_result",
          "data": {
            "text/plain": [
              "2"
            ]
          },
          "metadata": {},
          "execution_count": 9
        }
      ]
    },
    {
      "cell_type": "code",
      "source": [
        "matrix[1]"
      ],
      "metadata": {
        "colab": {
          "base_uri": "https://localhost:8080/"
        },
        "id": "mxwpV8O8zkqv",
        "outputId": "b5d3b2ed-356e-4a52-f50b-713a485ff6b5"
      },
      "id": "mxwpV8O8zkqv",
      "execution_count": 10,
      "outputs": [
        {
          "output_type": "execute_result",
          "data": {
            "text/plain": [
              "tensor([ 9, 10])"
            ]
          },
          "metadata": {},
          "execution_count": 10
        }
      ]
    },
    {
      "cell_type": "code",
      "source": [
        "matrix.shape"
      ],
      "metadata": {
        "colab": {
          "base_uri": "https://localhost:8080/"
        },
        "id": "avPa4pVozxkq",
        "outputId": "b0b834c7-015f-45fa-f3a0-ada7e0031716"
      },
      "id": "avPa4pVozxkq",
      "execution_count": 11,
      "outputs": [
        {
          "output_type": "execute_result",
          "data": {
            "text/plain": [
              "torch.Size([2, 2])"
            ]
          },
          "metadata": {},
          "execution_count": 11
        }
      ]
    },
    {
      "cell_type": "code",
      "source": [
        "# TENSOR\n",
        "tensor = torch.tensor([[[1], [2]], [[3], [4]], [[5], [6]]])\n",
        "tensor"
      ],
      "metadata": {
        "colab": {
          "base_uri": "https://localhost:8080/"
        },
        "id": "yWuBbyURz7Xb",
        "outputId": "f1c2a825-8832-4c48-b364-d2dc9c2b7caf"
      },
      "id": "yWuBbyURz7Xb",
      "execution_count": 12,
      "outputs": [
        {
          "output_type": "execute_result",
          "data": {
            "text/plain": [
              "tensor([[[1],\n",
              "         [2]],\n",
              "\n",
              "        [[3],\n",
              "         [4]],\n",
              "\n",
              "        [[5],\n",
              "         [6]]])"
            ]
          },
          "metadata": {},
          "execution_count": 12
        }
      ]
    },
    {
      "cell_type": "code",
      "source": [
        "tensor.ndim"
      ],
      "metadata": {
        "colab": {
          "base_uri": "https://localhost:8080/"
        },
        "id": "mGkBnkkC0UmY",
        "outputId": "0cc7de30-395f-404e-fa99-7cd19b2a3a22"
      },
      "id": "mGkBnkkC0UmY",
      "execution_count": 13,
      "outputs": [
        {
          "output_type": "execute_result",
          "data": {
            "text/plain": [
              "3"
            ]
          },
          "metadata": {},
          "execution_count": 13
        }
      ]
    },
    {
      "cell_type": "code",
      "source": [
        "tensor.shape"
      ],
      "metadata": {
        "colab": {
          "base_uri": "https://localhost:8080/"
        },
        "id": "gwh_VvxM0ctk",
        "outputId": "bc97fe96-03a0-49eb-f8fc-2bfad5207968"
      },
      "id": "gwh_VvxM0ctk",
      "execution_count": 14,
      "outputs": [
        {
          "output_type": "execute_result",
          "data": {
            "text/plain": [
              "torch.Size([3, 2, 1])"
            ]
          },
          "metadata": {},
          "execution_count": 14
        }
      ]
    },
    {
      "cell_type": "code",
      "source": [
        "tensor[0]"
      ],
      "metadata": {
        "colab": {
          "base_uri": "https://localhost:8080/"
        },
        "id": "mePF8yf00o_T",
        "outputId": "e459c66d-0975-4ee6-f0c0-62cc3bc8f18c"
      },
      "id": "mePF8yf00o_T",
      "execution_count": 15,
      "outputs": [
        {
          "output_type": "execute_result",
          "data": {
            "text/plain": [
              "tensor([[1],\n",
              "        [2]])"
            ]
          },
          "metadata": {},
          "execution_count": 15
        }
      ]
    },
    {
      "cell_type": "markdown",
      "source": [
        "### Random tensors"
      ],
      "metadata": {
        "id": "CxAFBWBT24WF"
      },
      "id": "CxAFBWBT24WF"
    },
    {
      "cell_type": "code",
      "source": [
        "# Create a random tensor of shape (3, 4)\n",
        "random_tensor = torch.rand(3, 4)\n",
        "random_tensor"
      ],
      "metadata": {
        "colab": {
          "base_uri": "https://localhost:8080/"
        },
        "id": "rB0VdjRM25si",
        "outputId": "3e107a74-7f03-42a4-c33b-9163422c0453"
      },
      "id": "rB0VdjRM25si",
      "execution_count": 16,
      "outputs": [
        {
          "output_type": "execute_result",
          "data": {
            "text/plain": [
              "tensor([[0.2034, 0.2628, 0.0485, 0.2603],\n",
              "        [0.6325, 0.4591, 0.9391, 0.1080],\n",
              "        [0.3350, 0.8460, 0.6975, 0.0399]])"
            ]
          },
          "metadata": {},
          "execution_count": 16
        }
      ]
    },
    {
      "cell_type": "code",
      "source": [
        "random_tensor.ndim"
      ],
      "metadata": {
        "colab": {
          "base_uri": "https://localhost:8080/"
        },
        "id": "rnydUn4N4arT",
        "outputId": "cd8e7a3f-6df1-4fa0-ad09-6ea585a39903"
      },
      "id": "rnydUn4N4arT",
      "execution_count": 17,
      "outputs": [
        {
          "output_type": "execute_result",
          "data": {
            "text/plain": [
              "2"
            ]
          },
          "metadata": {},
          "execution_count": 17
        }
      ]
    },
    {
      "cell_type": "code",
      "source": [
        "# Create a random tensor with a similar shape to an image tensor\n",
        "random_image_size_tensor = torch.rand(3, 244, 244) # height, width, color channel\n",
        "random_image_size_tensor.shape, random_image_size_tensor.ndim"
      ],
      "metadata": {
        "colab": {
          "base_uri": "https://localhost:8080/"
        },
        "id": "fI2poGmO4dch",
        "outputId": "9bc12ef0-81c0-4ea0-8046-d4a4a06af990"
      },
      "id": "fI2poGmO4dch",
      "execution_count": 18,
      "outputs": [
        {
          "output_type": "execute_result",
          "data": {
            "text/plain": [
              "(torch.Size([3, 244, 244]), 3)"
            ]
          },
          "metadata": {},
          "execution_count": 18
        }
      ]
    },
    {
      "cell_type": "markdown",
      "source": [
        "### Zeros and ones"
      ],
      "metadata": {
        "id": "XZw_8JgeUMx6"
      },
      "id": "XZw_8JgeUMx6"
    },
    {
      "cell_type": "code",
      "source": [
        "# Create a tensor of all zeros\n",
        "zeros = torch.zeros(3, 4)\n",
        "zeros"
      ],
      "metadata": {
        "colab": {
          "base_uri": "https://localhost:8080/"
        },
        "id": "ge4RVIk5UO0V",
        "outputId": "2789c41a-4553-4f42-ba6a-49c197847348"
      },
      "id": "ge4RVIk5UO0V",
      "execution_count": 19,
      "outputs": [
        {
          "output_type": "execute_result",
          "data": {
            "text/plain": [
              "tensor([[0., 0., 0., 0.],\n",
              "        [0., 0., 0., 0.],\n",
              "        [0., 0., 0., 0.]])"
            ]
          },
          "metadata": {},
          "execution_count": 19
        }
      ]
    },
    {
      "cell_type": "code",
      "source": [
        "# Create a tensor of all ones\n",
        "ones = torch.ones(3, 4)\n",
        "ones"
      ],
      "metadata": {
        "colab": {
          "base_uri": "https://localhost:8080/"
        },
        "id": "t8QKC0Q9Ufzf",
        "outputId": "2d756a8d-1edb-4fd4-8868-4ab94d84b6b3"
      },
      "id": "t8QKC0Q9Ufzf",
      "execution_count": 20,
      "outputs": [
        {
          "output_type": "execute_result",
          "data": {
            "text/plain": [
              "tensor([[1., 1., 1., 1.],\n",
              "        [1., 1., 1., 1.],\n",
              "        [1., 1., 1., 1.]])"
            ]
          },
          "metadata": {},
          "execution_count": 20
        }
      ]
    },
    {
      "cell_type": "code",
      "source": [
        "ones.dtype, random_tensor.dtype # Default data type is torch.float32"
      ],
      "metadata": {
        "colab": {
          "base_uri": "https://localhost:8080/"
        },
        "id": "2EmeEWr4U0lj",
        "outputId": "487b5610-1e3b-4f07-f4fb-971437710b42"
      },
      "id": "2EmeEWr4U0lj",
      "execution_count": 21,
      "outputs": [
        {
          "output_type": "execute_result",
          "data": {
            "text/plain": [
              "(torch.float32, torch.float32)"
            ]
          },
          "metadata": {},
          "execution_count": 21
        }
      ]
    },
    {
      "cell_type": "markdown",
      "source": [
        "### Creating a range of tensors and tensors-like"
      ],
      "metadata": {
        "id": "YfQ9LPf8VHyJ"
      },
      "id": "YfQ9LPf8VHyJ"
    },
    {
      "cell_type": "code",
      "source": [
        "# Use torch.arange()\n",
        "one_to_ten = torch.arange(1, 11, step=1)\n",
        "one_to_ten"
      ],
      "metadata": {
        "colab": {
          "base_uri": "https://localhost:8080/"
        },
        "id": "YLCcoee1VKsH",
        "outputId": "286d1b31-3787-469d-ee16-0faf7719c270"
      },
      "id": "YLCcoee1VKsH",
      "execution_count": 22,
      "outputs": [
        {
          "output_type": "execute_result",
          "data": {
            "text/plain": [
              "tensor([ 1,  2,  3,  4,  5,  6,  7,  8,  9, 10])"
            ]
          },
          "metadata": {},
          "execution_count": 22
        }
      ]
    },
    {
      "cell_type": "code",
      "source": [
        "# Creating tensors like\n",
        "ten_zeros = torch.zeros_like(one_to_ten)\n",
        "ten_zeros"
      ],
      "metadata": {
        "colab": {
          "base_uri": "https://localhost:8080/"
        },
        "id": "MRwXeeSLVzvI",
        "outputId": "25c5f4a7-a8bc-43b0-ce60-021f75253268"
      },
      "id": "MRwXeeSLVzvI",
      "execution_count": 23,
      "outputs": [
        {
          "output_type": "execute_result",
          "data": {
            "text/plain": [
              "tensor([0, 0, 0, 0, 0, 0, 0, 0, 0, 0])"
            ]
          },
          "metadata": {},
          "execution_count": 23
        }
      ]
    },
    {
      "cell_type": "markdown",
      "source": [
        "### Tensor datatypes"
      ],
      "metadata": {
        "id": "s8_4rn0LWnTS"
      },
      "id": "s8_4rn0LWnTS"
    },
    {
      "cell_type": "code",
      "source": [
        "# Float32 tensor\n",
        "float_32_tensor = torch.tensor([3.0, 6.0, 9.0],\n",
        "                               dtype=None, # What datatype is the tensor (e.g. float32)\n",
        "                               device=None, # CPU/GPU/TPU\n",
        "                               requires_grad=False) # Record the operations performed on the tensor\n",
        "float_32_tensor.dtype"
      ],
      "metadata": {
        "colab": {
          "base_uri": "https://localhost:8080/"
        },
        "id": "aH15TTY8WpBW",
        "outputId": "663d7dad-d53a-4457-fe51-b01e18628cf4"
      },
      "id": "aH15TTY8WpBW",
      "execution_count": 24,
      "outputs": [
        {
          "output_type": "execute_result",
          "data": {
            "text/plain": [
              "torch.float32"
            ]
          },
          "metadata": {},
          "execution_count": 24
        }
      ]
    },
    {
      "cell_type": "code",
      "source": [
        "float_16_tensor = float_32_tensor.type(torch.float16)\n",
        "float_16_tensor.dtype"
      ],
      "metadata": {
        "colab": {
          "base_uri": "https://localhost:8080/"
        },
        "id": "0tmDzOl7YsDp",
        "outputId": "bcb9a05b-5984-4139-a9e5-95bab45da051"
      },
      "id": "0tmDzOl7YsDp",
      "execution_count": 25,
      "outputs": [
        {
          "output_type": "execute_result",
          "data": {
            "text/plain": [
              "torch.float16"
            ]
          },
          "metadata": {},
          "execution_count": 25
        }
      ]
    },
    {
      "cell_type": "code",
      "source": [
        "float_16_tensor * float_32_tensor"
      ],
      "metadata": {
        "colab": {
          "base_uri": "https://localhost:8080/"
        },
        "id": "zKkHLK3IZNj0",
        "outputId": "acbc60fb-b6f1-43da-af20-e041d93ecd50"
      },
      "id": "zKkHLK3IZNj0",
      "execution_count": 26,
      "outputs": [
        {
          "output_type": "execute_result",
          "data": {
            "text/plain": [
              "tensor([ 9., 36., 81.])"
            ]
          },
          "metadata": {},
          "execution_count": 26
        }
      ]
    },
    {
      "cell_type": "code",
      "source": [
        "long_tensor = float_32_tensor.type(torch.LongTensor)\n",
        "long_tensor.dtype"
      ],
      "metadata": {
        "colab": {
          "base_uri": "https://localhost:8080/"
        },
        "id": "B-r9kRp0ZoWJ",
        "outputId": "312280cb-b169-4a6c-f750-9920111a99f7"
      },
      "id": "B-r9kRp0ZoWJ",
      "execution_count": 27,
      "outputs": [
        {
          "output_type": "execute_result",
          "data": {
            "text/plain": [
              "torch.int64"
            ]
          },
          "metadata": {},
          "execution_count": 27
        }
      ]
    },
    {
      "cell_type": "code",
      "source": [
        "float_32_tensor * long_tensor"
      ],
      "metadata": {
        "colab": {
          "base_uri": "https://localhost:8080/"
        },
        "id": "HBiSw8X0ZtPF",
        "outputId": "f09538b4-394d-4fba-8b9a-682b4391e0d5"
      },
      "id": "HBiSw8X0ZtPF",
      "execution_count": 28,
      "outputs": [
        {
          "output_type": "execute_result",
          "data": {
            "text/plain": [
              "tensor([ 9., 36., 81.])"
            ]
          },
          "metadata": {},
          "execution_count": 28
        }
      ]
    },
    {
      "cell_type": "markdown",
      "source": [
        "## Getting information about tensors\n",
        "\n",
        "1. Tensors are not the right datatype - `tensor.dtype`\n",
        "2. Tensors are not the right shapre - `tensor.shape`\n",
        "3. Tensors are not on the same device - `tensor.device`"
      ],
      "metadata": {
        "id": "bszuHqCyaThq"
      },
      "id": "bszuHqCyaThq"
    },
    {
      "cell_type": "code",
      "source": [
        "# Create a tensor\n",
        "some_tensor = torch.rand([3, 4], device='cpu')\n",
        "some_tensor"
      ],
      "metadata": {
        "colab": {
          "base_uri": "https://localhost:8080/"
        },
        "id": "-Sl1ss_qaqWX",
        "outputId": "6338b55f-0f8d-40e2-8feb-d599449024d3"
      },
      "id": "-Sl1ss_qaqWX",
      "execution_count": 29,
      "outputs": [
        {
          "output_type": "execute_result",
          "data": {
            "text/plain": [
              "tensor([[0.6759, 0.5298, 0.1628, 0.7621],\n",
              "        [0.4179, 0.9417, 0.9498, 0.3477],\n",
              "        [0.4438, 0.7711, 0.5579, 0.2434]])"
            ]
          },
          "metadata": {},
          "execution_count": 29
        }
      ]
    },
    {
      "cell_type": "code",
      "source": [
        "print(f\"DataType: {some_tensor.dtype}\")\n",
        "print(f\"Shape: {some_tensor.shape}\")\n",
        "print(f\"Device: {some_tensor.device}\")"
      ],
      "metadata": {
        "colab": {
          "base_uri": "https://localhost:8080/"
        },
        "id": "mcQPcKJeayaa",
        "outputId": "b5e2969f-b11a-4d8f-d926-471e12dda6e8"
      },
      "id": "mcQPcKJeayaa",
      "execution_count": 30,
      "outputs": [
        {
          "output_type": "stream",
          "name": "stdout",
          "text": [
            "DataType: torch.float32\n",
            "Shape: torch.Size([3, 4])\n",
            "Device: cpu\n"
          ]
        }
      ]
    },
    {
      "cell_type": "markdown",
      "source": [
        "## Manipulating tensors"
      ],
      "metadata": {
        "id": "SL-T4fi2cbSD"
      },
      "id": "SL-T4fi2cbSD"
    },
    {
      "cell_type": "markdown",
      "source": [
        "### Basic operations\n",
        "Tensor operations include:\n",
        "* Multiplication (element-wise)\n",
        "* Matrix multiplication\n",
        "* Division\n",
        "* Addition\n",
        "* Substraction\n"
      ],
      "metadata": {
        "id": "-V7k-xVkcpJN"
      },
      "id": "-V7k-xVkcpJN"
    },
    {
      "cell_type": "code",
      "source": [
        "# Create a tensor and add 10 to it\n",
        "tensor = torch.tensor([1, 2, 3])\n",
        "tensor + 10"
      ],
      "metadata": {
        "colab": {
          "base_uri": "https://localhost:8080/"
        },
        "id": "3ysWeKeCa3dp",
        "outputId": "f4c77021-659e-4519-82d5-648d07c19838"
      },
      "id": "3ysWeKeCa3dp",
      "execution_count": 31,
      "outputs": [
        {
          "output_type": "execute_result",
          "data": {
            "text/plain": [
              "tensor([11, 12, 13])"
            ]
          },
          "metadata": {},
          "execution_count": 31
        }
      ]
    },
    {
      "cell_type": "code",
      "source": [
        "# Multiply tensor by 10\n",
        "tensor * 10"
      ],
      "metadata": {
        "colab": {
          "base_uri": "https://localhost:8080/"
        },
        "id": "z9We2ajAdWJw",
        "outputId": "855c09c2-b51d-4bcd-b981-691fcbecd771"
      },
      "id": "z9We2ajAdWJw",
      "execution_count": 32,
      "outputs": [
        {
          "output_type": "execute_result",
          "data": {
            "text/plain": [
              "tensor([10, 20, 30])"
            ]
          },
          "metadata": {},
          "execution_count": 32
        }
      ]
    },
    {
      "cell_type": "code",
      "source": [
        "# Subtract 10\n",
        "tensor - 10"
      ],
      "metadata": {
        "colab": {
          "base_uri": "https://localhost:8080/"
        },
        "id": "JmnhEAnydkjq",
        "outputId": "ae9148c3-8d14-45cf-830c-c57cedadea46"
      },
      "id": "JmnhEAnydkjq",
      "execution_count": 33,
      "outputs": [
        {
          "output_type": "execute_result",
          "data": {
            "text/plain": [
              "tensor([-9, -8, -7])"
            ]
          },
          "metadata": {},
          "execution_count": 33
        }
      ]
    },
    {
      "cell_type": "code",
      "source": [
        "# Try out pytorch in-built functions\n",
        "display(torch.mul(tensor, 10))\n",
        "display(torch.add(tensor, 10))\n",
        "display(torch.div(tensor, 10))"
      ],
      "metadata": {
        "colab": {
          "base_uri": "https://localhost:8080/",
          "height": 72
        },
        "id": "n0XcIVYXdohW",
        "outputId": "4663f8df-f14b-4476-bf07-242d8ed30518"
      },
      "id": "n0XcIVYXdohW",
      "execution_count": 34,
      "outputs": [
        {
          "output_type": "display_data",
          "data": {
            "text/plain": [
              "tensor([10, 20, 30])"
            ]
          },
          "metadata": {}
        },
        {
          "output_type": "display_data",
          "data": {
            "text/plain": [
              "tensor([11, 12, 13])"
            ]
          },
          "metadata": {}
        },
        {
          "output_type": "display_data",
          "data": {
            "text/plain": [
              "tensor([0.1000, 0.2000, 0.3000])"
            ]
          },
          "metadata": {}
        }
      ]
    },
    {
      "cell_type": "markdown",
      "source": [
        "### Matrix multiplication\n",
        "\n",
        "Two main ways to perfrom multiplications in neural networks and deep learning:\n",
        "1. Element-wise multiplication\n",
        "2. Matrix multiplication (dot product)"
      ],
      "metadata": {
        "id": "Am4bbUbyfLSM"
      },
      "id": "Am4bbUbyfLSM"
    },
    {
      "cell_type": "code",
      "source": [
        "#################\n",
        "### Challenge ###\n",
        "#################\n",
        "\n",
        "# Perform a dot product of theese tensors (step by step)\n",
        "t1 = torch.tensor([[1, 2, 3], [4, 5, 6]])\n",
        "display(t1)\n",
        "t2 = torch.tensor([[7, 8], [9, 10], [11, 12]])\n",
        "display(t2)\n",
        "\n",
        "# Code\n",
        "step1 = sum(t1[0] * torch.transpose(t2, 0, 1)[0]) # First row by first column\n",
        "step2 = sum(t1[0] * torch.transpose(t2, 0, 1)[1]) # First row by second column\n",
        "step3 = sum(t1[1] * torch.transpose(t2, 0, 1)[0]) # Second row by first column\n",
        "step4 = sum(t1[1] * torch.transpose(t2, 0, 1)[1]) # Second row by second column\n",
        "\n",
        "result = torch.tensor([[step1, step2], [step3, step4]])\n",
        "result"
      ],
      "metadata": {
        "colab": {
          "base_uri": "https://localhost:8080/",
          "height": 146
        },
        "id": "Os_XPFQnd0wv",
        "outputId": "3fd7b21e-5a12-4bf8-dc3a-5cbde7914da6"
      },
      "id": "Os_XPFQnd0wv",
      "execution_count": 35,
      "outputs": [
        {
          "output_type": "display_data",
          "data": {
            "text/plain": [
              "tensor([[1, 2, 3],\n",
              "        [4, 5, 6]])"
            ]
          },
          "metadata": {}
        },
        {
          "output_type": "display_data",
          "data": {
            "text/plain": [
              "tensor([[ 7,  8],\n",
              "        [ 9, 10],\n",
              "        [11, 12]])"
            ]
          },
          "metadata": {}
        },
        {
          "output_type": "execute_result",
          "data": {
            "text/plain": [
              "tensor([[ 58,  64],\n",
              "        [139, 154]])"
            ]
          },
          "metadata": {},
          "execution_count": 35
        }
      ]
    },
    {
      "cell_type": "code",
      "source": [
        "# Element-wise multiplication\n",
        "print(tensor, \"*\", tensor)\n",
        "print(f\"Equals:  {tensor * tensor}\")"
      ],
      "metadata": {
        "colab": {
          "base_uri": "https://localhost:8080/"
        },
        "id": "aj8qFHd9iGPA",
        "outputId": "fa0153f5-ef79-46c0-9deb-c7ba3a70d18b"
      },
      "id": "aj8qFHd9iGPA",
      "execution_count": 36,
      "outputs": [
        {
          "output_type": "stream",
          "name": "stdout",
          "text": [
            "tensor([1, 2, 3]) * tensor([1, 2, 3])\n",
            "Equals:  tensor([1, 4, 9])\n"
          ]
        }
      ]
    },
    {
      "cell_type": "code",
      "source": [
        "# Matrix multiplication\n",
        "torch.matmul(tensor, tensor)"
      ],
      "metadata": {
        "colab": {
          "base_uri": "https://localhost:8080/"
        },
        "id": "4f7ZCq8XilNn",
        "outputId": "a8518d5a-70dd-4eff-cc1a-145ef83f3f85"
      },
      "id": "4f7ZCq8XilNn",
      "execution_count": 37,
      "outputs": [
        {
          "output_type": "execute_result",
          "data": {
            "text/plain": [
              "tensor(14)"
            ]
          },
          "metadata": {},
          "execution_count": 37
        }
      ]
    },
    {
      "cell_type": "code",
      "source": [
        "# Matrix multiplcation by hand\n",
        "1 * 1 + 2 * 2 + 3 * 3"
      ],
      "metadata": {
        "colab": {
          "base_uri": "https://localhost:8080/"
        },
        "id": "IN8tgTgzi0vj",
        "outputId": "73e1a435-2329-4a70-931f-6e494b5e6614"
      },
      "id": "IN8tgTgzi0vj",
      "execution_count": 38,
      "outputs": [
        {
          "output_type": "execute_result",
          "data": {
            "text/plain": [
              "14"
            ]
          },
          "metadata": {},
          "execution_count": 38
        }
      ]
    },
    {
      "cell_type": "code",
      "source": [
        "%%time\n",
        "value = 0\n",
        "for i in range(len(tensor)):\n",
        "  value += tensor[i] * tensor[i]\n",
        "value"
      ],
      "metadata": {
        "colab": {
          "base_uri": "https://localhost:8080/"
        },
        "id": "YWeZikVukGV7",
        "outputId": "ac50d0d3-b0ba-4498-9a08-dc74a49d0ea6"
      },
      "id": "YWeZikVukGV7",
      "execution_count": 39,
      "outputs": [
        {
          "output_type": "stream",
          "name": "stdout",
          "text": [
            "CPU times: user 188 µs, sys: 0 ns, total: 188 µs\n",
            "Wall time: 192 µs\n"
          ]
        },
        {
          "output_type": "execute_result",
          "data": {
            "text/plain": [
              "tensor(14)"
            ]
          },
          "metadata": {},
          "execution_count": 39
        }
      ]
    },
    {
      "cell_type": "code",
      "source": [
        "%%time\n",
        "torch.matmul(tensor, tensor)"
      ],
      "metadata": {
        "colab": {
          "base_uri": "https://localhost:8080/"
        },
        "id": "6cWeqiSnkaSe",
        "outputId": "c558ecd0-c38d-4b99-e8dc-a4ab3af35ef5"
      },
      "id": "6cWeqiSnkaSe",
      "execution_count": 40,
      "outputs": [
        {
          "output_type": "stream",
          "name": "stdout",
          "text": [
            "CPU times: user 32 µs, sys: 4 µs, total: 36 µs\n",
            "Wall time: 38.9 µs\n"
          ]
        },
        {
          "output_type": "execute_result",
          "data": {
            "text/plain": [
              "tensor(14)"
            ]
          },
          "metadata": {},
          "execution_count": 40
        }
      ]
    },
    {
      "cell_type": "markdown",
      "source": [
        "## One of the most common errors in DL: Shape errors\n",
        "\n",
        "There are two rules that matrix multiplications needs to satisfy:\n",
        "1. The **inner dimensions** must match:\n",
        "  * `(3, 2) @ (3, 2)` won't work\n",
        "  * `(2, 3) @ (3, 2)` will work\n",
        "  * `(3, 2) @ (2, 3)` will work\n",
        "2. The resulting matrix shape will be the **outer dimensions**\n",
        "  * `(2, 3) @ (3, 2)`  -> `(2, 2)`\n",
        "  * `(3, 2) @ (2, 3)`  -> `(3, 3)`"
      ],
      "metadata": {
        "id": "NKMKN4vRlY-T"
      },
      "id": "NKMKN4vRlY-T"
    },
    {
      "cell_type": "code",
      "source": [
        "#                          Outter dimensions\n",
        "#                       v                    v\n",
        "torch.matmul(torch.rand(2, 3), torch.rand(3, 2))\n",
        "#                          ^              ^\n",
        "#                          Inner dimensions"
      ],
      "metadata": {
        "colab": {
          "base_uri": "https://localhost:8080/"
        },
        "id": "3bG6DbdElTob",
        "outputId": "c6582f07-4677-4147-99f8-ec51174e21d0"
      },
      "id": "3bG6DbdElTob",
      "execution_count": 41,
      "outputs": [
        {
          "output_type": "execute_result",
          "data": {
            "text/plain": [
              "tensor([[1.1534, 0.9875],\n",
              "        [0.9695, 0.5364]])"
            ]
          },
          "metadata": {},
          "execution_count": 41
        }
      ]
    },
    {
      "cell_type": "markdown",
      "source": [
        "To fix our tensor shape issues, we can manipulate the shape of one of the tensors using transpose.\n",
        "\n",
        "A **transpose** switches the axis or dimensions of a given tensor"
      ],
      "metadata": {
        "id": "WFf2hwrrcm3F"
      },
      "id": "WFf2hwrrcm3F"
    },
    {
      "cell_type": "code",
      "source": [
        "# Shapes for matrix multiplication\n",
        "tensor_A = torch.tensor([[1, 2],\n",
        "                         [3, 4],\n",
        "                         [5, 6]])\n",
        "\n",
        "tensor_B = torch.tensor([[7, 10],\n",
        "                         [8, 11],\n",
        "                         [9, 12]])\n",
        "\n",
        "try:\n",
        "  torch.mm(tensor_A, tensor_B)\n",
        "except Exception as e:\n",
        "  print(e)"
      ],
      "metadata": {
        "id": "zY0--mzFbuiN",
        "outputId": "3e7dc111-d98f-4ab5-a5c9-c18334f7f59c",
        "colab": {
          "base_uri": "https://localhost:8080/"
        }
      },
      "id": "zY0--mzFbuiN",
      "execution_count": 42,
      "outputs": [
        {
          "output_type": "stream",
          "name": "stdout",
          "text": [
            "mat1 and mat2 shapes cannot be multiplied (3x2 and 3x2)\n"
          ]
        }
      ]
    },
    {
      "cell_type": "code",
      "source": [
        "tensor_B.T"
      ],
      "metadata": {
        "id": "FntY_ZVddC07",
        "outputId": "63f71926-065d-41e8-baad-cf72eda99820",
        "colab": {
          "base_uri": "https://localhost:8080/"
        }
      },
      "id": "FntY_ZVddC07",
      "execution_count": 43,
      "outputs": [
        {
          "output_type": "execute_result",
          "data": {
            "text/plain": [
              "tensor([[ 7,  8,  9],\n",
              "        [10, 11, 12]])"
            ]
          },
          "metadata": {},
          "execution_count": 43
        }
      ]
    },
    {
      "cell_type": "code",
      "source": [
        "# The matrix multiplication operation works when tensor_B is transposed\n",
        "print(f\"Original shapes: tensor_A = {tensor_A.shape}, tensor_B = {tensor_B.shape}\")\n",
        "print(f\"New shapes: tensor_A = {tensor_A.shape}, tensor_B = {tensor_B.T.shape}\\n\")\n",
        "print(f\"Multiplying: {tensor_A.shape} @ {tensor_B.T.shape} <- Inner dimensions must match\")\n",
        "torch.mm(tensor_A, tensor_B.T)"
      ],
      "metadata": {
        "id": "cEx_NMJhdRoo",
        "outputId": "f31adc08-4416-4b8d-b03a-b50fc9c600de",
        "colab": {
          "base_uri": "https://localhost:8080/"
        }
      },
      "id": "cEx_NMJhdRoo",
      "execution_count": 44,
      "outputs": [
        {
          "output_type": "stream",
          "name": "stdout",
          "text": [
            "Original shapes: tensor_A = torch.Size([3, 2]), tensor_B = torch.Size([3, 2])\n",
            "New shapes: tensor_A = torch.Size([3, 2]), tensor_B = torch.Size([2, 3])\n",
            "\n",
            "Multiplying: torch.Size([3, 2]) @ torch.Size([2, 3]) <- Inner dimensions must match\n"
          ]
        },
        {
          "output_type": "execute_result",
          "data": {
            "text/plain": [
              "tensor([[ 27,  30,  33],\n",
              "        [ 61,  68,  75],\n",
              "        [ 95, 106, 117]])"
            ]
          },
          "metadata": {},
          "execution_count": 44
        }
      ]
    },
    {
      "cell_type": "markdown",
      "source": [
        "## Finding the min, max, mean, sum, etc..."
      ],
      "metadata": {
        "id": "sb_SF-dffv01"
      },
      "id": "sb_SF-dffv01"
    },
    {
      "cell_type": "code",
      "source": [
        "# Create a tensor\n",
        "x = torch.arange(1, 100, 10)\n",
        "x, x.dtype"
      ],
      "metadata": {
        "id": "lROG1q-afd-V",
        "outputId": "f2c63656-ed5d-4faa-ad32-65b8dd2c403f",
        "colab": {
          "base_uri": "https://localhost:8080/"
        }
      },
      "id": "lROG1q-afd-V",
      "execution_count": 45,
      "outputs": [
        {
          "output_type": "execute_result",
          "data": {
            "text/plain": [
              "(tensor([ 1, 11, 21, 31, 41, 51, 61, 71, 81, 91]), torch.int64)"
            ]
          },
          "metadata": {},
          "execution_count": 45
        }
      ]
    },
    {
      "cell_type": "code",
      "source": [
        "# Find the minimum value\n",
        "x.min(), torch.min(x)"
      ],
      "metadata": {
        "id": "aWaxQCpWgW2K",
        "outputId": "08e9500c-e187-4205-8966-9cafb169ea7a",
        "colab": {
          "base_uri": "https://localhost:8080/"
        }
      },
      "id": "aWaxQCpWgW2K",
      "execution_count": 46,
      "outputs": [
        {
          "output_type": "execute_result",
          "data": {
            "text/plain": [
              "(tensor(1), tensor(1))"
            ]
          },
          "metadata": {},
          "execution_count": 46
        }
      ]
    },
    {
      "cell_type": "code",
      "source": [
        "# Find the max\n",
        "x.max(), torch.max(x)"
      ],
      "metadata": {
        "id": "gpJvJg9-gbGO",
        "outputId": "6fecfaf9-06e1-469f-b95e-c338bb46ca5a",
        "colab": {
          "base_uri": "https://localhost:8080/"
        }
      },
      "id": "gpJvJg9-gbGO",
      "execution_count": 47,
      "outputs": [
        {
          "output_type": "execute_result",
          "data": {
            "text/plain": [
              "(tensor(91), tensor(91))"
            ]
          },
          "metadata": {},
          "execution_count": 47
        }
      ]
    },
    {
      "cell_type": "code",
      "source": [
        "# Find the average - note: the torch.mean() function  requires a tensor of float32 or complex datatype\n",
        "x.type(torch.float32).mean(), torch.mean(x.type(torch.float32))"
      ],
      "metadata": {
        "id": "o3AlgXndgj8t",
        "outputId": "e1c7b9ed-c299-4552-f3df-59fe999ee68d",
        "colab": {
          "base_uri": "https://localhost:8080/"
        }
      },
      "id": "o3AlgXndgj8t",
      "execution_count": 48,
      "outputs": [
        {
          "output_type": "execute_result",
          "data": {
            "text/plain": [
              "(tensor(46.), tensor(46.))"
            ]
          },
          "metadata": {},
          "execution_count": 48
        }
      ]
    },
    {
      "cell_type": "code",
      "source": [
        "# Find the sum\n",
        "x.sum(), torch.sum(x)"
      ],
      "metadata": {
        "id": "TWeFsfkThoB9",
        "outputId": "85324e42-3346-4519-a530-6eed45e6f3e5",
        "colab": {
          "base_uri": "https://localhost:8080/"
        }
      },
      "id": "TWeFsfkThoB9",
      "execution_count": 49,
      "outputs": [
        {
          "output_type": "execute_result",
          "data": {
            "text/plain": [
              "(tensor(460), tensor(460))"
            ]
          },
          "metadata": {},
          "execution_count": 49
        }
      ]
    },
    {
      "cell_type": "code",
      "source": [],
      "metadata": {
        "id": "myWVHIOohq6V"
      },
      "id": "myWVHIOohq6V",
      "execution_count": 49,
      "outputs": []
    },
    {
      "cell_type": "markdown",
      "source": [
        "## Positional min/max"
      ],
      "metadata": {
        "id": "6k1YtbmriPDw"
      },
      "id": "6k1YtbmriPDw"
    },
    {
      "cell_type": "code",
      "source": [
        "x"
      ],
      "metadata": {
        "id": "uZMNRhcmi0Lp",
        "outputId": "0e6120e6-bbc8-439f-853c-f54ccde68fb3",
        "colab": {
          "base_uri": "https://localhost:8080/"
        }
      },
      "id": "uZMNRhcmi0Lp",
      "execution_count": 50,
      "outputs": [
        {
          "output_type": "execute_result",
          "data": {
            "text/plain": [
              "tensor([ 1, 11, 21, 31, 41, 51, 61, 71, 81, 91])"
            ]
          },
          "metadata": {},
          "execution_count": 50
        }
      ]
    },
    {
      "cell_type": "code",
      "source": [
        "# Find the index position of the highest value\n",
        "x.argmax(), torch.argmax(x)"
      ],
      "metadata": {
        "id": "rTd4kcesiTI3",
        "outputId": "0a84ad62-c302-4ac8-ec3f-f359535b41f6",
        "colab": {
          "base_uri": "https://localhost:8080/"
        }
      },
      "id": "rTd4kcesiTI3",
      "execution_count": 51,
      "outputs": [
        {
          "output_type": "execute_result",
          "data": {
            "text/plain": [
              "(tensor(9), tensor(9))"
            ]
          },
          "metadata": {},
          "execution_count": 51
        }
      ]
    },
    {
      "cell_type": "code",
      "source": [
        "# Find the index position of the lowest value"
      ],
      "metadata": {
        "id": "xSOv_fn_iYY4"
      },
      "id": "xSOv_fn_iYY4",
      "execution_count": 52,
      "outputs": []
    },
    {
      "cell_type": "code",
      "source": [
        "x.argmin(), torch.argmin(x)"
      ],
      "metadata": {
        "id": "j0G-3QcGV3AM",
        "outputId": "cefce238-ccde-4885-91e4-22655a10537e",
        "colab": {
          "base_uri": "https://localhost:8080/"
        }
      },
      "id": "j0G-3QcGV3AM",
      "execution_count": 53,
      "outputs": [
        {
          "output_type": "execute_result",
          "data": {
            "text/plain": [
              "(tensor(0), tensor(0))"
            ]
          },
          "metadata": {},
          "execution_count": 53
        }
      ]
    },
    {
      "cell_type": "markdown",
      "source": [
        "## Reshaping, stacking, squeezing and unsqueezing tensors\n",
        "\n",
        "* Reshaping - Reshapes an input tensor to a defined shape\n",
        "* Viewing - Return a view of an input of a certain shape\n",
        "* Stacking - Combine multiple tensors on top of each other (vstack) or side by side (hstack)\n",
        "* Squeezing - Removes all `1` dimensions from a tensor\n",
        "* Unsqueezing - Add a `1` dimension to a tensor\n",
        "* Permuting - Return a view of the input dimensions permuted (swapped) in a certain way"
      ],
      "metadata": {
        "id": "X6IBZCG5WHgd"
      },
      "id": "X6IBZCG5WHgd"
    },
    {
      "cell_type": "code",
      "source": [
        "# Create a tensor\n",
        "x = torch.arange(1., 10.)\n",
        "x, x.shape"
      ],
      "metadata": {
        "id": "p5V9jWFuV65m",
        "outputId": "1464b98f-5d44-413f-e142-f5d63dc4e593",
        "colab": {
          "base_uri": "https://localhost:8080/"
        }
      },
      "id": "p5V9jWFuV65m",
      "execution_count": 54,
      "outputs": [
        {
          "output_type": "execute_result",
          "data": {
            "text/plain": [
              "(tensor([1., 2., 3., 4., 5., 6., 7., 8., 9.]), torch.Size([9]))"
            ]
          },
          "metadata": {},
          "execution_count": 54
        }
      ]
    },
    {
      "cell_type": "code",
      "source": [
        "# Add an extra dimension\n",
        "x_reshaped = x.reshape(3, 3)\n",
        "x_reshaped, x_reshaped.shape"
      ],
      "metadata": {
        "id": "CGAYLLgYYJzc",
        "outputId": "c04d1eb3-1010-4cda-ad6c-27a2fcd50a10",
        "colab": {
          "base_uri": "https://localhost:8080/"
        }
      },
      "id": "CGAYLLgYYJzc",
      "execution_count": 55,
      "outputs": [
        {
          "output_type": "execute_result",
          "data": {
            "text/plain": [
              "(tensor([[1., 2., 3.],\n",
              "         [4., 5., 6.],\n",
              "         [7., 8., 9.]]),\n",
              " torch.Size([3, 3]))"
            ]
          },
          "metadata": {},
          "execution_count": 55
        }
      ]
    },
    {
      "cell_type": "code",
      "source": [
        "# Change the view\n",
        "z = x.view(3, 3)\n",
        "z, z.shape"
      ],
      "metadata": {
        "id": "1nn8JoPOZmgb",
        "outputId": "8195f93a-5cd6-4ce6-fc1d-388b3ea394e2",
        "colab": {
          "base_uri": "https://localhost:8080/"
        }
      },
      "id": "1nn8JoPOZmgb",
      "execution_count": 56,
      "outputs": [
        {
          "output_type": "execute_result",
          "data": {
            "text/plain": [
              "(tensor([[1., 2., 3.],\n",
              "         [4., 5., 6.],\n",
              "         [7., 8., 9.]]),\n",
              " torch.Size([3, 3]))"
            ]
          },
          "metadata": {},
          "execution_count": 56
        }
      ]
    },
    {
      "cell_type": "code",
      "source": [
        "# Note: Chaning z changes x (a view of a tensor shares the same memory as the original tensor)\n",
        "z[:, 0][0] = 10\n",
        "x, z"
      ],
      "metadata": {
        "id": "tIypsn6MadkS",
        "outputId": "6134e9a6-df9e-4aee-a4bd-7c9aa2d0244d",
        "colab": {
          "base_uri": "https://localhost:8080/"
        }
      },
      "id": "tIypsn6MadkS",
      "execution_count": 57,
      "outputs": [
        {
          "output_type": "execute_result",
          "data": {
            "text/plain": [
              "(tensor([10.,  2.,  3.,  4.,  5.,  6.,  7.,  8.,  9.]),\n",
              " tensor([[10.,  2.,  3.],\n",
              "         [ 4.,  5.,  6.],\n",
              "         [ 7.,  8.,  9.]]))"
            ]
          },
          "metadata": {},
          "execution_count": 57
        }
      ]
    },
    {
      "cell_type": "code",
      "source": [
        "# Revert changes\n",
        "z[:, 0][0] = 1"
      ],
      "metadata": {
        "id": "jWaTooeOr3wg"
      },
      "id": "jWaTooeOr3wg",
      "execution_count": 58,
      "outputs": []
    },
    {
      "cell_type": "code",
      "source": [
        "# Stack tensors on top of each other\n",
        "x_stacked_dim0 = torch.stack([x, x, x], dim=0)\n",
        "x_stacked_dim1 = torch.stack([x, x, x], dim=1)\n",
        "x_stacked_dim0, x_stacked_dim1"
      ],
      "metadata": {
        "id": "SHXxKFZ3a2l4",
        "colab": {
          "base_uri": "https://localhost:8080/"
        },
        "outputId": "1a0fc246-9a99-42c5-e65c-6b3e1bb6b621"
      },
      "id": "SHXxKFZ3a2l4",
      "execution_count": 59,
      "outputs": [
        {
          "output_type": "execute_result",
          "data": {
            "text/plain": [
              "(tensor([[1., 2., 3., 4., 5., 6., 7., 8., 9.],\n",
              "         [1., 2., 3., 4., 5., 6., 7., 8., 9.],\n",
              "         [1., 2., 3., 4., 5., 6., 7., 8., 9.]]),\n",
              " tensor([[1., 1., 1.],\n",
              "         [2., 2., 2.],\n",
              "         [3., 3., 3.],\n",
              "         [4., 4., 4.],\n",
              "         [5., 5., 5.],\n",
              "         [6., 6., 6.],\n",
              "         [7., 7., 7.],\n",
              "         [8., 8., 8.],\n",
              "         [9., 9., 9.]]))"
            ]
          },
          "metadata": {},
          "execution_count": 59
        }
      ]
    },
    {
      "cell_type": "code",
      "source": [
        "# torch.squeeze() - removes all single dimensions from a target tensor\n",
        "x_reshaped = x.reshape(1, 9)\n",
        "x_reshaped, x_reshaped.shape # Previous tensor"
      ],
      "metadata": {
        "colab": {
          "base_uri": "https://localhost:8080/"
        },
        "id": "lrPGZiNCrs6r",
        "outputId": "1f958284-f575-47bf-fdcc-7897713b329f"
      },
      "id": "lrPGZiNCrs6r",
      "execution_count": 60,
      "outputs": [
        {
          "output_type": "execute_result",
          "data": {
            "text/plain": [
              "(tensor([[1., 2., 3., 4., 5., 6., 7., 8., 9.]]), torch.Size([1, 9]))"
            ]
          },
          "metadata": {},
          "execution_count": 60
        }
      ]
    },
    {
      "cell_type": "code",
      "source": [
        "x_squeezed = x.squeeze()\n",
        "x_squeezed, x_squeezed.shape # Squeezed tensor"
      ],
      "metadata": {
        "colab": {
          "base_uri": "https://localhost:8080/"
        },
        "id": "Nfbe9LtWsNqt",
        "outputId": "93e41d8a-d7be-4020-8096-97be4512b509"
      },
      "id": "Nfbe9LtWsNqt",
      "execution_count": 61,
      "outputs": [
        {
          "output_type": "execute_result",
          "data": {
            "text/plain": [
              "(tensor([1., 2., 3., 4., 5., 6., 7., 8., 9.]), torch.Size([9]))"
            ]
          },
          "metadata": {},
          "execution_count": 61
        }
      ]
    },
    {
      "cell_type": "code",
      "source": [
        "# torch.unsqueeze() - adds a single dimension at a specific dimension\n",
        "x_unsqueezed = x.unsqueeze(0)\n",
        "x_unsqueezed, x_unsqueezed.shape # Tensor with an extra dimension at dimension 0"
      ],
      "metadata": {
        "colab": {
          "base_uri": "https://localhost:8080/"
        },
        "id": "3VbrNjKZsqPl",
        "outputId": "708720a8-901c-49ab-df5a-d92fe5f149a1"
      },
      "id": "3VbrNjKZsqPl",
      "execution_count": 62,
      "outputs": [
        {
          "output_type": "execute_result",
          "data": {
            "text/plain": [
              "(tensor([[1., 2., 3., 4., 5., 6., 7., 8., 9.]]), torch.Size([1, 9]))"
            ]
          },
          "metadata": {},
          "execution_count": 62
        }
      ]
    },
    {
      "cell_type": "code",
      "source": [
        "# torch.permute() - rearranges the dimensions of a tensor in a specific order\n",
        "x_original = torch.rand(size=(224, 224, 3)) # [height, widht, color_channels]\n",
        "x_original.shape"
      ],
      "metadata": {
        "colab": {
          "base_uri": "https://localhost:8080/"
        },
        "id": "zVlPpHXKtxvN",
        "outputId": "a4f9dcc2-c1d4-42e5-b185-46b89654de47"
      },
      "id": "zVlPpHXKtxvN",
      "execution_count": 63,
      "outputs": [
        {
          "output_type": "execute_result",
          "data": {
            "text/plain": [
              "torch.Size([224, 224, 3])"
            ]
          },
          "metadata": {},
          "execution_count": 63
        }
      ]
    },
    {
      "cell_type": "code",
      "source": [
        "# Permute the order so that the color dimension is the first one\n",
        "x_permuted = x_original.permute(2, 0, 1)\n",
        "x_permuted.shape # Note: torch.permute() returns a view!"
      ],
      "metadata": {
        "colab": {
          "base_uri": "https://localhost:8080/"
        },
        "id": "iNIYucsOvEi3",
        "outputId": "d9da8da0-6bd9-4d62-c205-7b19d205c1be"
      },
      "id": "iNIYucsOvEi3",
      "execution_count": 64,
      "outputs": [
        {
          "output_type": "execute_result",
          "data": {
            "text/plain": [
              "torch.Size([3, 224, 224])"
            ]
          },
          "metadata": {},
          "execution_count": 64
        }
      ]
    },
    {
      "cell_type": "markdown",
      "source": [
        "## Indexing (selecting data from tensors)"
      ],
      "metadata": {
        "id": "DQl6OXhSwtBp"
      },
      "id": "DQl6OXhSwtBp"
    },
    {
      "cell_type": "code",
      "source": [
        "# Create a tensor\n",
        "x = torch.arange(1, 10).reshape(1, 3, 3)\n",
        "x, x.shape"
      ],
      "metadata": {
        "colab": {
          "base_uri": "https://localhost:8080/"
        },
        "id": "wD97CdUQwyAv",
        "outputId": "d83e91e2-24ba-4119-e939-73c16a2fd671"
      },
      "id": "wD97CdUQwyAv",
      "execution_count": 65,
      "outputs": [
        {
          "output_type": "execute_result",
          "data": {
            "text/plain": [
              "(tensor([[[1, 2, 3],\n",
              "          [4, 5, 6],\n",
              "          [7, 8, 9]]]),\n",
              " torch.Size([1, 3, 3]))"
            ]
          },
          "metadata": {},
          "execution_count": 65
        }
      ]
    },
    {
      "cell_type": "code",
      "source": [
        "# Index on the first bracket\n",
        "x[0]"
      ],
      "metadata": {
        "colab": {
          "base_uri": "https://localhost:8080/"
        },
        "id": "IWiBsLYAxMuL",
        "outputId": "43addca1-68ea-4212-a80f-da6d2333a7a1"
      },
      "id": "IWiBsLYAxMuL",
      "execution_count": 66,
      "outputs": [
        {
          "output_type": "execute_result",
          "data": {
            "text/plain": [
              "tensor([[1, 2, 3],\n",
              "        [4, 5, 6],\n",
              "        [7, 8, 9]])"
            ]
          },
          "metadata": {},
          "execution_count": 66
        }
      ]
    },
    {
      "cell_type": "code",
      "source": [
        "# Index on the middle bracket (dim=1)\n",
        "x[0][0]"
      ],
      "metadata": {
        "colab": {
          "base_uri": "https://localhost:8080/"
        },
        "id": "kSZxCcKQxZU6",
        "outputId": "6eff88a7-eea5-42f7-bb29-d9097e445b7e"
      },
      "id": "kSZxCcKQxZU6",
      "execution_count": 67,
      "outputs": [
        {
          "output_type": "execute_result",
          "data": {
            "text/plain": [
              "tensor([1, 2, 3])"
            ]
          },
          "metadata": {},
          "execution_count": 67
        }
      ]
    },
    {
      "cell_type": "code",
      "source": [
        "# Index in the most inner bracket (last dimension, dim=2)\n",
        "x[0][0][0]"
      ],
      "metadata": {
        "colab": {
          "base_uri": "https://localhost:8080/"
        },
        "id": "Ojp-9Z_KxlTr",
        "outputId": "6fa594b3-53a7-49b1-ea8d-e8acb15a3cdf"
      },
      "id": "Ojp-9Z_KxlTr",
      "execution_count": 68,
      "outputs": [
        {
          "output_type": "execute_result",
          "data": {
            "text/plain": [
              "tensor(1)"
            ]
          },
          "metadata": {},
          "execution_count": 68
        }
      ]
    },
    {
      "cell_type": "code",
      "source": [
        "# Getting number 9\n",
        "x[0][2][2]"
      ],
      "metadata": {
        "colab": {
          "base_uri": "https://localhost:8080/"
        },
        "id": "-2iQ0PIjx8i_",
        "outputId": "ba65480a-e1a4-4760-a4b5-0e60f626f934"
      },
      "id": "-2iQ0PIjx8i_",
      "execution_count": 69,
      "outputs": [
        {
          "output_type": "execute_result",
          "data": {
            "text/plain": [
              "tensor(9)"
            ]
          },
          "metadata": {},
          "execution_count": 69
        }
      ]
    },
    {
      "cell_type": "code",
      "source": [
        "# You can also use \":\" to select \"all\" from a target dimension\n",
        "x[:, 0]"
      ],
      "metadata": {
        "colab": {
          "base_uri": "https://localhost:8080/"
        },
        "id": "LFdUJ1nAyfnF",
        "outputId": "18a06ffa-4e0a-4885-a91e-6d96f970c525"
      },
      "id": "LFdUJ1nAyfnF",
      "execution_count": 70,
      "outputs": [
        {
          "output_type": "execute_result",
          "data": {
            "text/plain": [
              "tensor([[1, 2, 3]])"
            ]
          },
          "metadata": {},
          "execution_count": 70
        }
      ]
    },
    {
      "cell_type": "code",
      "source": [
        "# Get all values from 0th and 1st dimension but only index 1 of 2nd dimension\n",
        "x[:, :, 1]"
      ],
      "metadata": {
        "colab": {
          "base_uri": "https://localhost:8080/"
        },
        "id": "tg-IjP4JynV2",
        "outputId": "2223d7f0-8bf4-403a-c0ea-f7e44d6a4aa8"
      },
      "id": "tg-IjP4JynV2",
      "execution_count": 71,
      "outputs": [
        {
          "output_type": "execute_result",
          "data": {
            "text/plain": [
              "tensor([[2, 5, 8]])"
            ]
          },
          "metadata": {},
          "execution_count": 71
        }
      ]
    },
    {
      "cell_type": "code",
      "source": [
        "# Get all values of the 0th dimension but only the 1 index value of the 1st and 2nd dimension\n",
        "x[:, 1, 1]"
      ],
      "metadata": {
        "colab": {
          "base_uri": "https://localhost:8080/"
        },
        "id": "Sqqfq4QPzBWx",
        "outputId": "14601de3-1f94-455f-c4c9-d0e9ada32412"
      },
      "id": "Sqqfq4QPzBWx",
      "execution_count": 72,
      "outputs": [
        {
          "output_type": "execute_result",
          "data": {
            "text/plain": [
              "tensor([5])"
            ]
          },
          "metadata": {},
          "execution_count": 72
        }
      ]
    },
    {
      "cell_type": "code",
      "source": [
        "# Get index 0 of 0th and 1st dimension and all values of 2nd dimension\n",
        "x[0, 0, :]"
      ],
      "metadata": {
        "colab": {
          "base_uri": "https://localhost:8080/"
        },
        "id": "l0sbQGOGzrmW",
        "outputId": "272d1e9c-bd7c-4c24-db35-a9cc3146def7"
      },
      "id": "l0sbQGOGzrmW",
      "execution_count": 73,
      "outputs": [
        {
          "output_type": "execute_result",
          "data": {
            "text/plain": [
              "tensor([1, 2, 3])"
            ]
          },
          "metadata": {},
          "execution_count": 73
        }
      ]
    },
    {
      "cell_type": "code",
      "source": [
        "# Challenge: Index on \"x\" to return 9\n",
        "display(x[0, 2, 2])\n",
        "\n",
        "# Challenge: Index on \"x\" to return 3, 6, 9\n",
        "display(x[:, :, 2])"
      ],
      "metadata": {
        "colab": {
          "base_uri": "https://localhost:8080/",
          "height": 54
        },
        "id": "KpCQXyRvz6TB",
        "outputId": "87965979-d044-4e92-863f-55ecaaaaeb34"
      },
      "id": "KpCQXyRvz6TB",
      "execution_count": 74,
      "outputs": [
        {
          "output_type": "display_data",
          "data": {
            "text/plain": [
              "tensor(9)"
            ]
          },
          "metadata": {}
        },
        {
          "output_type": "display_data",
          "data": {
            "text/plain": [
              "tensor([[3, 6, 9]])"
            ]
          },
          "metadata": {}
        }
      ]
    },
    {
      "cell_type": "markdown",
      "source": [
        "## PyTorch tensors & NumPy\n",
        "\n",
        "* From data in NumPy to PyTorch tensor -> `torch.from_numpy(ndarray)`\n",
        "* From data in PyTorch tensor to NumPy -> `torch.Tensor.numpy()`"
      ],
      "metadata": {
        "id": "mZtViTXB1dPO"
      },
      "id": "mZtViTXB1dPO"
    },
    {
      "cell_type": "code",
      "source": [
        "# NumPy array to tensor\n",
        "\n",
        "array = np.arange(1.0, 8.0)\n",
        "tensor = torch.from_numpy(array)\n",
        "array, tensor"
      ],
      "metadata": {
        "colab": {
          "base_uri": "https://localhost:8080/"
        },
        "id": "Vk2Cfi6N0LTe",
        "outputId": "7d6ba6c9-560f-435b-9ddf-194f1c6f5a54"
      },
      "id": "Vk2Cfi6N0LTe",
      "execution_count": 75,
      "outputs": [
        {
          "output_type": "execute_result",
          "data": {
            "text/plain": [
              "(array([1., 2., 3., 4., 5., 6., 7.]),\n",
              " tensor([1., 2., 3., 4., 5., 6., 7.], dtype=torch.float64))"
            ]
          },
          "metadata": {},
          "execution_count": 75
        }
      ]
    },
    {
      "cell_type": "code",
      "source": [
        "# Change the value of the array, what will this do to `tensor`?\n",
        "array = array + 1\n",
        "array, tensor"
      ],
      "metadata": {
        "colab": {
          "base_uri": "https://localhost:8080/"
        },
        "id": "k1MYorKw2Iaa",
        "outputId": "843c73b1-5a8d-4683-9f97-035000fad016"
      },
      "id": "k1MYorKw2Iaa",
      "execution_count": 76,
      "outputs": [
        {
          "output_type": "execute_result",
          "data": {
            "text/plain": [
              "(array([2., 3., 4., 5., 6., 7., 8.]),\n",
              " tensor([1., 2., 3., 4., 5., 6., 7.], dtype=torch.float64))"
            ]
          },
          "metadata": {},
          "execution_count": 76
        }
      ]
    },
    {
      "cell_type": "code",
      "source": [
        "# Tensor to numpy array\n",
        "tensor = torch.ones(7)\n",
        "numpy_tensor = tensor.numpy()\n",
        "\n",
        "tensor, numpy_tensor"
      ],
      "metadata": {
        "colab": {
          "base_uri": "https://localhost:8080/"
        },
        "id": "2Y6zR3-z2XXb",
        "outputId": "36ed0c97-e3ff-4820-dc3f-0ddf42caeabf"
      },
      "id": "2Y6zR3-z2XXb",
      "execution_count": 77,
      "outputs": [
        {
          "output_type": "execute_result",
          "data": {
            "text/plain": [
              "(tensor([1., 1., 1., 1., 1., 1., 1.]),\n",
              " array([1., 1., 1., 1., 1., 1., 1.], dtype=float32))"
            ]
          },
          "metadata": {},
          "execution_count": 77
        }
      ]
    },
    {
      "cell_type": "code",
      "source": [
        "# Change the tensor, what will the numpy array?\n",
        "tensor = tensor + 1\n",
        "tensor, numpy_tensor"
      ],
      "metadata": {
        "id": "2ilh_IESso8j",
        "outputId": "0d99c98d-5bc1-4e7a-b7e6-3f1d3818b1ca",
        "colab": {
          "base_uri": "https://localhost:8080/"
        }
      },
      "id": "2ilh_IESso8j",
      "execution_count": 78,
      "outputs": [
        {
          "output_type": "execute_result",
          "data": {
            "text/plain": [
              "(tensor([2., 2., 2., 2., 2., 2., 2.]),\n",
              " array([1., 1., 1., 1., 1., 1., 1.], dtype=float32))"
            ]
          },
          "metadata": {},
          "execution_count": 78
        }
      ]
    },
    {
      "cell_type": "markdown",
      "source": [
        "## Reproducibility (taking the random out of the randomness)\n",
        "\n",
        "To reduce the randomness in NN and PyTorch, we will need the concept of **random seed**."
      ],
      "metadata": {
        "id": "aWTigevItD2F"
      },
      "id": "aWTigevItD2F"
    },
    {
      "cell_type": "code",
      "source": [
        "# Create two random tensors\n",
        "\n",
        "random_tensor_A = torch.rand(3, 4)\n",
        "random_tensor_B = torch.rand(3, 4)\n",
        "\n",
        "print(random_tensor_A)\n",
        "print(random_tensor_B)\n",
        "print(random_tensor_A == random_tensor_B)"
      ],
      "metadata": {
        "id": "69892xF7tbAv",
        "outputId": "e97ad4cb-e94f-4259-f3d7-133b6b4e5bf6",
        "colab": {
          "base_uri": "https://localhost:8080/"
        }
      },
      "id": "69892xF7tbAv",
      "execution_count": 79,
      "outputs": [
        {
          "output_type": "stream",
          "name": "stdout",
          "text": [
            "tensor([[0.6552, 0.5534, 0.4873, 0.6311],\n",
            "        [0.0235, 0.2732, 0.9876, 0.1730],\n",
            "        [0.5246, 0.9398, 0.1950, 0.1526]])\n",
            "tensor([[0.9940, 0.2152, 0.0428, 0.0079],\n",
            "        [0.8555, 0.8110, 0.2244, 0.8039],\n",
            "        [0.2921, 0.6545, 0.0706, 0.2272]])\n",
            "tensor([[False, False, False, False],\n",
            "        [False, False, False, False],\n",
            "        [False, False, False, False]])\n"
          ]
        }
      ]
    },
    {
      "cell_type": "code",
      "source": [
        "# Let's make some random but reproducible tensors\n",
        "\n",
        "# Set the random seed\n",
        "RANDOM_SEED = 42\n",
        "\n",
        "torch.manual_seed(RANDOM_SEED)\n",
        "random_tensor_C = torch.rand(3, 4)\n",
        "\n",
        "torch.manual_seed(RANDOM_SEED)\n",
        "random_tensor_D = torch.rand(3, 4)\n",
        "\n",
        "print(random_tensor_C)\n",
        "print(random_tensor_D)\n",
        "print(random_tensor_C == random_tensor_D)"
      ],
      "metadata": {
        "colab": {
          "base_uri": "https://localhost:8080/"
        },
        "id": "ykypJRmjtchU",
        "outputId": "c609ee4a-a419-4406-da32-8eb550bbcff0"
      },
      "id": "ykypJRmjtchU",
      "execution_count": 80,
      "outputs": [
        {
          "output_type": "stream",
          "name": "stdout",
          "text": [
            "tensor([[0.8823, 0.9150, 0.3829, 0.9593],\n",
            "        [0.3904, 0.6009, 0.2566, 0.7936],\n",
            "        [0.9408, 0.1332, 0.9346, 0.5936]])\n",
            "tensor([[0.8823, 0.9150, 0.3829, 0.9593],\n",
            "        [0.3904, 0.6009, 0.2566, 0.7936],\n",
            "        [0.9408, 0.1332, 0.9346, 0.5936]])\n",
            "tensor([[True, True, True, True],\n",
            "        [True, True, True, True],\n",
            "        [True, True, True, True]])\n"
          ]
        }
      ]
    },
    {
      "cell_type": "markdown",
      "source": [
        "## Running tensors on GPUs"
      ],
      "metadata": {
        "id": "Uo7Go-W4jglC"
      },
      "id": "Uo7Go-W4jglC"
    },
    {
      "cell_type": "markdown",
      "source": [
        "### 1. Check avaliable GPUs"
      ],
      "metadata": {
        "id": "OljNVKxsk4c5"
      },
      "id": "OljNVKxsk4c5"
    },
    {
      "cell_type": "code",
      "source": [
        "!nvidia-smi"
      ],
      "metadata": {
        "id": "sHt3xL2svDh9",
        "outputId": "8da59fe3-9c25-4056-d013-0c8f4d85ff40",
        "colab": {
          "base_uri": "https://localhost:8080/"
        }
      },
      "id": "sHt3xL2svDh9",
      "execution_count": 81,
      "outputs": [
        {
          "output_type": "stream",
          "name": "stdout",
          "text": [
            "Wed Apr 16 17:24:39 2025       \n",
            "+-----------------------------------------------------------------------------------------+\n",
            "| NVIDIA-SMI 550.54.15              Driver Version: 550.54.15      CUDA Version: 12.4     |\n",
            "|-----------------------------------------+------------------------+----------------------+\n",
            "| GPU  Name                 Persistence-M | Bus-Id          Disp.A | Volatile Uncorr. ECC |\n",
            "| Fan  Temp   Perf          Pwr:Usage/Cap |           Memory-Usage | GPU-Util  Compute M. |\n",
            "|                                         |                        |               MIG M. |\n",
            "|=========================================+========================+======================|\n",
            "|   0  Tesla T4                       Off |   00000000:00:04.0 Off |                    0 |\n",
            "| N/A   61C    P8             10W /   70W |       0MiB /  15360MiB |      0%      Default |\n",
            "|                                         |                        |                  N/A |\n",
            "+-----------------------------------------+------------------------+----------------------+\n",
            "                                                                                         \n",
            "+-----------------------------------------------------------------------------------------+\n",
            "| Processes:                                                                              |\n",
            "|  GPU   GI   CI        PID   Type   Process name                              GPU Memory |\n",
            "|        ID   ID                                                               Usage      |\n",
            "|=========================================================================================|\n",
            "|  No running processes found                                                             |\n",
            "+-----------------------------------------------------------------------------------------+\n"
          ]
        }
      ]
    },
    {
      "cell_type": "markdown",
      "source": [
        "### 2. Check with GPU access with PyTorch"
      ],
      "metadata": {
        "id": "IjORu9t8k8n_"
      },
      "id": "IjORu9t8k8n_"
    },
    {
      "cell_type": "code",
      "source": [
        "# Check for GPU access\n",
        "torch.cuda.is_available()"
      ],
      "metadata": {
        "id": "S_EbO4M_kuiZ",
        "outputId": "e3e065c5-3759-4c2c-a890-1615e3a751eb",
        "colab": {
          "base_uri": "https://localhost:8080/"
        }
      },
      "id": "S_EbO4M_kuiZ",
      "execution_count": 82,
      "outputs": [
        {
          "output_type": "execute_result",
          "data": {
            "text/plain": [
              "True"
            ]
          },
          "metadata": {},
          "execution_count": 82
        }
      ]
    },
    {
      "cell_type": "code",
      "source": [
        "# Setup device agnostic code\n",
        "device = \"cuda\" if torch.cuda.is_available() else \"cpu\"\n",
        "device"
      ],
      "metadata": {
        "id": "DEB1O9KwlQPd",
        "outputId": "719e4e3f-7eb3-4100-bb28-c9822649af62",
        "colab": {
          "base_uri": "https://localhost:8080/",
          "height": 35
        }
      },
      "id": "DEB1O9KwlQPd",
      "execution_count": 83,
      "outputs": [
        {
          "output_type": "execute_result",
          "data": {
            "text/plain": [
              "'cuda'"
            ],
            "application/vnd.google.colaboratory.intrinsic+json": {
              "type": "string"
            }
          },
          "metadata": {},
          "execution_count": 83
        }
      ]
    },
    {
      "cell_type": "code",
      "source": [
        "# Count the number of GPUs\n",
        "torch.cuda.device_count()"
      ],
      "metadata": {
        "id": "mZlMhkDvlmiR",
        "outputId": "b289ecac-8e43-499b-e10c-29fffa9df0fb",
        "colab": {
          "base_uri": "https://localhost:8080/"
        }
      },
      "id": "mZlMhkDvlmiR",
      "execution_count": 84,
      "outputs": [
        {
          "output_type": "execute_result",
          "data": {
            "text/plain": [
              "1"
            ]
          },
          "metadata": {},
          "execution_count": 84
        }
      ]
    },
    {
      "cell_type": "markdown",
      "source": [
        "### 3. Putting tensors and models on the GPU"
      ],
      "metadata": {
        "id": "ZiztYXfmmS_X"
      },
      "id": "ZiztYXfmmS_X"
    },
    {
      "cell_type": "code",
      "source": [
        "# Create a tensor (defaults to CPU)\n",
        "tensor = torch.tensor([1, 2, 3])\n",
        "tensor, tensor.device"
      ],
      "metadata": {
        "id": "-a1Vygc-lwKc",
        "outputId": "19694fb7-3c6e-4e2c-cca3-bd8ca009904e",
        "colab": {
          "base_uri": "https://localhost:8080/"
        }
      },
      "id": "-a1Vygc-lwKc",
      "execution_count": 85,
      "outputs": [
        {
          "output_type": "execute_result",
          "data": {
            "text/plain": [
              "(tensor([1, 2, 3]), device(type='cpu'))"
            ]
          },
          "metadata": {},
          "execution_count": 85
        }
      ]
    },
    {
      "cell_type": "code",
      "source": [
        "# Move tensor to the GPU (if available)\n",
        "tensor_on_gpu = tensor.to(device)\n",
        "tensor_on_gpu"
      ],
      "metadata": {
        "id": "czZ0TtLQmiVn",
        "outputId": "d3272d53-c6d0-4f9a-a9ca-5303ec5dfb0e",
        "colab": {
          "base_uri": "https://localhost:8080/"
        }
      },
      "id": "czZ0TtLQmiVn",
      "execution_count": 86,
      "outputs": [
        {
          "output_type": "execute_result",
          "data": {
            "text/plain": [
              "tensor([1, 2, 3], device='cuda:0')"
            ]
          },
          "metadata": {},
          "execution_count": 86
        }
      ]
    },
    {
      "cell_type": "markdown",
      "source": [
        "### 4. Moving tensors back to CPU"
      ],
      "metadata": {
        "id": "8IREMnKknEaA"
      },
      "id": "8IREMnKknEaA"
    },
    {
      "cell_type": "code",
      "source": [
        "# If tensor is on GPU, we can't transform it to NumPy\n",
        "try:\n",
        "  tensor_on_gpu.numpy()\n",
        "except Exception as e:\n",
        "  print(e)"
      ],
      "metadata": {
        "id": "nw45LPMJm_A4",
        "outputId": "243c13f0-f727-4f14-845d-c2e8f5be27dc",
        "colab": {
          "base_uri": "https://localhost:8080/"
        }
      },
      "id": "nw45LPMJm_A4",
      "execution_count": 87,
      "outputs": [
        {
          "output_type": "stream",
          "name": "stdout",
          "text": [
            "can't convert cuda:0 device type tensor to numpy. Use Tensor.cpu() to copy the tensor to host memory first.\n"
          ]
        }
      ]
    },
    {
      "cell_type": "code",
      "source": [
        "# To fix the GPU tensor with NumPy issue, we can first copy it to the CPU\n",
        "tensor_back_on_cpu = tensor_on_gpu.cpu().numpy()\n",
        "tensor_back_on_cpu"
      ],
      "metadata": {
        "id": "QJDoiRA8nRp5",
        "outputId": "adac5329-0d80-4bba-8c50-8c0f9dd0cd77",
        "colab": {
          "base_uri": "https://localhost:8080/"
        }
      },
      "id": "QJDoiRA8nRp5",
      "execution_count": 88,
      "outputs": [
        {
          "output_type": "execute_result",
          "data": {
            "text/plain": [
              "array([1, 2, 3])"
            ]
          },
          "metadata": {},
          "execution_count": 88
        }
      ]
    }
  ],
  "metadata": {
    "kernelspec": {
      "display_name": "Python 3",
      "name": "python3"
    },
    "language_info": {
      "codemirror_mode": {
        "name": "ipython",
        "version": 3
      },
      "file_extension": ".py",
      "mimetype": "text/x-python",
      "name": "python",
      "nbconvert_exporter": "python",
      "pygments_lexer": "ipython3",
      "version": "3.11.2"
    },
    "colab": {
      "provenance": [],
      "toc_visible": true,
      "gpuType": "T4"
    },
    "accelerator": "GPU"
  },
  "nbformat": 4,
  "nbformat_minor": 5
}