{
  "nbformat": 4,
  "nbformat_minor": 0,
  "metadata": {
    "colab": {
      "provenance": [],
      "toc_visible": true,
      "gpuType": "T4",
      "authorship_tag": "ABX9TyMTQHJoqZAm1uKtPmM5xxxp"
    },
    "kernelspec": {
      "name": "python3",
      "display_name": "Python 3"
    },
    "language_info": {
      "name": "python"
    },
    "accelerator": "GPU"
  },
  "cells": [
    {
      "cell_type": "markdown",
      "source": [
        "# 01. PyTorch Workflow\n",
        "\n",
        "Let's explore an example PyTorch end-to-end workflow."
      ],
      "metadata": {
        "id": "cICbVFyfBCkx"
      }
    },
    {
      "cell_type": "code",
      "source": [
        "import torch\n",
        "from torch import nn ## nn contains all of PyTorch's buildinig blocks and Neural Networks\n",
        "import matplotlib.pyplot as plt\n",
        "import numpy as np\n",
        "from pathlib import Path"
      ],
      "metadata": {
        "id": "tVyMkgjlCmkF"
      },
      "execution_count": 1,
      "outputs": []
    },
    {
      "cell_type": "code",
      "execution_count": 2,
      "metadata": {
        "id": "zgwHsa6J-NDl"
      },
      "outputs": [],
      "source": [
        "what_are_we_covering = {\n",
        "    1: \"data (prepare and load)\",\n",
        "    2: \"build model\",\n",
        "    3: \"fitting the model to data (training)\",\n",
        "    4: \"making predictions and evaluating a model (inference)\",\n",
        "    5: \"saving and loading a model\",\n",
        "    6: \"putting it all together\"\n",
        "}"
      ]
    },
    {
      "cell_type": "markdown",
      "source": [
        "## Data (preparing and loading)\n",
        "\n",
        "Data can be almost anything... in machine learning\n",
        "\n",
        "* Excel spreadsheet\n",
        "* Images of any kind\n",
        "* Videos\n",
        "* Audio\n",
        "* DNA\n",
        "* Text\n",
        "\n",
        "Machine learning is a game of two parts:\n",
        "1. Get data into a numerical representation.\n",
        "2. Build a model to learn patterns in that numerical represetantion.\n",
        "\n",
        "To showcase this, let's create som *known* data using a linear regression formula.\n",
        "\n",
        "We'll use a linear regression formula to make a straight line wuth *known* **parameters**."
      ],
      "metadata": {
        "id": "cNdgzLWFDTkp"
      }
    },
    {
      "cell_type": "code",
      "source": [
        "# Create known parameters\n",
        "weight = 0.7\n",
        "bias = 0.3\n",
        "\n",
        "# Create data\n",
        "start = 0\n",
        "end = 1\n",
        "step = 0.02\n",
        "X = torch.arange(start, end, step).unsqueeze(dim=1)\n",
        "y = weight * X + bias\n",
        "\n",
        "X[:10], y[:10]"
      ],
      "metadata": {
        "colab": {
          "base_uri": "https://localhost:8080/"
        },
        "id": "CF71tzySCO19",
        "outputId": "291996b8-680e-4778-935e-09bed36767cd"
      },
      "execution_count": 3,
      "outputs": [
        {
          "output_type": "execute_result",
          "data": {
            "text/plain": [
              "(tensor([[0.0000],\n",
              "         [0.0200],\n",
              "         [0.0400],\n",
              "         [0.0600],\n",
              "         [0.0800],\n",
              "         [0.1000],\n",
              "         [0.1200],\n",
              "         [0.1400],\n",
              "         [0.1600],\n",
              "         [0.1800]]),\n",
              " tensor([[0.3000],\n",
              "         [0.3140],\n",
              "         [0.3280],\n",
              "         [0.3420],\n",
              "         [0.3560],\n",
              "         [0.3700],\n",
              "         [0.3840],\n",
              "         [0.3980],\n",
              "         [0.4120],\n",
              "         [0.4260]]))"
            ]
          },
          "metadata": {},
          "execution_count": 3
        }
      ]
    },
    {
      "cell_type": "code",
      "source": [
        "len(X), len(y)"
      ],
      "metadata": {
        "colab": {
          "base_uri": "https://localhost:8080/"
        },
        "id": "C60R3atWEwyN",
        "outputId": "250a2192-3d0f-4e35-b9a0-5681c7556e00"
      },
      "execution_count": 4,
      "outputs": [
        {
          "output_type": "execute_result",
          "data": {
            "text/plain": [
              "(50, 50)"
            ]
          },
          "metadata": {},
          "execution_count": 4
        }
      ]
    },
    {
      "cell_type": "markdown",
      "source": [
        "### Splitting data into training and test sets"
      ],
      "metadata": {
        "id": "lXNYtez-F7A3"
      }
    },
    {
      "cell_type": "code",
      "source": [
        "# Create a train/test split\n",
        "train_split = int(0.8 * len(X))\n",
        "X_train, y_train = X[:train_split], y[:train_split]\n",
        "X_test, y_test = X[train_split:], y[train_split:]\n",
        "\n",
        "len(X_train), len(y_train), len(X_test), len(y_test)"
      ],
      "metadata": {
        "colab": {
          "base_uri": "https://localhost:8080/"
        },
        "id": "YC2WwYxoFRTK",
        "outputId": "6604836f-f55f-4de7-b7c2-70495c9a19f9"
      },
      "execution_count": 5,
      "outputs": [
        {
          "output_type": "execute_result",
          "data": {
            "text/plain": [
              "(40, 40, 10, 10)"
            ]
          },
          "metadata": {},
          "execution_count": 5
        }
      ]
    },
    {
      "cell_type": "markdown",
      "source": [
        "How to better visualize our data?"
      ],
      "metadata": {
        "id": "6fcAmKcRIilA"
      }
    },
    {
      "cell_type": "code",
      "source": [
        "def plot_predictions(train_data=X_train,\n",
        "                     train_labels=y_train,\n",
        "                     test_data=X_test,\n",
        "                     test_labels=y_test,\n",
        "                     predictions=None):\n",
        "  \"\"\"\n",
        "  Plots training data, test data and compares predictions.\n",
        "  \"\"\"\n",
        "\n",
        "  plt.figure(figsize=(10, 7))\n",
        "\n",
        "  # Plot training data in blue\n",
        "  plt.scatter(train_data, train_labels, c=\"#1500c9\", s=4, label=\"Training data\")\n",
        "\n",
        "  # Plot test data in green\n",
        "  plt.scatter(test_data, test_labels, c=\"#00c90d\", s=4, label=\"Test data\")\n",
        "\n",
        "  # Are there predictions?\n",
        "  if predictions is not None:\n",
        "    # Plot the predictions if they exists\n",
        "    plt.scatter(test_data, predictions, c=\"r\", s=4, label=\"Predictions\")\n",
        "\n",
        "  # Show the legend\n",
        "  plt.legend(prop={\"size\": 14})\n"
      ],
      "metadata": {
        "id": "w4ovFOyEHqAT"
      },
      "execution_count": 6,
      "outputs": []
    },
    {
      "cell_type": "code",
      "source": [
        "plot_predictions()"
      ],
      "metadata": {
        "colab": {
          "base_uri": "https://localhost:8080/",
          "height": 599
        },
        "id": "E4CV5p8yKJew",
        "outputId": "17b26a12-2499-493c-9621-7dd58a946442"
      },
      "execution_count": 7,
      "outputs": [
        {
          "output_type": "display_data",
          "data": {
            "text/plain": [
              "<Figure size 1000x700 with 1 Axes>"
            ],
            "image/png": "[encoded data removed]"
          },
          "metadata": {}
        }
      ]
    },
    {
      "cell_type": "markdown",
      "source": [
        "## Building a model"
      ],
      "metadata": {
        "id": "MBHvTI_uLaxt"
      }
    },
    {
      "cell_type": "code",
      "source": [
        "# Create a linear regression model class\n",
        "class LinearRegressionModel(nn.Module): # <- almost everything in PyTorch inherits from nn.module\n",
        "  def __init__(self):\n",
        "    super().__init__()\n",
        "    self.weight = nn.Parameter(torch.randn(1, # <- start with a random weight\n",
        "                                           requires_grad=True, # <- can this parameter be updated via gradient descent?\n",
        "                                           dtype=torch.float32\n",
        "                                           ))\n",
        "\n",
        "    self.bias = nn.Parameter(torch.randn(1,\n",
        "                                         requires_grad=True,\n",
        "                                         dtype=torch.float32\n",
        "                                         ))\n",
        "\n",
        "  # Forward method to define the computation in the model\n",
        "  def forward(self, x: torch.Tensor) -> torch.Tensor: # <- \"x\" is the input data\n",
        "    return self.weight * x + self.bias # regression formula"
      ],
      "metadata": {
        "id": "vvefYSFFKNLU"
      },
      "execution_count": 8,
      "outputs": []
    },
    {
      "cell_type": "markdown",
      "source": [
        "### Pytorch model building essentials\n",
        "\n",
        "* `torch.nn` - Contains all of the building blocks for computational graphs (a neural network can be considered a computational class)\n",
        "* `torch.nn.Prameter` - What parameters should our model try and learn, often a PyTorch layer from torch.nn will set this for us\n",
        "* `torch.nn.Module` - The base class for all neural network modules, if you subclass it, you should overwrite `forward()`\n",
        "* `torch.optim` - This is where the optimizers in PyTorch live, they will help with gradient descent\n",
        "* `def forward()` - All `nn.Module` subclasses require you to overwrite `forward()`, this method defines what happens in the forward computation"
      ],
      "metadata": {
        "id": "9sO8ZR6EdpRT"
      }
    },
    {
      "cell_type": "markdown",
      "source": [
        "### Checking the contents of our PyTorch model"
      ],
      "metadata": {
        "id": "5qJTGZQ8fzLT"
      }
    },
    {
      "cell_type": "code",
      "source": [
        "# Create a random seed\n",
        "torch.manual_seed(42)\n",
        "\n",
        "# Create an isntance of the model (this is a subclass of nn.Module)\n",
        "model_0 = LinearRegressionModel()\n",
        "\n",
        "# Check the parameters\n",
        "list(model_0.parameters())"
      ],
      "metadata": {
        "colab": {
          "base_uri": "https://localhost:8080/"
        },
        "id": "4tQdNeuHdZoX",
        "outputId": "828e14a2-93ad-4763-a04f-344ff6591f17"
      },
      "execution_count": 9,
      "outputs": [
        {
          "output_type": "execute_result",
          "data": {
            "text/plain": [
              "[Parameter containing:\n",
              " tensor([0.3367], requires_grad=True),\n",
              " Parameter containing:\n",
              " tensor([0.1288], requires_grad=True)]"
            ]
          },
          "metadata": {},
          "execution_count": 9
        }
      ]
    },
    {
      "cell_type": "code",
      "source": [
        "# List named parameters\n",
        "model_0.state_dict()"
      ],
      "metadata": {
        "colab": {
          "base_uri": "https://localhost:8080/"
        },
        "id": "FZ5-sK_zgUxN",
        "outputId": "ab034fcc-8b01-470b-97c6-f5a3da2c617b"
      },
      "execution_count": 10,
      "outputs": [
        {
          "output_type": "execute_result",
          "data": {
            "text/plain": [
              "OrderedDict([('weight', tensor([0.3367])), ('bias', tensor([0.1288]))])"
            ]
          },
          "metadata": {},
          "execution_count": 10
        }
      ]
    },
    {
      "cell_type": "code",
      "source": [
        "weight, bias"
      ],
      "metadata": {
        "colab": {
          "base_uri": "https://localhost:8080/"
        },
        "id": "N7LDhkpWh4r8",
        "outputId": "9876eda5-1719-4d6f-9134-9f3c2ebe3db3"
      },
      "execution_count": 11,
      "outputs": [
        {
          "output_type": "execute_result",
          "data": {
            "text/plain": [
              "(0.7, 0.3)"
            ]
          },
          "metadata": {},
          "execution_count": 11
        }
      ]
    },
    {
      "cell_type": "markdown",
      "source": [
        "### Making predictions using `torch.inference_mode()`\n",
        "\n",
        "To check our model's predictive value, let's check how well it predicts `y_test` based on `X_test`\n",
        "\n",
        "When we pass data through our model, it's going to pass it through the `forward()` method.\n",
        "\n"
      ],
      "metadata": {
        "id": "F_mXI-LSiVOI"
      }
    },
    {
      "cell_type": "code",
      "source": [
        "# Make predictions with model\n",
        "\n",
        "with torch.inference_mode():\n",
        "  y_preds = model_0(X_test)\n",
        "\n",
        "y_preds"
      ],
      "metadata": {
        "colab": {
          "base_uri": "https://localhost:8080/"
        },
        "id": "FDagetzOiMk4",
        "outputId": "ddca3a56-4d41-434b-a075-206469bc8c92"
      },
      "execution_count": 12,
      "outputs": [
        {
          "output_type": "execute_result",
          "data": {
            "text/plain": [
              "tensor([[0.3982],\n",
              "        [0.4049],\n",
              "        [0.4116],\n",
              "        [0.4184],\n",
              "        [0.4251],\n",
              "        [0.4318],\n",
              "        [0.4386],\n",
              "        [0.4453],\n",
              "        [0.4520],\n",
              "        [0.4588]])"
            ]
          },
          "metadata": {},
          "execution_count": 12
        }
      ]
    },
    {
      "cell_type": "code",
      "source": [
        "plot_predictions(predictions=y_preds)"
      ],
      "metadata": {
        "colab": {
          "base_uri": "https://localhost:8080/",
          "height": 599
        },
        "id": "KYmjJCIhi9E-",
        "outputId": "a1fab83b-3e10-47b5-85f4-8362d0db300c"
      },
      "execution_count": 13,
      "outputs": [
        {
          "output_type": "display_data",
          "data": {
            "text/plain": [
              "<Figure size 1000x700 with 1 Axes>"
            ],
            "image/png": "[encoded data removed]"
          },
          "metadata": {}
        }
      ]
    },
    {
      "cell_type": "markdown",
      "source": [
        "## Training a model\n",
        "\n",
        "The whole idea of training is for a model to move from some *unknown* parameters to some *known* parameters.\n",
        "\n",
        "In other words, from a poor representation of our data, to a good representation.\n",
        "\n",
        "One way to measure how poor or how wrong our models predictions are, we need a loss function.\n",
        "\n",
        "* Note: Loss function may also be called cost function or criterion in different areas.\n",
        "\n",
        "This we need to train:\n",
        "\n",
        "* **Loss function:** A function to measure how wrong your models predictions are to the ideal outputs, so lower = better.\n",
        "* **Optimizer:** Takes into account the loss of a model and adjusts to the model's parameters (e.g. weight & bias)\n",
        "\n",
        "And specifically for PyTorch, we need:\n",
        "* A training loop\n",
        "* A testing loop"
      ],
      "metadata": {
        "id": "qyDTWK7vnLAe"
      }
    },
    {
      "cell_type": "code",
      "source": [
        "model_0.state_dict()"
      ],
      "metadata": {
        "colab": {
          "base_uri": "https://localhost:8080/"
        },
        "id": "XfLLyBHUkHNB",
        "outputId": "9af9a743-587c-4ed0-c560-5ee21f2c0a5b"
      },
      "execution_count": 14,
      "outputs": [
        {
          "output_type": "execute_result",
          "data": {
            "text/plain": [
              "OrderedDict([('weight', tensor([0.3367])), ('bias', tensor([0.1288]))])"
            ]
          },
          "metadata": {},
          "execution_count": 14
        }
      ]
    },
    {
      "cell_type": "markdown",
      "source": [
        "### Create a loss function and optimizer"
      ],
      "metadata": {
        "id": "6T3sQhkyp8YM"
      }
    },
    {
      "cell_type": "code",
      "source": [
        "# Setup a loss function\n",
        "loss_fn = nn.L1Loss()\n",
        "\n",
        "# Setup an optimizer (Stochastic Gradient Descent)\n",
        "optimizer = torch.optim.SGD(params=model_0.parameters(),\n",
        "                            lr=0.01 # Learning Rate\n",
        "                           )"
      ],
      "metadata": {
        "id": "5lWYQ-iFomSH"
      },
      "execution_count": 15,
      "outputs": []
    },
    {
      "cell_type": "markdown",
      "source": [
        "### Create an optimization loop (training and testing loops)\n",
        "\n",
        "A couple of things we need in a training loop:\n",
        "0. Loop trhough the data and do...\n",
        "1. Make predictions (this involves data moving throughout our model's `forward()` functions\n",
        "2. Calculate the loss (compare predictions to ground truth labels)\n",
        "3. Optimizer zero grad\n",
        "4. Loss backward (move backwards through the network to calculate the gradients of each of the parameters of our model with respect to the loss)\n",
        "5. Optimizer step (use the optimizer to adjust our model parameters to try and improve the loss)"
      ],
      "metadata": {
        "id": "F6ha9MLysdTA"
      }
    },
    {
      "cell_type": "code",
      "source": [
        "# Set a manual seed\n",
        "torch.manual_seed(42)\n",
        "\n",
        "# An epoch is one loop though the data (this is a hyperparameter beacouse we've set it ourselves)\n",
        "epochs = 200\n",
        "\n",
        "epoch_count = []\n",
        "loss_values = []\n",
        "test_loss_values = []\n",
        "\n",
        "\n",
        "### Training\n",
        "# 0. Loop through the data\n",
        "for epoch in range(epochs):\n",
        "  # Set the model to training mode\n",
        "  model_0.train() # train mode in PyTorch sets all parameters that require gradients to require gradients\n",
        "\n",
        "  # 1. Foward pass\n",
        "  y_pred = model_0(X_train)\n",
        "\n",
        "  # 2. Calculate loss\n",
        "  loss = loss_fn(y_pred, y_train)\n",
        "\n",
        "  # 3. Optimizer zero grad\n",
        "  optimizer.zero_grad()\n",
        "\n",
        "  # 4. Perform backpropagation on the loss with respect to the parameters of the model\n",
        "  loss.backward()\n",
        "\n",
        "  # 5. Step the optimizer (perform gradient descent)\n",
        "  optimizer.step() # by default how the optimizer changes will acumulate through the loop, so we have to zero them in step 3 for the next iteration of the loop\n",
        "\n",
        "  ### Testing\n",
        "  model_0.eval() # turns off different setting in the model not needed for evaluation/testing (dropout/batchnorm layers)\n",
        "  with torch.inference_mode(): # turns off gradient tracking\n",
        "    # 1. Do the forward pass\n",
        "    test_pred = model_0(X_test)\n",
        "\n",
        "    # 2- Calculate the loss\n",
        "    test_loss = loss_fn(test_pred, y_test)\n",
        "\n",
        "    # Print out what's happening\n",
        "    if epoch % 10 == 0:\n",
        "      epoch_count.append(epoch)\n",
        "      loss_values.append(loss)\n",
        "      test_loss_values.append(test_loss)\n",
        "      print(f\"Epoch: {epoch} | Loss: {loss} | Test loss: {test_loss}\")\n",
        "      print(model_0.state_dict())\n",
        "      print()"
      ],
      "metadata": {
        "colab": {
          "base_uri": "https://localhost:8080/"
        },
        "id": "UE-Xv0HqrwT2",
        "outputId": "b5ee815a-779b-406b-b797-6728c73491a1"
      },
      "execution_count": 16,
      "outputs": [
        {
          "output_type": "stream",
          "name": "stdout",
          "text": [
            "Epoch: 0 | Loss: 0.31288138031959534 | Test loss: 0.48106518387794495\n",
            "OrderedDict([('weight', tensor([0.3406])), ('bias', tensor([0.1388]))])\n",
            "\n",
            "Epoch: 10 | Loss: 0.1976713240146637 | Test loss: 0.3463551998138428\n",
            "OrderedDict([('weight', tensor([0.3796])), ('bias', tensor([0.2388]))])\n",
            "\n",
            "Epoch: 20 | Loss: 0.08908725529909134 | Test loss: 0.21729660034179688\n",
            "OrderedDict([('weight', tensor([0.4184])), ('bias', tensor([0.3333]))])\n",
            "\n",
            "Epoch: 30 | Loss: 0.053148526698350906 | Test loss: 0.14464017748832703\n",
            "OrderedDict([('weight', tensor([0.4512])), ('bias', tensor([0.3768]))])\n",
            "\n",
            "Epoch: 40 | Loss: 0.04543796554207802 | Test loss: 0.11360953003168106\n",
            "OrderedDict([('weight', tensor([0.4748])), ('bias', tensor([0.3868]))])\n",
            "\n",
            "Epoch: 50 | Loss: 0.04167863354086876 | Test loss: 0.09919948130846024\n",
            "OrderedDict([('weight', tensor([0.4938])), ('bias', tensor([0.3843]))])\n",
            "\n",
            "Epoch: 60 | Loss: 0.03818932920694351 | Test loss: 0.08886633068323135\n",
            "OrderedDict([('weight', tensor([0.5116])), ('bias', tensor([0.3788]))])\n",
            "\n",
            "Epoch: 70 | Loss: 0.03476089984178543 | Test loss: 0.0805937647819519\n",
            "OrderedDict([('weight', tensor([0.5288])), ('bias', tensor([0.3718]))])\n",
            "\n",
            "Epoch: 80 | Loss: 0.03132382780313492 | Test loss: 0.07232122868299484\n",
            "OrderedDict([('weight', tensor([0.5459])), ('bias', tensor([0.3648]))])\n",
            "\n",
            "Epoch: 90 | Loss: 0.02788739837706089 | Test loss: 0.06473556160926819\n",
            "OrderedDict([('weight', tensor([0.5629])), ('bias', tensor([0.3573]))])\n",
            "\n",
            "Epoch: 100 | Loss: 0.024458957836031914 | Test loss: 0.05646304413676262\n",
            "OrderedDict([('weight', tensor([0.5800])), ('bias', tensor([0.3503]))])\n",
            "\n",
            "Epoch: 110 | Loss: 0.021020207554101944 | Test loss: 0.04819049686193466\n",
            "OrderedDict([('weight', tensor([0.5972])), ('bias', tensor([0.3433]))])\n",
            "\n",
            "Epoch: 120 | Loss: 0.01758546568453312 | Test loss: 0.04060482233762741\n",
            "OrderedDict([('weight', tensor([0.6141])), ('bias', tensor([0.3358]))])\n",
            "\n",
            "Epoch: 130 | Loss: 0.014155393466353416 | Test loss: 0.03233227878808975\n",
            "OrderedDict([('weight', tensor([0.6313])), ('bias', tensor([0.3288]))])\n",
            "\n",
            "Epoch: 140 | Loss: 0.010716589167714119 | Test loss: 0.024059748277068138\n",
            "OrderedDict([('weight', tensor([0.6485])), ('bias', tensor([0.3218]))])\n",
            "\n",
            "Epoch: 150 | Loss: 0.0072835334576666355 | Test loss: 0.016474086791276932\n",
            "OrderedDict([('weight', tensor([0.6654])), ('bias', tensor([0.3143]))])\n",
            "\n",
            "Epoch: 160 | Loss: 0.0038517764769494534 | Test loss: 0.008201557211577892\n",
            "OrderedDict([('weight', tensor([0.6826])), ('bias', tensor([0.3073]))])\n",
            "\n",
            "Epoch: 170 | Loss: 0.008932482451200485 | Test loss: 0.005023092031478882\n",
            "OrderedDict([('weight', tensor([0.6951])), ('bias', tensor([0.2993]))])\n",
            "\n",
            "Epoch: 180 | Loss: 0.008932482451200485 | Test loss: 0.005023092031478882\n",
            "OrderedDict([('weight', tensor([0.6951])), ('bias', tensor([0.2993]))])\n",
            "\n",
            "Epoch: 190 | Loss: 0.008932482451200485 | Test loss: 0.005023092031478882\n",
            "OrderedDict([('weight', tensor([0.6951])), ('bias', tensor([0.2993]))])\n",
            "\n"
          ]
        }
      ]
    },
    {
      "cell_type": "code",
      "source": [
        "# Plot the loss curves\n",
        "plt.plot(epoch_count, np.array(torch.tensor(loss_values).detach()), label=\"Train loss\")\n",
        "plt.plot(epoch_count, test_loss_values, label=\"Test loss\")\n",
        "plt.title(\"Train and test loss curve\")\n",
        "plt.ylabel(\"Loss\")\n",
        "plt.xlabel(\"Epoch\")"
      ],
      "metadata": {
        "colab": {
          "base_uri": "https://localhost:8080/",
          "height": 490
        },
        "id": "P5cwnM4qdj-q",
        "outputId": "0ab1133c-a281-436b-8b5d-d0b95b1b799f"
      },
      "execution_count": 17,
      "outputs": [
        {
          "output_type": "execute_result",
          "data": {
            "text/plain": [
              "Text(0.5, 0, 'Epoch')"
            ]
          },
          "metadata": {},
          "execution_count": 17
        },
        {
          "output_type": "display_data",
          "data": {
            "text/plain": [
              "<Figure size 640x480 with 1 Axes>"
            ],
            "image/png": "[encoded data removed]"
          },
          "metadata": {}
        }
      ]
    },
    {
      "cell_type": "markdown",
      "source": [
        "### Make prediction with the trained model"
      ],
      "metadata": {
        "id": "RAPxt7YqfzFI"
      }
    },
    {
      "cell_type": "code",
      "source": [
        "with torch.inference_mode():\n",
        "  y_preds_new = model_0(X_test)\n",
        "\n",
        "plot_predictions(predictions=y_preds_new)"
      ],
      "metadata": {
        "colab": {
          "base_uri": "https://localhost:8080/",
          "height": 599
        },
        "id": "lgDrTd_XUPyH",
        "outputId": "4c2b5e92-468d-4b7c-b905-847e2b2c922f"
      },
      "execution_count": 18,
      "outputs": [
        {
          "output_type": "display_data",
          "data": {
            "text/plain": [
              "<Figure size 1000x700 with 1 Axes>"
            ],
            "image/png": "[encoded data removed]"
          },
          "metadata": {}
        }
      ]
    },
    {
      "cell_type": "code",
      "source": [
        "model_0.state_dict()"
      ],
      "metadata": {
        "colab": {
          "base_uri": "https://localhost:8080/"
        },
        "outputId": "2348dde5-929c-40aa-da78-7b4024371fba",
        "id": "GkWLmC2-TFIl"
      },
      "execution_count": 19,
      "outputs": [
        {
          "output_type": "execute_result",
          "data": {
            "text/plain": [
              "OrderedDict([('weight', tensor([0.6990])), ('bias', tensor([0.3093]))])"
            ]
          },
          "metadata": {},
          "execution_count": 19
        }
      ]
    },
    {
      "cell_type": "markdown",
      "source": [
        "## Saving/loading a model\n",
        "\n",
        "There are three main methods to save and load a model in PyTorch\n",
        "\n",
        "1. `torch.save()` - Allows you to save a PyTorch object in Python's pickle format\n",
        "2. `torch.load()` - Allows you to load a PyTorch object\n",
        "3. `torch.nn.Module.load_state_dict()` - Allows to load a model's saved state dictionary"
      ],
      "metadata": {
        "id": "T9qiGXCif5Wd"
      }
    },
    {
      "cell_type": "markdown",
      "source": [
        "### Saving a model"
      ],
      "metadata": {
        "id": "-wiNz1LUmB7O"
      }
    },
    {
      "cell_type": "code",
      "source": [
        "# Saving our PyTorch model\n",
        "# 1. Create a models directory\n",
        "MODEL_PATH = Path(\"models\")\n",
        "MODEL_PATH.mkdir(parents=True, exist_ok=True)\n",
        "\n",
        "# 2. Create a models save path\n",
        "MODEL_NAME = Path(\"01_pytorch_workflow_model_0.pt\")\n",
        "\n",
        "MODEL_SAVE_PATH = MODEL_PATH / MODEL_NAME\n",
        "MODEL_SAVE_PATH\n",
        "\n",
        "# 3. Save the model state_dict() (recomended by PyTorch)\n",
        "print(f\"Saving model to: {MODEL_SAVE_PATH}\")\n",
        "torch.save(model_0.state_dict(), MODEL_SAVE_PATH)"
      ],
      "metadata": {
        "colab": {
          "base_uri": "https://localhost:8080/"
        },
        "id": "6fLfhNh2f7Jw",
        "outputId": "ad41e452-51aa-4605-b31c-b5746b269f95"
      },
      "execution_count": 20,
      "outputs": [
        {
          "output_type": "stream",
          "name": "stdout",
          "text": [
            "Saving model to: models/01_pytorch_workflow_model_0.pt\n"
          ]
        }
      ]
    },
    {
      "cell_type": "code",
      "source": [
        "!ls -l models"
      ],
      "metadata": {
        "colab": {
          "base_uri": "https://localhost:8080/"
        },
        "id": "mQ55QX4skZUp",
        "outputId": "16e4f37f-c17a-44f2-d42f-caab9b2ddfd1"
      },
      "execution_count": 21,
      "outputs": [
        {
          "output_type": "stream",
          "name": "stdout",
          "text": [
            "total 4\n",
            "-rw-r--r-- 1 root root 1680 Apr 18 22:17 01_pytorch_workflow_model_0.pt\n"
          ]
        }
      ]
    },
    {
      "cell_type": "markdown",
      "source": [
        "### Loading a model\n",
        "\n",
        "Since we saved our model `state_dict()` rather than the entire model, we'll create a new instance of the model and load the saved `state_dict()` into it."
      ],
      "metadata": {
        "id": "Ek3h_O8Ll9sy"
      }
    },
    {
      "cell_type": "code",
      "source": [
        "# Create a new instance of the model\n",
        "loaded_model_0 = LinearRegressionModel()\n",
        "print(loaded_model_0.state_dict())\n",
        "\n",
        "# Load the saved state_dict()\n",
        "loaded_model_0.load_state_dict(torch.load(MODEL_SAVE_PATH))\n",
        "\n",
        "print(loaded_model_0.state_dict())"
      ],
      "metadata": {
        "colab": {
          "base_uri": "https://localhost:8080/"
        },
        "id": "AyyZg1MvlP06",
        "outputId": "7233fe1b-8057-49d5-8a77-e36527f931ad"
      },
      "execution_count": 22,
      "outputs": [
        {
          "output_type": "stream",
          "name": "stdout",
          "text": [
            "OrderedDict([('weight', tensor([0.3367])), ('bias', tensor([0.1288]))])\n",
            "OrderedDict([('weight', tensor([0.6990])), ('bias', tensor([0.3093]))])\n"
          ]
        }
      ]
    },
    {
      "cell_type": "code",
      "source": [
        "# Make prediction with the loaded model\n",
        "loaded_model_0.eval()\n",
        "with torch.inference_mode():\n",
        "  loaded_model_preds = loaded_model_0(X_test)\n",
        "\n",
        "plot_predictions(predictions=loaded_model_preds)"
      ],
      "metadata": {
        "colab": {
          "base_uri": "https://localhost:8080/",
          "height": 599
        },
        "id": "UWmEV11_lhKh",
        "outputId": "b5eecd4a-1a6f-4506-e3de-f26459c49aaf"
      },
      "execution_count": 23,
      "outputs": [
        {
          "output_type": "display_data",
          "data": {
            "text/plain": [
              "<Figure size 1000x700 with 1 Axes>"
            ],
            "image/png": "[encoded data removed]"
          },
          "metadata": {}
        }
      ]
    },
    {
      "cell_type": "markdown",
      "source": [
        "## Putting it all together\n",
        "\n",
        "Let's go back through all the steps above eand see it all in one place."
      ],
      "metadata": {
        "id": "GENnjj8isFSE"
      }
    },
    {
      "cell_type": "markdown",
      "source": [
        "### Data"
      ],
      "metadata": {
        "id": "-wnztvLZt_XM"
      }
    },
    {
      "cell_type": "code",
      "source": [
        "# Create known parameters\n",
        "weight = 0.13\n",
        "bias = 0.12\n",
        "\n",
        "# Create data\n",
        "start = 0\n",
        "end = 30\n",
        "step = 0.42\n",
        "X = torch.arange(start, end, step).unsqueeze(dim=1)\n",
        "y = X * weight + bias\n",
        "\n",
        "X[:10], y[:10]"
      ],
      "metadata": {
        "colab": {
          "base_uri": "https://localhost:8080/"
        },
        "id": "RMAavCy_rkBC",
        "outputId": "6bb7cfcb-70ac-47d1-b219-464542f43e63"
      },
      "execution_count": 24,
      "outputs": [
        {
          "output_type": "execute_result",
          "data": {
            "text/plain": [
              "(tensor([[0.0000],\n",
              "         [0.4200],\n",
              "         [0.8400],\n",
              "         [1.2600],\n",
              "         [1.6800],\n",
              "         [2.1000],\n",
              "         [2.5200],\n",
              "         [2.9400],\n",
              "         [3.3600],\n",
              "         [3.7800]]),\n",
              " tensor([[0.1200],\n",
              "         [0.1746],\n",
              "         [0.2292],\n",
              "         [0.2838],\n",
              "         [0.3384],\n",
              "         [0.3930],\n",
              "         [0.4476],\n",
              "         [0.5022],\n",
              "         [0.5568],\n",
              "         [0.6114]]))"
            ]
          },
          "metadata": {},
          "execution_count": 24
        }
      ]
    },
    {
      "cell_type": "code",
      "source": [
        "len(X), len(y)"
      ],
      "metadata": {
        "colab": {
          "base_uri": "https://localhost:8080/"
        },
        "id": "_TLCES0sulbg",
        "outputId": "8490040b-e827-4b37-ccce-1f21dffe93c8"
      },
      "execution_count": 25,
      "outputs": [
        {
          "output_type": "execute_result",
          "data": {
            "text/plain": [
              "(72, 72)"
            ]
          },
          "metadata": {},
          "execution_count": 25
        }
      ]
    },
    {
      "cell_type": "code",
      "source": [
        "train_split = int(len(X) * 0.8)\n",
        "X_train, y_train = X[:train_split], y[:train_split]\n",
        "X_test, y_test = X[train_split:], y[train_split:]\n",
        "\n",
        "len(X_train), len(y_train), len(X_test), len(y_test)"
      ],
      "metadata": {
        "colab": {
          "base_uri": "https://localhost:8080/"
        },
        "id": "UG2maLrju-BK",
        "outputId": "0e626fa6-8d42-49de-e1e0-1e2c7b6c741e"
      },
      "execution_count": 26,
      "outputs": [
        {
          "output_type": "execute_result",
          "data": {
            "text/plain": [
              "(57, 57, 15, 15)"
            ]
          },
          "metadata": {},
          "execution_count": 26
        }
      ]
    },
    {
      "cell_type": "code",
      "source": [
        "plot_predictions(X_train, y_train, X_test, y_test)"
      ],
      "metadata": {
        "colab": {
          "base_uri": "https://localhost:8080/",
          "height": 599
        },
        "id": "7Yos5kGTvJhC",
        "outputId": "1e5f9bbe-46bb-460d-c521-72c2ea720a85"
      },
      "execution_count": 27,
      "outputs": [
        {
          "output_type": "display_data",
          "data": {
            "text/plain": [
              "<Figure size 1000x700 with 1 Axes>"
            ],
            "image/png": "[encoded data removed]"
          },
          "metadata": {}
        }
      ]
    },
    {
      "cell_type": "markdown",
      "source": [
        "### Model"
      ],
      "metadata": {
        "id": "8b0iQ9zawbfN"
      }
    },
    {
      "cell_type": "code",
      "source": [
        "# Create a new class that subclasses nn.Module\n",
        "class LinearRegressionModel(nn.Module):\n",
        "  def __init__(self):\n",
        "    super().__init__() # Initializate the nn.Module\n",
        "\n",
        "    # Create the weight/bias parameters\n",
        "    self.weight = nn.Parameter(torch.randn(1,\n",
        "                                           requires_grad=True,\n",
        "                                           dtype=torch.float32\n",
        "                                           ))\n",
        "\n",
        "    self.bias = nn.Parameter(torch.randn(1,\n",
        "                                         requires_grad=True,\n",
        "                                         dtype=torch.float32\n",
        "                                         ))\n",
        "\n",
        "  # Overwrite the forward method\n",
        "  def forward(self, x: torch.Tensor) -> torch.Tensor:\n",
        "    return self.weight * x + self.bias"
      ],
      "metadata": {
        "id": "MIwlh3zQvsm5"
      },
      "execution_count": 28,
      "outputs": []
    },
    {
      "cell_type": "code",
      "source": [
        "model = LinearRegressionModel()\n",
        "model.state_dict()"
      ],
      "metadata": {
        "colab": {
          "base_uri": "https://localhost:8080/"
        },
        "id": "DsBAv4f4xiOd",
        "outputId": "bf97845d-62da-42e6-fbc5-09c73455d35c"
      },
      "execution_count": 29,
      "outputs": [
        {
          "output_type": "execute_result",
          "data": {
            "text/plain": [
              "OrderedDict([('weight', tensor([0.2345])), ('bias', tensor([0.2303]))])"
            ]
          },
          "metadata": {},
          "execution_count": 29
        }
      ]
    },
    {
      "cell_type": "code",
      "source": [
        "weight, bias"
      ],
      "metadata": {
        "colab": {
          "base_uri": "https://localhost:8080/"
        },
        "id": "erEBTsLlxl4e",
        "outputId": "ba98a067-9c99-49c2-ad49-e22c1c5c0113"
      },
      "execution_count": 30,
      "outputs": [
        {
          "output_type": "execute_result",
          "data": {
            "text/plain": [
              "(0.13, 0.12)"
            ]
          },
          "metadata": {},
          "execution_count": 30
        }
      ]
    },
    {
      "cell_type": "code",
      "source": [
        "# Setting up device agnostic code\n",
        "device = \"cuda\" if torch.cuda.is_available() else \"cpu\"\n",
        "print(f\"Using device: {device}\")\n",
        "\n",
        "model.to(device)\n",
        "X_train = X_train.to(device)\n",
        "X_test = X_test.to(device)\n",
        "y_train = y_train.to(device)\n",
        "y_test = y_test.to(device)"
      ],
      "metadata": {
        "colab": {
          "base_uri": "https://localhost:8080/"
        },
        "id": "mmgT_A3f8bEE",
        "outputId": "86f3513c-9bc2-4f23-b717-ef42d57c6ea4"
      },
      "execution_count": 31,
      "outputs": [
        {
          "output_type": "stream",
          "name": "stdout",
          "text": [
            "Using device: cuda\n"
          ]
        }
      ]
    },
    {
      "cell_type": "markdown",
      "source": [
        "### Training"
      ],
      "metadata": {
        "id": "KQw9I9kBx0wH"
      }
    },
    {
      "cell_type": "code",
      "source": [
        "# Define loss function and optimizer\n",
        "loss_fn = torch.nn.MSELoss()\n",
        "optimizer = torch.optim.SGD(model.parameters(),\n",
        "                            lr=0.0001)"
      ],
      "metadata": {
        "id": "ur8aKYgexuiD"
      },
      "execution_count": 32,
      "outputs": []
    },
    {
      "cell_type": "code",
      "source": [
        "# Create optimizing loop (train/test loop)\n",
        "\n",
        "def optimize_loop(epochs=100,\n",
        "                  loss_fn=loss_fn,\n",
        "                  optimizer=optimizer,\n",
        "                  X_train=X_train,\n",
        "                  y_train=y_train,\n",
        "                  X_test=X_test,\n",
        "                  y_test=y_test,\n",
        "                  save=5):\n",
        "\n",
        "  epoch_count = []\n",
        "  train_loss = []\n",
        "  test_loss_values = []\n",
        "\n",
        "  for epoch in range(epochs):\n",
        "    ### Training\n",
        "    model.train()\n",
        "\n",
        "    # 1. Make predictions\n",
        "    y_pred = model(X_train)\n",
        "\n",
        "    # 2. Calculate the loss\n",
        "    loss = loss_fn(y_pred, y_train)\n",
        "\n",
        "    # 3. Optimizer zero grad\n",
        "    optimizer.zero_grad()\n",
        "\n",
        "    # 4. Loss backward\n",
        "    loss.backward()\n",
        "\n",
        "    # 5. Optimizer step\n",
        "    optimizer.step()\n",
        "\n",
        "    ### Testing\n",
        "    model.eval()\n",
        "\n",
        "    if epoch % save == 0:\n",
        "\n",
        "      with torch.inference_mode():\n",
        "        test_pred = model(X_test)\n",
        "        test_loss = loss_fn(test_pred, y_test)\n",
        "\n",
        "      epoch_count.append(epoch)\n",
        "      train_loss.append(loss)\n",
        "      test_loss_values.append(test_loss)\n",
        "\n",
        "      print(f\"Epoch: {epoch} | Loss: {loss} | Test loss: {test_loss}\")\n",
        "      print(model.state_dict())\n",
        "      print()\n",
        "\n",
        "  # Plot the loss curves\n",
        "  plt.plot(epoch_count, np.array(torch.tensor(train_loss).detach()), label=\"Train loss\")\n",
        "  plt.plot(epoch_count, np.array(torch.tensor(test_loss_values).cpu()), label=\"Test loss\")\n",
        "  plt.title(\"Train and test loss curve\")\n",
        "  plt.ylabel(\"Loss\")\n",
        "  plt.xlabel(\"Epoch\")"
      ],
      "metadata": {
        "id": "j_D46DLhyLRw"
      },
      "execution_count": 33,
      "outputs": []
    },
    {
      "cell_type": "code",
      "source": [
        "optimize_loop(epochs=100)"
      ],
      "metadata": {
        "colab": {
          "base_uri": "https://localhost:8080/",
          "height": 1000
        },
        "id": "_ThJU7LG1cQO",
        "outputId": "eae56f02-6ed5-44ed-b42f-6b0ac742549c"
      },
      "execution_count": 34,
      "outputs": [
        {
          "output_type": "stream",
          "name": "stdout",
          "text": [
            "Epoch: 0 | Loss: 2.313431978225708 | Test loss: 7.909907341003418\n",
            "OrderedDict([('weight', tensor([0.2303], device='cuda:0')), ('bias', tensor([0.2301], device='cuda:0'))])\n",
            "\n",
            "Epoch: 5 | Loss: 1.581775426864624 | Test loss: 5.346670150756836\n",
            "OrderedDict([('weight', tensor([0.2118], device='cuda:0')), ('bias', tensor([0.2289], device='cuda:0'))])\n",
            "\n",
            "Epoch: 10 | Loss: 1.0817893743515015 | Test loss: 3.6055283546447754\n",
            "OrderedDict([('weight', tensor([0.1965], device='cuda:0')), ('bias', tensor([0.2279], device='cuda:0'))])\n",
            "\n",
            "Epoch: 15 | Loss: 0.7401178479194641 | Test loss: 2.4243552684783936\n",
            "OrderedDict([('weight', tensor([0.1838], device='cuda:0')), ('bias', tensor([0.2270], device='cuda:0'))])\n",
            "\n",
            "Epoch: 20 | Loss: 0.5066324472427368 | Test loss: 1.6243418455123901\n",
            "OrderedDict([('weight', tensor([0.1734], device='cuda:0')), ('bias', tensor([0.2264], device='cuda:0'))])\n",
            "\n",
            "Epoch: 25 | Loss: 0.34707701206207275 | Test loss: 1.0835555791854858\n",
            "OrderedDict([('weight', tensor([0.1647], device='cuda:0')), ('bias', tensor([0.2258], device='cuda:0'))])\n",
            "\n",
            "Epoch: 30 | Loss: 0.23804256319999695 | Test loss: 0.7188894152641296\n",
            "OrderedDict([('weight', tensor([0.1576], device='cuda:0')), ('bias', tensor([0.2253], device='cuda:0'))])\n",
            "\n",
            "Epoch: 35 | Loss: 0.16353225708007812 | Test loss: 0.4737285077571869\n",
            "OrderedDict([('weight', tensor([0.1517], device='cuda:0')), ('bias', tensor([0.2249], device='cuda:0'))])\n",
            "\n",
            "Epoch: 40 | Loss: 0.11261439323425293 | Test loss: 0.30953189730644226\n",
            "OrderedDict([('weight', tensor([0.1468], device='cuda:0')), ('bias', tensor([0.2246], device='cuda:0'))])\n",
            "\n",
            "Epoch: 45 | Loss: 0.07781867682933807 | Test loss: 0.20008420944213867\n",
            "OrderedDict([('weight', tensor([0.1427], device='cuda:0')), ('bias', tensor([0.2243], device='cuda:0'))])\n",
            "\n",
            "Epoch: 50 | Loss: 0.054040148854255676 | Test loss: 0.12757065892219543\n",
            "OrderedDict([('weight', tensor([0.1394], device='cuda:0')), ('bias', tensor([0.2240], device='cuda:0'))])\n",
            "\n",
            "Epoch: 55 | Loss: 0.03779037669301033 | Test loss: 0.07990080118179321\n",
            "OrderedDict([('weight', tensor([0.1366], device='cuda:0')), ('bias', tensor([0.2238], device='cuda:0'))])\n",
            "\n",
            "Epoch: 60 | Loss: 0.026685480028390884 | Test loss: 0.04888121783733368\n",
            "OrderedDict([('weight', tensor([0.1344], device='cuda:0')), ('bias', tensor([0.2237], device='cuda:0'))])\n",
            "\n",
            "Epoch: 65 | Loss: 0.01909635402262211 | Test loss: 0.02896968275308609\n",
            "OrderedDict([('weight', tensor([0.1325], device='cuda:0')), ('bias', tensor([0.2235], device='cuda:0'))])\n",
            "\n",
            "Epoch: 70 | Loss: 0.013909857720136642 | Test loss: 0.01642555370926857\n",
            "OrderedDict([('weight', tensor([0.1309], device='cuda:0')), ('bias', tensor([0.2234], device='cuda:0'))])\n",
            "\n",
            "Epoch: 75 | Loss: 0.010365118272602558 | Test loss: 0.008731409907341003\n",
            "OrderedDict([('weight', tensor([0.1296], device='cuda:0')), ('bias', tensor([0.2233], device='cuda:0'))])\n",
            "\n",
            "Epoch: 80 | Loss: 0.007942327298223972 | Test loss: 0.0041990275494754314\n",
            "OrderedDict([('weight', tensor([0.1286], device='cuda:0')), ('bias', tensor([0.2232], device='cuda:0'))])\n",
            "\n",
            "Epoch: 85 | Loss: 0.006286281161010265 | Test loss: 0.0017013073666021228\n",
            "OrderedDict([('weight', tensor([0.1277], device='cuda:0')), ('bias', tensor([0.2231], device='cuda:0'))])\n",
            "\n",
            "Epoch: 90 | Loss: 0.005154151935130358 | Test loss: 0.0004897316102869809\n",
            "OrderedDict([('weight', tensor([0.1270], device='cuda:0')), ('bias', tensor([0.2230], device='cuda:0'))])\n",
            "\n",
            "Epoch: 95 | Loss: 0.004380077123641968 | Test loss: 7.093086605891585e-05\n",
            "OrderedDict([('weight', tensor([0.1264], device='cuda:0')), ('bias', tensor([0.2230], device='cuda:0'))])\n",
            "\n"
          ]
        },
        {
          "output_type": "display_data",
          "data": {
            "text/plain": [
              "<Figure size 640x480 with 1 Axes>"
            ],
            "image/png": "[encoded data removed]"
          },
          "metadata": {}
        }
      ]
    },
    {
      "cell_type": "code",
      "source": [
        "with torch.inference_mode():\n",
        "  y_preds_new = model(X_test)\n",
        "\n",
        "plot_predictions(X_train.clone().detach().cpu(),\n",
        "                 y_train.clone().detach().cpu(),\n",
        "                 X_test.clone().detach().cpu(),\n",
        "                 y_test.clone().detach().cpu(),\n",
        "                 predictions=y_preds_new.clone().detach().cpu())"
      ],
      "metadata": {
        "colab": {
          "base_uri": "https://localhost:8080/",
          "height": 599
        },
        "id": "5bsSc67q1iFe",
        "outputId": "1bfe3ad2-d496-437e-f506-660af86378fa"
      },
      "execution_count": 35,
      "outputs": [
        {
          "output_type": "display_data",
          "data": {
            "text/plain": [
              "<Figure size 1000x700 with 1 Axes>"
            ],
            "image/png": "[encoded data removed]"
          },
          "metadata": {}
        }
      ]
    },
    {
      "cell_type": "code",
      "source": [],
      "metadata": {
        "id": "qfujBxGR9Lz0"
      },
      "execution_count": 35,
      "outputs": []
    }
  ]
}